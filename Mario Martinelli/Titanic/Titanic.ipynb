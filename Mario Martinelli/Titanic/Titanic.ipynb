{
 "cells": [
  {
   "cell_type": "code",
   "execution_count": 62,
   "id": "af9efa6e",
   "metadata": {},
   "outputs": [],
   "source": [
    "import numpy as np\n",
    "import pandas as pd\n",
    "import matplotlib.pyplot as plt\n",
    "from pandas.plotting import scatter_matrix\n",
    "from scipy import constants\n",
    "from scipy import stats\n",
    "from sklearn.linear_model import LinearRegression"
   ]
  },
  {
   "cell_type": "code",
   "execution_count": 63,
   "id": "f650de74",
   "metadata": {},
   "outputs": [
    {
     "data": {
      "text/html": [
       "<div>\n",
       "<style scoped>\n",
       "    .dataframe tbody tr th:only-of-type {\n",
       "        vertical-align: middle;\n",
       "    }\n",
       "\n",
       "    .dataframe tbody tr th {\n",
       "        vertical-align: top;\n",
       "    }\n",
       "\n",
       "    .dataframe thead th {\n",
       "        text-align: right;\n",
       "    }\n",
       "</style>\n",
       "<table border=\"1\" class=\"dataframe\">\n",
       "  <thead>\n",
       "    <tr style=\"text-align: right;\">\n",
       "      <th></th>\n",
       "      <th>PassengerId</th>\n",
       "      <th>Survived</th>\n",
       "      <th>Pclass</th>\n",
       "      <th>Name</th>\n",
       "      <th>Sex</th>\n",
       "      <th>Age</th>\n",
       "      <th>SibSp</th>\n",
       "      <th>Parch</th>\n",
       "      <th>Ticket</th>\n",
       "      <th>Fare</th>\n",
       "      <th>Cabin</th>\n",
       "      <th>Embarked</th>\n",
       "    </tr>\n",
       "  </thead>\n",
       "  <tbody>\n",
       "    <tr>\n",
       "      <th>0</th>\n",
       "      <td>1</td>\n",
       "      <td>0</td>\n",
       "      <td>3</td>\n",
       "      <td>Braund, Mr. Owen Harris</td>\n",
       "      <td>male</td>\n",
       "      <td>22.0</td>\n",
       "      <td>1</td>\n",
       "      <td>0</td>\n",
       "      <td>A/5 21171</td>\n",
       "      <td>7.2500</td>\n",
       "      <td>NaN</td>\n",
       "      <td>S</td>\n",
       "    </tr>\n",
       "    <tr>\n",
       "      <th>1</th>\n",
       "      <td>2</td>\n",
       "      <td>1</td>\n",
       "      <td>1</td>\n",
       "      <td>Cumings, Mrs. John Bradley (Florence Briggs Th...</td>\n",
       "      <td>female</td>\n",
       "      <td>38.0</td>\n",
       "      <td>1</td>\n",
       "      <td>0</td>\n",
       "      <td>PC 17599</td>\n",
       "      <td>71.2833</td>\n",
       "      <td>C85</td>\n",
       "      <td>C</td>\n",
       "    </tr>\n",
       "    <tr>\n",
       "      <th>2</th>\n",
       "      <td>3</td>\n",
       "      <td>1</td>\n",
       "      <td>3</td>\n",
       "      <td>Heikkinen, Miss. Laina</td>\n",
       "      <td>female</td>\n",
       "      <td>26.0</td>\n",
       "      <td>0</td>\n",
       "      <td>0</td>\n",
       "      <td>STON/O2. 3101282</td>\n",
       "      <td>7.9250</td>\n",
       "      <td>NaN</td>\n",
       "      <td>S</td>\n",
       "    </tr>\n",
       "    <tr>\n",
       "      <th>3</th>\n",
       "      <td>4</td>\n",
       "      <td>1</td>\n",
       "      <td>1</td>\n",
       "      <td>Futrelle, Mrs. Jacques Heath (Lily May Peel)</td>\n",
       "      <td>female</td>\n",
       "      <td>35.0</td>\n",
       "      <td>1</td>\n",
       "      <td>0</td>\n",
       "      <td>113803</td>\n",
       "      <td>53.1000</td>\n",
       "      <td>C123</td>\n",
       "      <td>S</td>\n",
       "    </tr>\n",
       "    <tr>\n",
       "      <th>4</th>\n",
       "      <td>5</td>\n",
       "      <td>0</td>\n",
       "      <td>3</td>\n",
       "      <td>Allen, Mr. William Henry</td>\n",
       "      <td>male</td>\n",
       "      <td>35.0</td>\n",
       "      <td>0</td>\n",
       "      <td>0</td>\n",
       "      <td>373450</td>\n",
       "      <td>8.0500</td>\n",
       "      <td>NaN</td>\n",
       "      <td>S</td>\n",
       "    </tr>\n",
       "  </tbody>\n",
       "</table>\n",
       "</div>"
      ],
      "text/plain": [
       "   PassengerId  Survived  Pclass  \\\n",
       "0            1         0       3   \n",
       "1            2         1       1   \n",
       "2            3         1       3   \n",
       "3            4         1       1   \n",
       "4            5         0       3   \n",
       "\n",
       "                                                Name     Sex   Age  SibSp  \\\n",
       "0                            Braund, Mr. Owen Harris    male  22.0      1   \n",
       "1  Cumings, Mrs. John Bradley (Florence Briggs Th...  female  38.0      1   \n",
       "2                             Heikkinen, Miss. Laina  female  26.0      0   \n",
       "3       Futrelle, Mrs. Jacques Heath (Lily May Peel)  female  35.0      1   \n",
       "4                           Allen, Mr. William Henry    male  35.0      0   \n",
       "\n",
       "   Parch            Ticket     Fare Cabin Embarked  \n",
       "0      0         A/5 21171   7.2500   NaN        S  \n",
       "1      0          PC 17599  71.2833   C85        C  \n",
       "2      0  STON/O2. 3101282   7.9250   NaN        S  \n",
       "3      0            113803  53.1000  C123        S  \n",
       "4      0            373450   8.0500   NaN        S  "
      ]
     },
     "execution_count": 63,
     "metadata": {},
     "output_type": "execute_result"
    }
   ],
   "source": [
    "df = pd.read_csv(\"train.csv\")\n",
    "df.head()"
   ]
  },
  {
   "cell_type": "code",
   "execution_count": 64,
   "id": "a105522b",
   "metadata": {},
   "outputs": [
    {
     "name": "stdout",
     "output_type": "stream",
     "text": [
      "<class 'pandas.core.frame.DataFrame'>\n",
      "RangeIndex: 891 entries, 0 to 890\n",
      "Data columns (total 12 columns):\n",
      " #   Column       Non-Null Count  Dtype  \n",
      "---  ------       --------------  -----  \n",
      " 0   PassengerId  891 non-null    int64  \n",
      " 1   Survived     891 non-null    int64  \n",
      " 2   Pclass       891 non-null    int64  \n",
      " 3   Name         891 non-null    object \n",
      " 4   Sex          891 non-null    object \n",
      " 5   Age          714 non-null    float64\n",
      " 6   SibSp        891 non-null    int64  \n",
      " 7   Parch        891 non-null    int64  \n",
      " 8   Ticket       891 non-null    object \n",
      " 9   Fare         891 non-null    float64\n",
      " 10  Cabin        204 non-null    object \n",
      " 11  Embarked     889 non-null    object \n",
      "dtypes: float64(2), int64(5), object(5)\n",
      "memory usage: 83.7+ KB\n"
     ]
    }
   ],
   "source": [
    "df.info()"
   ]
  },
  {
   "cell_type": "markdown",
   "id": "a4cbf59b",
   "metadata": {},
   "source": [
    "***\n",
    "\n",
    "# 2. IDADE\n",
    "\n",
    "- De acordo com os relatos, as primeiras pessoas que embarcaram nos botes salva-vidas foram mulheres e crianças. A coluna 'Sex' está completa, mas a coluna 'Age' está com múltiplos valores faltando;\n",
    "- Primeiro passo é completar essas linhas com valores, principalmente para crianças do sexo masculino;"
   ]
  },
  {
   "cell_type": "markdown",
   "id": "eeea2a93",
   "metadata": {},
   "source": [
    "### 2.1. ENCONTRAR QUAIS DOS PASSAGEIROS SEM IDADE SÃO CRIANÇAS DO SEXO MASCULINO"
   ]
  },
  {
   "cell_type": "markdown",
   "id": "ee498cad",
   "metadata": {},
   "source": [
    "`Separar quais pessoas não têm registro de idade e são do sexo masculino:`"
   ]
  },
  {
   "cell_type": "code",
   "execution_count": 65,
   "id": "8d4c18a0",
   "metadata": {
    "scrolled": false
   },
   "outputs": [],
   "source": [
    "age = df[df['Age'].isna()]\n",
    "maleAge = age[age['Sex']==\"male\"]"
   ]
  },
  {
   "cell_type": "markdown",
   "id": "efba68b1",
   "metadata": {},
   "source": [
    "`Identificar qual o Index dos meninos sem idade registrada:`"
   ]
  },
  {
   "cell_type": "code",
   "execution_count": 66,
   "id": "4823cdc0",
   "metadata": {},
   "outputs": [],
   "source": [
    "maleKids = maleAge[maleAge['Name'].str.contains(\"Master.\", regex=False)]\n",
    "listaGarotos = maleKids.index"
   ]
  },
  {
   "cell_type": "markdown",
   "id": "8fda7dd7",
   "metadata": {},
   "source": [
    "- Apenas 4 pessoas das que não possuem idade registrada são crianças e do sexo masculino (assim como Mrs. é utilizado para se referir à uma senhora, Master. é utilizado para se referir à um menino);\n",
    "- Ainda há diversas idades em branco, falta definir uma media a seguir para essas idades;\n",
    "- Além disso, há idades com casas decimais: se for menor que 1 ano e para idades estimadas. Arredondar todas para cima e transformar em int."
   ]
  },
  {
   "cell_type": "markdown",
   "id": "e216377a",
   "metadata": {},
   "source": [
    "### 2.2. ATRIBUINDO IDADE MEDIA (SELECIONANDO O MELHOR MÉTODO) PARA AS MULHERES"
   ]
  },
  {
   "cell_type": "markdown",
   "id": "739ce9ad",
   "metadata": {},
   "source": [
    "`Media por Mrs. ou Miss.:`"
   ]
  },
  {
   "cell_type": "code",
   "execution_count": 67,
   "id": "e90cfeeb",
   "metadata": {},
   "outputs": [
    {
     "data": {
      "text/plain": [
       "(36, 22)"
      ]
     },
     "execution_count": 67,
     "metadata": {},
     "output_type": "execute_result"
    }
   ],
   "source": [
    "mulheres = df[df['Sex']=='female']\n",
    "avrg_Mrs = round(mulheres[mulheres['Name'].str.contains('Mrs.')]['Age'].mean())\n",
    "avrg_Miss = round(mulheres[mulheres['Name'].str.contains('Miss.')]['Age'].mean())\n",
    "avrg_Mrs, avrg_Miss"
   ]
  },
  {
   "cell_type": "markdown",
   "id": "7f3c5bff",
   "metadata": {},
   "source": [
    "`Media por classe do ticket:`"
   ]
  },
  {
   "cell_type": "code",
   "execution_count": 68,
   "id": "94c472f3",
   "metadata": {},
   "outputs": [
    {
     "data": {
      "text/plain": [
       "(35, 29, 22)"
      ]
     },
     "execution_count": 68,
     "metadata": {},
     "output_type": "execute_result"
    }
   ],
   "source": [
    "avrg_m1 = round(mulheres[mulheres['Pclass']==1]['Age'].mean())\n",
    "avrg_m2 = round(mulheres[mulheres['Pclass']==2]['Age'].mean())\n",
    "avrg_m3 = round(mulheres[mulheres['Pclass']==3]['Age'].mean())\n",
    "avrg_m1, avrg_m2, avrg_m3"
   ]
  },
  {
   "cell_type": "markdown",
   "id": "4af4b346",
   "metadata": {},
   "source": [
    "`Escolhida media por classe do ticket, criar lista com Index das mulheres sem idade separadas por classe de ticket:`"
   ]
  },
  {
   "cell_type": "code",
   "execution_count": 69,
   "id": "666534d9",
   "metadata": {},
   "outputs": [],
   "source": [
    "mulheres_sem_idade = age[age['Sex']==\"female\"]\n",
    "mulheres_1class = mulheres_sem_idade[mulheres_sem_idade['Pclass']==1].index\n",
    "mulheres_2class = mulheres_sem_idade[mulheres_sem_idade['Pclass']==2].index\n",
    "mulheres_3class = mulheres_sem_idade[mulheres_sem_idade['Pclass']==3].index"
   ]
  },
  {
   "cell_type": "markdown",
   "id": "67a66b4d",
   "metadata": {},
   "source": [
    "`Medias inseridas nos valores em branco para as mulheres:`"
   ]
  },
  {
   "cell_type": "code",
   "execution_count": 70,
   "id": "bafa70c0",
   "metadata": {},
   "outputs": [],
   "source": [
    "df.loc[mulheres_1class,'Age']=avrg_m1\n",
    "df.loc[mulheres_2class,'Age']=avrg_m2\n",
    "df.loc[mulheres_3class,'Age']=avrg_m3"
   ]
  },
  {
   "cell_type": "markdown",
   "id": "828e7f90",
   "metadata": {},
   "source": [
    "### 2.3. ATRIBUINDO IDADE MEDIA (SELECIONANDO O MELHOR MÉTODO) PARA OS HOMENS"
   ]
  },
  {
   "cell_type": "markdown",
   "id": "3fc44c4f",
   "metadata": {},
   "source": [
    "`Media por Mr. ou Master.:`"
   ]
  },
  {
   "cell_type": "code",
   "execution_count": 71,
   "id": "dca97d05",
   "metadata": {},
   "outputs": [
    {
     "data": {
      "text/plain": [
       "(32, 5)"
      ]
     },
     "execution_count": 71,
     "metadata": {},
     "output_type": "execute_result"
    }
   ],
   "source": [
    "homens = df[df['Sex']=='male']\n",
    "avrg_Mr = round(homens[homens['Name'].str.contains('Mr.')]['Age'].mean())\n",
    "avrg_Master = round(homens[homens['Name'].str.contains('Master.')]['Age'].mean())\n",
    "avrg_Mr, avrg_Master"
   ]
  },
  {
   "cell_type": "markdown",
   "id": "51d9d89e",
   "metadata": {},
   "source": [
    "`Media por classe do ticket:`"
   ]
  },
  {
   "cell_type": "code",
   "execution_count": 72,
   "id": "87225bc4",
   "metadata": {},
   "outputs": [
    {
     "data": {
      "text/plain": [
       "(41, 31, 27)"
      ]
     },
     "execution_count": 72,
     "metadata": {},
     "output_type": "execute_result"
    }
   ],
   "source": [
    "avrg_h1 = round(homens[homens['Pclass']==1]['Age'].mean())\n",
    "avrg_h2 = round(homens[homens['Pclass']==2]['Age'].mean())\n",
    "avrg_h3 = round(homens[homens['Pclass']==3]['Age'].mean())\n",
    "avrg_h1, avrg_h2, avrg_h3"
   ]
  },
  {
   "cell_type": "markdown",
   "id": "ba597d73",
   "metadata": {},
   "source": [
    "`Escolhida media por classe do ticket, criar lista com Index dos homens sem idade separados por classe de ticket:`"
   ]
  },
  {
   "cell_type": "code",
   "execution_count": 73,
   "id": "facc1315",
   "metadata": {},
   "outputs": [],
   "source": [
    "homens_1class = maleAge[maleAge['Pclass']==1].index\n",
    "homens_2class = maleAge[maleAge['Pclass']==2].index\n",
    "homens_3class = maleAge[maleAge['Pclass']==3].index"
   ]
  },
  {
   "cell_type": "markdown",
   "id": "8be6ec67",
   "metadata": {},
   "source": [
    "`Medias inseridas nos valores em branco para os homens (para meninos, media utilizado foi avrg_Master):`"
   ]
  },
  {
   "cell_type": "code",
   "execution_count": 74,
   "id": "3c65e2f1",
   "metadata": {},
   "outputs": [],
   "source": [
    "df.loc[homens_1class,'Age']=avrg_h1\n",
    "df.loc[homens_2class,'Age']=avrg_h2\n",
    "df.loc[homens_3class,'Age']=avrg_h3\n",
    "df.loc[listaGarotos,'Age']=avrg_Master"
   ]
  },
  {
   "cell_type": "markdown",
   "id": "fea1b9f1",
   "metadata": {},
   "source": [
    "***\n",
    "\n",
    "# 3. TRANSFORMANDO COLUNAS\n",
    "- Agora, já sabemos todas as pessoas com prioridade de embarcar nos barcos salva-vidas: mulheres e crianças. Será criada uma coluna para identificar essas pessoas ('Priority'), em que o valor 1 as representa, e 0 representa os demais passageiros\n",
    "- Transformar coluna 'Sex' para: 1 se male, e 2 se female\n",
    "- Arredondar valores das colunas 'Age' e 'Fare' e transformá-las em int64 type\n",
    "- Transformar coluna 'Embarked' para: 1 se C, 2 se Q, e 3 se S. Completar os dois valores faltando\n",
    "- Retirar colunas desnecessárias ('Name', 'Ticket', 'Cabin')"
   ]
  },
  {
   "cell_type": "markdown",
   "id": "3e7d694c",
   "metadata": {},
   "source": [
    "### 3.1. DEFININDO A COLUNA 'PRIORITY'"
   ]
  },
  {
   "cell_type": "markdown",
   "id": "951bd71f",
   "metadata": {},
   "source": [
    "`Colocar valor 1 para passageiros(as) com prioridade:`"
   ]
  },
  {
   "cell_type": "code",
   "execution_count": 75,
   "id": "4b086616",
   "metadata": {},
   "outputs": [],
   "source": [
    "priority = []\n",
    "for row in df['Sex']:\n",
    "    if row == 'female':\n",
    "        priority.append(1)\n",
    "    else: priority.append(0)\n",
    "\n",
    "df['Priority'] = priority\n",
    "\n",
    "df.loc[listaGarotos,'Priority']=1"
   ]
  },
  {
   "cell_type": "markdown",
   "id": "325e2eb2",
   "metadata": {},
   "source": [
    "### 3.2. ALTERANDO COLUNA 'SEX'"
   ]
  },
  {
   "cell_type": "markdown",
   "id": "fd11560a",
   "metadata": {},
   "source": [
    "`Transformar 'male' e 'female' em 1 e 2, respectivamente:`"
   ]
  },
  {
   "cell_type": "code",
   "execution_count": 76,
   "id": "7ff5448a",
   "metadata": {},
   "outputs": [],
   "source": [
    "lista_homens = homens.index\n",
    "lista_mulheres = mulheres.index\n",
    "df.loc[lista_homens,'Sex']=int(1)\n",
    "df.loc[lista_mulheres,'Sex']=int(2)\n",
    "df = df.astype({'Sex':'int64'})"
   ]
  },
  {
   "cell_type": "markdown",
   "id": "54d6e868",
   "metadata": {},
   "source": [
    "### 3.3. ALTERANDO COLUNAS 'AGE' E 'FARE'"
   ]
  },
  {
   "cell_type": "markdown",
   "id": "7e1e45b3",
   "metadata": {},
   "source": [
    "`Arredondar idades e transformar em inteiros:`"
   ]
  },
  {
   "cell_type": "code",
   "execution_count": 77,
   "id": "fae84335",
   "metadata": {},
   "outputs": [],
   "source": [
    "df['Age'] = df['Age'].round()\n",
    "df = df.astype({'Age':'int64'})"
   ]
  },
  {
   "cell_type": "markdown",
   "id": "b8340783",
   "metadata": {},
   "source": [
    "`Arredondar preço das passagens e transformar em inteiros:`"
   ]
  },
  {
   "cell_type": "code",
   "execution_count": 78,
   "id": "e4ebff64",
   "metadata": {},
   "outputs": [],
   "source": [
    "df['Fare'] = df['Fare'].round()\n",
    "df = df.astype({'Fare':'int64'})"
   ]
  },
  {
   "cell_type": "markdown",
   "id": "98b5bd21",
   "metadata": {},
   "source": [
    "### 3.4. ALTERANDO COLUNA 'EMBARKED'"
   ]
  },
  {
   "cell_type": "markdown",
   "id": "f477a025",
   "metadata": {},
   "source": [
    "`Criar listas com separação por local de embarcação:`"
   ]
  },
  {
   "cell_type": "code",
   "execution_count": 79,
   "id": "428a0b56",
   "metadata": {},
   "outputs": [],
   "source": [
    "lista_embC = df[df['Embarked']=='C'].index\n",
    "lista_embQ = df[df['Embarked']=='Q'].index\n",
    "lista_embS = df[df['Embarked']=='S'].index"
   ]
  },
  {
   "cell_type": "markdown",
   "id": "b70c4d52",
   "metadata": {},
   "source": [
    "`Completar valores vazios:`"
   ]
  },
  {
   "cell_type": "code",
   "execution_count": 80,
   "id": "dcffb24d",
   "metadata": {},
   "outputs": [],
   "source": [
    "embNA = df[df['Embarked'].isna()]\n",
    "lista_embNA = df[df['Embarked'].isna()].index\n",
    "df.loc[lista_embNA,'Embarked']=3"
   ]
  },
  {
   "cell_type": "markdown",
   "id": "01379532",
   "metadata": {},
   "source": [
    "`Alterar valores na coluna:`"
   ]
  },
  {
   "cell_type": "code",
   "execution_count": 81,
   "id": "b3346d49",
   "metadata": {},
   "outputs": [],
   "source": [
    "df.loc[lista_embC,'Embarked']=1\n",
    "df.loc[lista_embQ,'Embarked']=2\n",
    "df.loc[lista_embS,'Embarked']=3\n",
    "df = df.astype({'Embarked':'int64'})"
   ]
  },
  {
   "cell_type": "markdown",
   "id": "7fc0f7ea",
   "metadata": {},
   "source": [
    "### 3.5. RETIRANDO COLUNAS DESNECESSÁRIAS PARA CALCULAR CORRELAÇÃO"
   ]
  },
  {
   "cell_type": "markdown",
   "id": "0add6855",
   "metadata": {},
   "source": [
    "`Retirar colunas 'Name', 'Ticket' e 'Cabin':`"
   ]
  },
  {
   "cell_type": "code",
   "execution_count": 82,
   "id": "1c3542ed",
   "metadata": {},
   "outputs": [],
   "source": [
    "df_int = df.drop(['PassengerId','Name','Ticket','Cabin'], inplace=False, axis=1)"
   ]
  },
  {
   "cell_type": "markdown",
   "id": "0ce00268",
   "metadata": {},
   "source": [
    "***\n",
    "# 4. CORRELAÇÃO\n",
    "- Geração dos 3 métodos de correlação: Pearson, Kendall e Spearman\n",
    "- Indicar quais features são as mais correlatas com coluna 'Survived'"
   ]
  },
  {
   "cell_type": "markdown",
   "id": "36f7c489",
   "metadata": {},
   "source": [
    "### 4.1. MÉTODOS DE CORRELAÇÃO"
   ]
  },
  {
   "cell_type": "markdown",
   "id": "170585d3",
   "metadata": {},
   "source": [
    "`Pearson:`"
   ]
  },
  {
   "cell_type": "code",
   "execution_count": 83,
   "id": "1b8dbfcd",
   "metadata": {},
   "outputs": [
    {
     "data": {
      "text/html": [
       "<div>\n",
       "<style scoped>\n",
       "    .dataframe tbody tr th:only-of-type {\n",
       "        vertical-align: middle;\n",
       "    }\n",
       "\n",
       "    .dataframe tbody tr th {\n",
       "        vertical-align: top;\n",
       "    }\n",
       "\n",
       "    .dataframe thead th {\n",
       "        text-align: right;\n",
       "    }\n",
       "</style>\n",
       "<table border=\"1\" class=\"dataframe\">\n",
       "  <thead>\n",
       "    <tr style=\"text-align: right;\">\n",
       "      <th></th>\n",
       "      <th>Survived</th>\n",
       "      <th>Pclass</th>\n",
       "      <th>Sex</th>\n",
       "      <th>Age</th>\n",
       "      <th>SibSp</th>\n",
       "      <th>Parch</th>\n",
       "      <th>Fare</th>\n",
       "      <th>Embarked</th>\n",
       "      <th>Priority</th>\n",
       "    </tr>\n",
       "  </thead>\n",
       "  <tbody>\n",
       "    <tr>\n",
       "      <th>Survived</th>\n",
       "      <td>1.0</td>\n",
       "      <td>-0.338481</td>\n",
       "      <td>0.543351</td>\n",
       "      <td>-0.069939</td>\n",
       "      <td>-0.035322</td>\n",
       "      <td>0.081629</td>\n",
       "      <td>0.257088</td>\n",
       "      <td>-0.167675</td>\n",
       "      <td>0.544043</td>\n",
       "    </tr>\n",
       "  </tbody>\n",
       "</table>\n",
       "</div>"
      ],
      "text/plain": [
       "          Survived    Pclass       Sex       Age     SibSp     Parch  \\\n",
       "Survived       1.0 -0.338481  0.543351 -0.069939 -0.035322  0.081629   \n",
       "\n",
       "              Fare  Embarked  Priority  \n",
       "Survived  0.257088 -0.167675  0.544043  "
      ]
     },
     "execution_count": 83,
     "metadata": {},
     "output_type": "execute_result"
    }
   ],
   "source": [
    "df_int.corr(method='pearson').head(1)"
   ]
  },
  {
   "cell_type": "markdown",
   "id": "6c5c2b21",
   "metadata": {},
   "source": [
    "`Kendall:`"
   ]
  },
  {
   "cell_type": "code",
   "execution_count": 84,
   "id": "b41b8500",
   "metadata": {},
   "outputs": [
    {
     "data": {
      "text/html": [
       "<div>\n",
       "<style scoped>\n",
       "    .dataframe tbody tr th:only-of-type {\n",
       "        vertical-align: middle;\n",
       "    }\n",
       "\n",
       "    .dataframe tbody tr th {\n",
       "        vertical-align: top;\n",
       "    }\n",
       "\n",
       "    .dataframe thead th {\n",
       "        text-align: right;\n",
       "    }\n",
       "</style>\n",
       "<table border=\"1\" class=\"dataframe\">\n",
       "  <thead>\n",
       "    <tr style=\"text-align: right;\">\n",
       "      <th></th>\n",
       "      <th>Survived</th>\n",
       "      <th>Pclass</th>\n",
       "      <th>Sex</th>\n",
       "      <th>Age</th>\n",
       "      <th>SibSp</th>\n",
       "      <th>Parch</th>\n",
       "      <th>Fare</th>\n",
       "      <th>Embarked</th>\n",
       "      <th>Priority</th>\n",
       "    </tr>\n",
       "  </thead>\n",
       "  <tbody>\n",
       "    <tr>\n",
       "      <th>Survived</th>\n",
       "      <td>1.0</td>\n",
       "      <td>-0.323533</td>\n",
       "      <td>0.543351</td>\n",
       "      <td>-0.040274</td>\n",
       "      <td>0.085915</td>\n",
       "      <td>0.133933</td>\n",
       "      <td>0.279197</td>\n",
       "      <td>-0.155747</td>\n",
       "      <td>0.544043</td>\n",
       "    </tr>\n",
       "  </tbody>\n",
       "</table>\n",
       "</div>"
      ],
      "text/plain": [
       "          Survived    Pclass       Sex       Age     SibSp     Parch  \\\n",
       "Survived       1.0 -0.323533  0.543351 -0.040274  0.085915  0.133933   \n",
       "\n",
       "              Fare  Embarked  Priority  \n",
       "Survived  0.279197 -0.155747  0.544043  "
      ]
     },
     "execution_count": 84,
     "metadata": {},
     "output_type": "execute_result"
    }
   ],
   "source": [
    "df_int.corr(method='kendall').head(1)"
   ]
  },
  {
   "cell_type": "markdown",
   "id": "9e1fdb08",
   "metadata": {},
   "source": [
    "`Spearman:`"
   ]
  },
  {
   "cell_type": "code",
   "execution_count": 85,
   "id": "f7beef0b",
   "metadata": {},
   "outputs": [
    {
     "data": {
      "text/html": [
       "<div>\n",
       "<style scoped>\n",
       "    .dataframe tbody tr th:only-of-type {\n",
       "        vertical-align: middle;\n",
       "    }\n",
       "\n",
       "    .dataframe tbody tr th {\n",
       "        vertical-align: top;\n",
       "    }\n",
       "\n",
       "    .dataframe thead th {\n",
       "        text-align: right;\n",
       "    }\n",
       "</style>\n",
       "<table border=\"1\" class=\"dataframe\">\n",
       "  <thead>\n",
       "    <tr style=\"text-align: right;\">\n",
       "      <th></th>\n",
       "      <th>Survived</th>\n",
       "      <th>Pclass</th>\n",
       "      <th>Sex</th>\n",
       "      <th>Age</th>\n",
       "      <th>SibSp</th>\n",
       "      <th>Parch</th>\n",
       "      <th>Fare</th>\n",
       "      <th>Embarked</th>\n",
       "      <th>Priority</th>\n",
       "    </tr>\n",
       "  </thead>\n",
       "  <tbody>\n",
       "    <tr>\n",
       "      <th>Survived</th>\n",
       "      <td>1.0</td>\n",
       "      <td>-0.339668</td>\n",
       "      <td>0.543351</td>\n",
       "      <td>-0.048484</td>\n",
       "      <td>0.088879</td>\n",
       "      <td>0.138266</td>\n",
       "      <td>0.33135</td>\n",
       "      <td>-0.160196</td>\n",
       "      <td>0.544043</td>\n",
       "    </tr>\n",
       "  </tbody>\n",
       "</table>\n",
       "</div>"
      ],
      "text/plain": [
       "          Survived    Pclass       Sex       Age     SibSp     Parch     Fare  \\\n",
       "Survived       1.0 -0.339668  0.543351 -0.048484  0.088879  0.138266  0.33135   \n",
       "\n",
       "          Embarked  Priority  \n",
       "Survived -0.160196  0.544043  "
      ]
     },
     "execution_count": 85,
     "metadata": {},
     "output_type": "execute_result"
    }
   ],
   "source": [
    "df_int.corr(method='spearman').head(1)"
   ]
  },
  {
   "cell_type": "code",
   "execution_count": 86,
   "id": "2cdbbdca",
   "metadata": {},
   "outputs": [
    {
     "name": "stdout",
     "output_type": "stream",
     "text": [
      "0.5440427919484425\n",
      "8.737989754412024e-70\n"
     ]
    }
   ],
   "source": [
    "corr, p = stats.pearsonr(df_int.Survived,df_int.Priority)\n",
    "print(corr)\n",
    "print(p)"
   ]
  },
  {
   "cell_type": "code",
   "execution_count": 87,
   "id": "f2743fde",
   "metadata": {},
   "outputs": [
    {
     "data": {
      "text/plain": [
       "0.4057522223442658"
      ]
     },
     "execution_count": 87,
     "metadata": {},
     "output_type": "execute_result"
    }
   ],
   "source": [
    "x = df_int[['Pclass','Sex','Age','SibSp','Parch','Fare','Embarked','Priority']]\n",
    "y = df_int[['Survived']]\n",
    "model = LinearRegression().fit(x,y)\n",
    "r_sq = model.score(x,y)\n",
    "intercept = model.intercept_\n",
    "coeficientes = model.coef_\n",
    "r_sq"
   ]
  }
 ],
 "metadata": {
  "kernelspec": {
   "display_name": "Python 3",
   "language": "python",
   "name": "python3"
  },
  "language_info": {
   "codemirror_mode": {
    "name": "ipython",
    "version": 3
   },
   "file_extension": ".py",
   "mimetype": "text/x-python",
   "name": "python",
   "nbconvert_exporter": "python",
   "pygments_lexer": "ipython3",
   "version": "3.8.8"
  }
 },
 "nbformat": 4,
 "nbformat_minor": 5
}
