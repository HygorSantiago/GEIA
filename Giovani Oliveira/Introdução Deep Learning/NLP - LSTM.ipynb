{
 "cells": [
  {
   "cell_type": "markdown",
   "id": "fa7b1dd0-1c40-4b8f-9de1-e6ad87048bce",
   "metadata": {},
   "source": [
    "# Tokenização:"
   ]
  },
  {
   "cell_type": "code",
   "execution_count": 2,
   "id": "1915c97f-0bf9-44b3-b2a0-efabfd36b47b",
   "metadata": {
    "tags": []
   },
   "outputs": [
    {
     "name": "stdout",
     "output_type": "stream",
     "text": [
      "{'love': 1, 'my': 2, 'i': 3, 'dog': 4, 'cat': 5, 'you': 6}\n"
     ]
    }
   ],
   "source": [
    "from tensorflow.keras.preprocessing.text import Tokenizer \n",
    "\n",
    "sentences = [\n",
    "    'i love my dog',\n",
    "    'I, love my cat',\n",
    "    'You love my dog!'\n",
    "]\n",
    "\n",
    "# num_words vai priorizar as palavras que mais se repetem\n",
    "\n",
    "tokenizer = Tokenizer(num_words = 100)\n",
    "tokenizer.fit_on_texts(sentences)\n",
    "word_index = tokenizer.word_index\n",
    "print(word_index)"
   ]
  },
  {
   "cell_type": "markdown",
   "id": "81368fa8-2d16-41f3-ba0e-57d466f63037",
   "metadata": {},
   "source": [
    "Primeiro temos o Tokenizer, ele apenas atribui um numero para cada palavra"
   ]
  },
  {
   "cell_type": "markdown",
   "id": "9f89d437-d04b-46d1-b2b4-fff97e012dae",
   "metadata": {},
   "source": [
    "# Padding:"
   ]
  },
  {
   "cell_type": "code",
   "execution_count": 3,
   "id": "0bb7444f-973d-4c95-b192-fd230a053d94",
   "metadata": {
    "tags": []
   },
   "outputs": [
    {
     "name": "stdout",
     "output_type": "stream",
     "text": [
      "\n",
      "Word Index =  {'<OOV>': 1, 'my': 2, 'love': 3, 'dog': 4, 'i': 5, 'you': 6, 'cat': 7, 'do': 8, 'think': 9, 'is': 10, 'amazing': 11}\n",
      "\n",
      "Sequences =  [[5, 3, 2, 4], [5, 3, 2, 7], [6, 3, 2, 4], [8, 6, 9, 2, 4, 10, 11]]\n",
      "\n",
      "Padded Sequences:\n",
      "[[ 0  5  3  2  4]\n",
      " [ 0  5  3  2  7]\n",
      " [ 0  6  3  2  4]\n",
      " [ 9  2  4 10 11]]\n"
     ]
    }
   ],
   "source": [
    "from tensorflow.keras.preprocessing.sequence import pad_sequences\n",
    "\n",
    "sentences = [\n",
    "    'I love my dog',\n",
    "    'I love my cat',\n",
    "    'You love my dog!',\n",
    "    'Do you think my dog is amazing?'\n",
    "]\n",
    "\n",
    "# Inserimos o OOV para trabalhar com palavras que não estão catalogadas\n",
    "\n",
    "tokenizer = Tokenizer(num_words = 100, oov_token=\"<OOV>\")\n",
    "tokenizer.fit_on_texts(sentences)\n",
    "word_index = tokenizer.word_index\n",
    "\n",
    "sequences = tokenizer.texts_to_sequences(sentences)\n",
    "\n",
    "# O Pad define blocos com o mesmo tamanho para todas as sequencias\n",
    "padded = pad_sequences(sequences, maxlen=5)\n",
    "print(\"\\nWord Index = \" , word_index)\n",
    "print(\"\\nSequences = \" , sequences)\n",
    "print(\"\\nPadded Sequences:\")\n",
    "print(padded)"
   ]
  },
  {
   "cell_type": "code",
   "execution_count": 4,
   "id": "5bc6dfdb-e999-47e5-8deb-2a9df3079752",
   "metadata": {
    "tags": []
   },
   "outputs": [
    {
     "name": "stdout",
     "output_type": "stream",
     "text": [
      "\n",
      "Padded Sequences:\n",
      "[[ 0  0  0  0  5  3  2  4]\n",
      " [ 0  0  0  0  5  3  2  7]\n",
      " [ 0  0  0  0  6  3  2  4]\n",
      " [ 0  8  6  9  2  4 10 11]]\n"
     ]
    }
   ],
   "source": [
    "padded = pad_sequences(sequences, maxlen=8)\n",
    "print(\"\\nPadded Sequences:\")\n",
    "print(padded)"
   ]
  },
  {
   "cell_type": "code",
   "execution_count": 5,
   "id": "99ea2f73-e99a-47da-b920-ae6a32b6378d",
   "metadata": {
    "tags": []
   },
   "outputs": [
    {
     "name": "stdout",
     "output_type": "stream",
     "text": [
      "\n",
      "Test Sequence =  [[5, 1, 3, 2, 4], [2, 4, 1, 2, 1]]\n",
      "\n",
      "Padded Test Sequence: \n",
      "[[0 0 0 5 1 3 2 4]\n",
      " [0 0 0 2 4 1 2 1]]\n"
     ]
    }
   ],
   "source": [
    "# Testar com dados não catalogados\n",
    "\n",
    "test_data = [\n",
    "    'i really love my dog',\n",
    "    'my dog loves my manatee'\n",
    "]\n",
    "\n",
    "test_seq = tokenizer.texts_to_sequences(test_data)\n",
    "print(\"\\nTest Sequence = \", test_seq)\n",
    "\n",
    "padded = pad_sequences(test_seq, maxlen=8)\n",
    "print(\"\\nPadded Test Sequence: \")\n",
    "print(padded)"
   ]
  },
  {
   "cell_type": "markdown",
   "id": "d43cd8b1-8a68-42d4-8521-cd4bca68b46d",
   "metadata": {},
   "source": [
    "# Treino com Classificação:"
   ]
  },
  {
   "cell_type": "code",
   "execution_count": 6,
   "id": "3c275822-d2fc-4962-9318-f5c4bae5f22d",
   "metadata": {
    "tags": []
   },
   "outputs": [],
   "source": [
    "import json\n",
    "import tensorflow as tf"
   ]
  },
  {
   "cell_type": "code",
   "execution_count": 7,
   "id": "7540fb55-4d6d-4b10-a11b-536c58705ec7",
   "metadata": {
    "tags": []
   },
   "outputs": [],
   "source": [
    "with open(\"sarcasm.json\", 'r') as f:\n",
    "    datastore = json.load(f)\n",
    "\n",
    "sentences = []\n",
    "labels = []\n",
    "\n",
    "for item in datastore:\n",
    "    sentences.append(item['headline'])\n",
    "    labels.append(item['is_sarcastic'])"
   ]
  },
  {
   "cell_type": "code",
   "execution_count": 8,
   "id": "3ffe6ccd-66a7-422e-bf89-aa350bf6bce2",
   "metadata": {
    "tags": []
   },
   "outputs": [
    {
     "data": {
      "text/plain": [
       "26709"
      ]
     },
     "execution_count": 8,
     "metadata": {},
     "output_type": "execute_result"
    }
   ],
   "source": [
    "len(datastore)"
   ]
  },
  {
   "cell_type": "code",
   "execution_count": 9,
   "id": "56f6d99c-941d-4f6f-b957-2b4dc7cf665c",
   "metadata": {
    "tags": []
   },
   "outputs": [
    {
     "data": {
      "text/plain": [
       "[\"former versace store clerk sues over secret 'black code' for minority shoppers\",\n",
       " \"the 'roseanne' revival catches up to our thorny political mood, for better and worse\",\n",
       " \"mom starting to fear son's web series closest thing she will have to grandchild\",\n",
       " 'boehner just wants wife to listen, not come up with alternative debt-reduction ideas',\n",
       " 'j.k. rowling wishes snape happy birthday in the most magical way']"
      ]
     },
     "execution_count": 9,
     "metadata": {},
     "output_type": "execute_result"
    }
   ],
   "source": [
    "sentences[0:5]"
   ]
  },
  {
   "cell_type": "code",
   "execution_count": 10,
   "id": "a9159c85-ac26-4ca3-8259-3031e51110b3",
   "metadata": {
    "tags": []
   },
   "outputs": [
    {
     "data": {
      "text/plain": [
       "[0, 0, 1, 1, 0]"
      ]
     },
     "execution_count": 10,
     "metadata": {},
     "output_type": "execute_result"
    }
   ],
   "source": [
    "labels[0:5]"
   ]
  },
  {
   "cell_type": "code",
   "execution_count": 11,
   "id": "6c38b045-9009-434c-b7da-3ed71a969707",
   "metadata": {
    "tags": []
   },
   "outputs": [],
   "source": [
    "training_size = 20000"
   ]
  },
  {
   "cell_type": "code",
   "execution_count": 12,
   "id": "742e8ffb-899e-48d5-b666-ce4280c119e7",
   "metadata": {
    "tags": []
   },
   "outputs": [],
   "source": [
    "training_sentences = sentences[0:training_size]\n",
    "testing_sentences = sentences[training_size:]\n",
    "training_labels = labels[0:training_size]\n",
    "testing_labels = labels[training_size:]"
   ]
  },
  {
   "cell_type": "code",
   "execution_count": 13,
   "id": "6aeee409-d279-4428-91e5-27a313c3137a",
   "metadata": {
    "tags": []
   },
   "outputs": [],
   "source": [
    "vocab_size = 10000\n",
    "oov_tok = \"<OOV>\"\n",
    "max_length = 100\n",
    "padding_type='post'\n",
    "trunc_type='post'"
   ]
  },
  {
   "cell_type": "code",
   "execution_count": 14,
   "id": "b938bce2-2632-4432-a639-c4a1a67a0503",
   "metadata": {
    "tags": []
   },
   "outputs": [],
   "source": [
    "tokenizer = Tokenizer(num_words=vocab_size, oov_token=oov_tok)\n",
    "tokenizer.fit_on_texts(training_sentences)\n",
    "\n",
    "word_index = tokenizer.word_index\n",
    "\n",
    "training_sequences = tokenizer.texts_to_sequences(training_sentences)\n",
    "training_padded = pad_sequences(training_sequences, maxlen=max_length, padding=padding_type, truncating=trunc_type)\n",
    "\n",
    "testing_sequences = tokenizer.texts_to_sequences(testing_sentences)\n",
    "testing_padded = pad_sequences(testing_sequences, maxlen=max_length, padding=padding_type, truncating=trunc_type)"
   ]
  },
  {
   "cell_type": "code",
   "execution_count": 15,
   "id": "52e6a6a0-c47e-49ee-b3eb-c138c83dad2c",
   "metadata": {
    "tags": []
   },
   "outputs": [],
   "source": [
    "import numpy as np\n",
    "training_padded = np.array(training_padded)\n",
    "training_labels = np.array(training_labels)\n",
    "testing_padded = np.array(testing_padded)\n",
    "testing_labels = np.array(testing_labels)"
   ]
  },
  {
   "cell_type": "code",
   "execution_count": 16,
   "id": "21cf0a68-2c0f-454d-88de-e8091010a833",
   "metadata": {
    "tags": []
   },
   "outputs": [],
   "source": [
    "embedding_dim = 16"
   ]
  },
  {
   "cell_type": "code",
   "execution_count": 17,
   "id": "aa730c50-6f2d-490b-be2e-59e7ef5abbdd",
   "metadata": {
    "tags": []
   },
   "outputs": [],
   "source": [
    "model = tf.keras.Sequential([\n",
    "    tf.keras.layers.Embedding(vocab_size, embedding_dim, input_length=max_length),\n",
    "    tf.keras.layers.GlobalAveragePooling1D(),\n",
    "    tf.keras.layers.Dense(24, activation='relu'),\n",
    "    tf.keras.layers.Dense(1, activation='sigmoid')\n",
    "])\n",
    "model.compile(loss='binary_crossentropy',optimizer='adam',metrics=['accuracy'])"
   ]
  },
  {
   "cell_type": "code",
   "execution_count": 18,
   "id": "b05b3d09-8efa-4a60-b714-6d52f56e79ba",
   "metadata": {
    "tags": []
   },
   "outputs": [
    {
     "name": "stdout",
     "output_type": "stream",
     "text": [
      "Model: \"sequential\"\n",
      "_________________________________________________________________\n",
      " Layer (type)                Output Shape              Param #   \n",
      "=================================================================\n",
      " embedding (Embedding)       (None, 100, 16)           160000    \n",
      "                                                                 \n",
      " global_average_pooling1d (G  (None, 16)               0         \n",
      " lobalAveragePooling1D)                                          \n",
      "                                                                 \n",
      " dense (Dense)               (None, 24)                408       \n",
      "                                                                 \n",
      " dense_1 (Dense)             (None, 1)                 25        \n",
      "                                                                 \n",
      "=================================================================\n",
      "Total params: 160,433\n",
      "Trainable params: 160,433\n",
      "Non-trainable params: 0\n",
      "_________________________________________________________________\n"
     ]
    }
   ],
   "source": [
    "model.summary()"
   ]
  },
  {
   "cell_type": "raw",
   "id": "1825bedc-6bba-491d-89b5-c080c2d2fcf0",
   "metadata": {
    "tags": []
   },
   "source": [
    "num_epochs = 30\n",
    "history = model.fit(training_padded, training_labels, epochs=num_epochs, validation_data=(testing_padded, testing_labels), verbose=2)"
   ]
  },
  {
   "cell_type": "code",
   "execution_count": 19,
   "id": "48d63d5e-7b79-497a-a27a-8995b6ae0148",
   "metadata": {
    "tags": []
   },
   "outputs": [
    {
     "ename": "NameError",
     "evalue": "name 'history' is not defined",
     "output_type": "error",
     "traceback": [
      "\u001b[1;31m---------------------------------------------------------------------------\u001b[0m",
      "\u001b[1;31mNameError\u001b[0m                                 Traceback (most recent call last)",
      "Cell \u001b[1;32mIn[19], line 12\u001b[0m\n\u001b[0;32m      9\u001b[0m     plt\u001b[38;5;241m.\u001b[39mlegend([string, \u001b[38;5;124m'\u001b[39m\u001b[38;5;124mval_\u001b[39m\u001b[38;5;124m'\u001b[39m\u001b[38;5;241m+\u001b[39mstring])\n\u001b[0;32m     10\u001b[0m     plt\u001b[38;5;241m.\u001b[39mshow()\n\u001b[1;32m---> 12\u001b[0m plot_graphs(\u001b[43mhistory\u001b[49m, \u001b[38;5;124m\"\u001b[39m\u001b[38;5;124maccuracy\u001b[39m\u001b[38;5;124m\"\u001b[39m)\n\u001b[0;32m     13\u001b[0m plot_graphs(history, \u001b[38;5;124m\"\u001b[39m\u001b[38;5;124mloss\u001b[39m\u001b[38;5;124m\"\u001b[39m)\n",
      "\u001b[1;31mNameError\u001b[0m: name 'history' is not defined"
     ]
    }
   ],
   "source": [
    "import matplotlib.pyplot as plt\n",
    "\n",
    "\n",
    "def plot_graphs(history, string):\n",
    "    plt.plot(history.history[string])\n",
    "    plt.plot(history.history['val_'+string])\n",
    "    plt.xlabel(\"Epochs\")\n",
    "    plt.ylabel(string)\n",
    "    plt.legend([string, 'val_'+string])\n",
    "    plt.show()\n",
    "\n",
    "plot_graphs(history, \"accuracy\")\n",
    "plot_graphs(history, \"loss\")"
   ]
  },
  {
   "cell_type": "code",
   "execution_count": 20,
   "id": "66df3a61-ca1d-4182-b675-6178f566c1ae",
   "metadata": {
    "tags": []
   },
   "outputs": [
    {
     "name": "stdout",
     "output_type": "stream",
     "text": [
      "(10000, 16)\n"
     ]
    }
   ],
   "source": [
    "e = model.layers[0]\n",
    "weights = e.get_weights()[0]\n",
    "print(weights.shape)\n",
    "# shape: (vocab_size, embedding_dim)"
   ]
  },
  {
   "cell_type": "code",
   "execution_count": 21,
   "id": "97d7c995-a1e3-4252-98c3-750ae7268211",
   "metadata": {
    "tags": []
   },
   "outputs": [
    {
     "name": "stdout",
     "output_type": "stream",
     "text": [
      "1/1 [==============================] - 0s 415ms/step\n",
      "[[0.5004331 ]\n",
      " [0.50034016]]\n"
     ]
    }
   ],
   "source": [
    "sentence = [\"granny starting to fear spiders in the garden might be real\", \"game of thrones season finale showing this sunday night\"]\n",
    "sequences = tokenizer.texts_to_sequences(sentence)\n",
    "padded = pad_sequences(sequences, maxlen=max_length, padding=padding_type, truncating=trunc_type)\n",
    "print(model.predict(padded))"
   ]
  },
  {
   "cell_type": "markdown",
   "id": "0a4a0251-4a85-4141-8ec0-2a71f65e8b82",
   "metadata": {},
   "source": [
    "# LSTM:"
   ]
  },
  {
   "cell_type": "code",
   "execution_count": 22,
   "id": "836ed140-8f6e-4ace-a68a-a142bdd4b83d",
   "metadata": {
    "tags": []
   },
   "outputs": [],
   "source": [
    "import tensorflow as tf\n",
    "\n",
    "from tensorflow.keras.preprocessing.sequence import pad_sequences\n",
    "from tensorflow.keras.layers import Embedding, LSTM, Dense, Bidirectional\n",
    "from tensorflow.keras.preprocessing.text import Tokenizer\n",
    "from tensorflow.keras.models import Sequential\n",
    "from tensorflow.keras.optimizers import Adam\n",
    "import numpy as np "
   ]
  },
  {
   "cell_type": "code",
   "execution_count": 23,
   "id": "a0762aac-0cde-4f84-9a29-a0a222835cce",
   "metadata": {
    "tags": []
   },
   "outputs": [
    {
     "name": "stdout",
     "output_type": "stream",
     "text": [
      "2690\n"
     ]
    }
   ],
   "source": [
    "tokenizer = Tokenizer()\n",
    "\n",
    "data = open('irish-lyrics-eof.txt').read()\n",
    "\n",
    "corpus = data.lower().split(\"\\n\")\n",
    "\n",
    "tokenizer.fit_on_texts(corpus)\n",
    "total_words = len(tokenizer.word_index) + 1\n",
    "\n",
    "# print(tokenizer.word_index)\n",
    "print(total_words)"
   ]
  },
  {
   "cell_type": "code",
   "execution_count": 24,
   "id": "7481b7ae-55b3-4a4a-a928-6bc302a5db01",
   "metadata": {
    "tags": []
   },
   "outputs": [],
   "source": [
    "input_sequences = []\n",
    "for line in corpus:\n",
    "    token_list = tokenizer.texts_to_sequences([line])[0]\n",
    "    for i in range(1, len(token_list)):\n",
    "        n_gram_sequence = token_list[:i+1]\n",
    "        input_sequences.append(n_gram_sequence)\n",
    "\n",
    "# pad sequences \n",
    "max_sequence_len = max([len(x) for x in input_sequences])\n",
    "input_sequences = np.array(pad_sequences(input_sequences, maxlen=max_sequence_len, padding='pre'))\n",
    "\n",
    "# create predictors and label\n",
    "xs, labels = input_sequences[:,:-1],input_sequences[:,-1]\n",
    "\n",
    "ys = tf.keras.utils.to_categorical(labels, num_classes=total_words)"
   ]
  },
  {
   "cell_type": "code",
   "execution_count": 25,
   "id": "dc88bf9c-9ccc-4eeb-b843-6b08c2409dc7",
   "metadata": {
    "tags": []
   },
   "outputs": [
    {
     "data": {
      "text/plain": [
       "array([[  0,   0,   0, ...,   0,   0,  51],\n",
       "       [  0,   0,   0, ...,   0,  51,  12],\n",
       "       [  0,   0,   0, ...,  51,  12,  96],\n",
       "       ...,\n",
       "       [  0,   0,   0, ...,   0,   0,  47],\n",
       "       [  0,   0,   0, ...,   0,  47, 105],\n",
       "       [  0,   0,   0, ...,  47, 105, 138]])"
      ]
     },
     "execution_count": 25,
     "metadata": {},
     "output_type": "execute_result"
    }
   ],
   "source": [
    "xs"
   ]
  },
  {
   "cell_type": "code",
   "execution_count": 25,
   "id": "90835747-56cb-4d73-b043-a20f68fa15e9",
   "metadata": {
    "tags": []
   },
   "outputs": [
    {
     "name": "stdout",
     "output_type": "stream",
     "text": [
      "8\n",
      "1\n",
      "71\n",
      "6\n",
      "713\n",
      "39\n",
      "1790\n",
      "1791\n"
     ]
    }
   ],
   "source": [
    "print(tokenizer.word_index['in'])\n",
    "print(tokenizer.word_index['the'])\n",
    "print(tokenizer.word_index['town'])\n",
    "print(tokenizer.word_index['of'])\n",
    "print(tokenizer.word_index['athy'])\n",
    "print(tokenizer.word_index['one'])\n",
    "print(tokenizer.word_index['jeremy'])\n",
    "print(tokenizer.word_index['lanigan'])"
   ]
  },
  {
   "cell_type": "code",
   "execution_count": 26,
   "id": "d1d259c7-4145-4159-bc55-231150ae14a7",
   "metadata": {
    "tags": []
   },
   "outputs": [
    {
     "name": "stdout",
     "output_type": "stream",
     "text": [
      "Epoch 1/100\n",
      "377/377 [==============================] - 12s 26ms/step - loss: 6.6082 - accuracy: 0.0736\n",
      "Epoch 2/100\n",
      "377/377 [==============================] - 10s 25ms/step - loss: 5.6894 - accuracy: 0.1180\n",
      "Epoch 3/100\n",
      "377/377 [==============================] - 10s 25ms/step - loss: 4.7909 - accuracy: 0.1679\n",
      "Epoch 4/100\n",
      "377/377 [==============================] - 10s 26ms/step - loss: 3.8598 - accuracy: 0.2478\n",
      "Epoch 5/100\n",
      "377/377 [==============================] - 10s 26ms/step - loss: 3.0658 - accuracy: 0.3439\n",
      "Epoch 6/100\n",
      "377/377 [==============================] - 9s 25ms/step - loss: 2.4182 - accuracy: 0.4507\n",
      "Epoch 7/100\n",
      "377/377 [==============================] - 9s 25ms/step - loss: 1.9538 - accuracy: 0.5427\n",
      "Epoch 8/100\n",
      "377/377 [==============================] - 10s 26ms/step - loss: 1.6401 - accuracy: 0.6102\n",
      "Epoch 9/100\n",
      "377/377 [==============================] - 9s 25ms/step - loss: 1.4527 - accuracy: 0.6499\n",
      "Epoch 10/100\n",
      "377/377 [==============================] - 10s 25ms/step - loss: 1.2873 - accuracy: 0.6863\n",
      "Epoch 11/100\n",
      "377/377 [==============================] - 9s 25ms/step - loss: 1.2091 - accuracy: 0.7049\n",
      "Epoch 12/100\n",
      "377/377 [==============================] - 9s 25ms/step - loss: 1.1590 - accuracy: 0.7116\n",
      "Epoch 13/100\n",
      "377/377 [==============================] - 9s 25ms/step - loss: 1.1174 - accuracy: 0.7176\n",
      "Epoch 14/100\n",
      "377/377 [==============================] - 10s 26ms/step - loss: 1.0568 - accuracy: 0.7323\n",
      "Epoch 15/100\n",
      "377/377 [==============================] - 9s 25ms/step - loss: 1.0374 - accuracy: 0.7365\n",
      "Epoch 16/100\n",
      "377/377 [==============================] - 9s 25ms/step - loss: 1.0903 - accuracy: 0.7213\n",
      "Epoch 17/100\n",
      "377/377 [==============================] - 9s 25ms/step - loss: 1.1106 - accuracy: 0.7139\n",
      "Epoch 18/100\n",
      "377/377 [==============================] - 10s 25ms/step - loss: 1.1605 - accuracy: 0.7015\n",
      "Epoch 19/100\n",
      "377/377 [==============================] - 9s 25ms/step - loss: 1.1023 - accuracy: 0.7127\n",
      "Epoch 20/100\n",
      "377/377 [==============================] - 10s 26ms/step - loss: 1.0694 - accuracy: 0.7255\n",
      "Epoch 21/100\n",
      "377/377 [==============================] - 10s 26ms/step - loss: 0.9900 - accuracy: 0.7475\n",
      "Epoch 22/100\n",
      "377/377 [==============================] - 9s 25ms/step - loss: 0.8967 - accuracy: 0.7699\n",
      "Epoch 23/100\n",
      "377/377 [==============================] - 9s 25ms/step - loss: 0.8345 - accuracy: 0.7834\n",
      "Epoch 24/100\n",
      "377/377 [==============================] - 10s 25ms/step - loss: 0.8626 - accuracy: 0.7778\n",
      "Epoch 25/100\n",
      "377/377 [==============================] - 9s 25ms/step - loss: 0.9823 - accuracy: 0.7456\n",
      "Epoch 26/100\n",
      "377/377 [==============================] - 9s 25ms/step - loss: 1.2007 - accuracy: 0.6877\n",
      "Epoch 27/100\n",
      "377/377 [==============================] - 10s 25ms/step - loss: 1.4358 - accuracy: 0.6352\n",
      "Epoch 28/100\n",
      "377/377 [==============================] - 10s 25ms/step - loss: 1.2840 - accuracy: 0.6725\n",
      "Epoch 29/100\n",
      "377/377 [==============================] - 10s 26ms/step - loss: 1.0623 - accuracy: 0.7221\n",
      "Epoch 30/100\n",
      "377/377 [==============================] - 10s 25ms/step - loss: 0.8910 - accuracy: 0.7644\n",
      "Epoch 31/100\n",
      "377/377 [==============================] - 9s 25ms/step - loss: 0.8220 - accuracy: 0.7843\n",
      "Epoch 32/100\n",
      "377/377 [==============================] - 10s 25ms/step - loss: 0.7916 - accuracy: 0.7922\n",
      "Epoch 33/100\n",
      "377/377 [==============================] - 10s 25ms/step - loss: 0.8080 - accuracy: 0.7888\n",
      "Epoch 34/100\n",
      "377/377 [==============================] - 10s 26ms/step - loss: 0.8266 - accuracy: 0.7815\n",
      "Epoch 35/100\n",
      "377/377 [==============================] - 10s 26ms/step - loss: 1.0265 - accuracy: 0.7336\n",
      "Epoch 36/100\n",
      "377/377 [==============================] - 10s 25ms/step - loss: 1.2053 - accuracy: 0.6860\n",
      "Epoch 37/100\n",
      "377/377 [==============================] - 10s 25ms/step - loss: 1.1712 - accuracy: 0.6965\n",
      "Epoch 38/100\n",
      "377/377 [==============================] - 10s 25ms/step - loss: 1.0298 - accuracy: 0.7288\n",
      "Epoch 39/100\n",
      "377/377 [==============================] - 9s 25ms/step - loss: 0.9720 - accuracy: 0.7452\n",
      "Epoch 40/100\n",
      "377/377 [==============================] - 10s 26ms/step - loss: 0.9210 - accuracy: 0.7559\n",
      "Epoch 41/100\n",
      "377/377 [==============================] - 10s 25ms/step - loss: 0.8853 - accuracy: 0.7664\n",
      "Epoch 42/100\n",
      "377/377 [==============================] - 10s 25ms/step - loss: 0.8570 - accuracy: 0.7743\n",
      "Epoch 43/100\n",
      "377/377 [==============================] - 10s 25ms/step - loss: 0.8638 - accuracy: 0.7744\n",
      "Epoch 44/100\n",
      "377/377 [==============================] - 9s 25ms/step - loss: 0.9872 - accuracy: 0.7453\n",
      "Epoch 45/100\n",
      "377/377 [==============================] - 10s 26ms/step - loss: 1.0437 - accuracy: 0.7280\n",
      "Epoch 46/100\n",
      "377/377 [==============================] - 10s 26ms/step - loss: 1.0794 - accuracy: 0.7236\n",
      "Epoch 47/100\n",
      "377/377 [==============================] - 10s 25ms/step - loss: 1.0134 - accuracy: 0.7356\n",
      "Epoch 48/100\n",
      "377/377 [==============================] - 10s 26ms/step - loss: 0.9267 - accuracy: 0.7539\n",
      "Epoch 49/100\n",
      "377/377 [==============================] - 10s 26ms/step - loss: 0.8917 - accuracy: 0.7642\n",
      "Epoch 50/100\n",
      "377/377 [==============================] - 10s 26ms/step - loss: 0.8993 - accuracy: 0.7612\n",
      "Epoch 51/100\n",
      "377/377 [==============================] - 9s 25ms/step - loss: 0.8935 - accuracy: 0.7618\n",
      "Epoch 52/100\n",
      "377/377 [==============================] - 10s 25ms/step - loss: 0.8666 - accuracy: 0.7698\n",
      "Epoch 53/100\n",
      "377/377 [==============================] - 10s 26ms/step - loss: 0.8585 - accuracy: 0.7711\n",
      "Epoch 54/100\n",
      "377/377 [==============================] - 10s 26ms/step - loss: 0.9387 - accuracy: 0.7556\n",
      "Epoch 55/100\n",
      "377/377 [==============================] - 10s 26ms/step - loss: 0.9429 - accuracy: 0.7509\n",
      "Epoch 56/100\n",
      "377/377 [==============================] - 9s 25ms/step - loss: 1.0053 - accuracy: 0.7383\n",
      "Epoch 57/100\n",
      "377/377 [==============================] - 10s 26ms/step - loss: 1.0828 - accuracy: 0.7235\n",
      "Epoch 58/100\n",
      "377/377 [==============================] - 10s 26ms/step - loss: 1.0347 - accuracy: 0.7353\n",
      "Epoch 59/100\n",
      "377/377 [==============================] - 10s 25ms/step - loss: 0.9657 - accuracy: 0.7510\n",
      "Epoch 60/100\n",
      "377/377 [==============================] - 10s 26ms/step - loss: 0.9198 - accuracy: 0.7582\n",
      "Epoch 61/100\n",
      "377/377 [==============================] - 10s 26ms/step - loss: 0.9056 - accuracy: 0.7623\n",
      "Epoch 62/100\n",
      "377/377 [==============================] - 10s 26ms/step - loss: 0.8827 - accuracy: 0.7688\n",
      "Epoch 63/100\n",
      "377/377 [==============================] - 10s 26ms/step - loss: 0.9851 - accuracy: 0.7556\n",
      "Epoch 64/100\n",
      "377/377 [==============================] - 10s 25ms/step - loss: 1.1298 - accuracy: 0.7160\n",
      "Epoch 65/100\n",
      "377/377 [==============================] - 10s 26ms/step - loss: 1.0304 - accuracy: 0.7353\n",
      "Epoch 66/100\n",
      "377/377 [==============================] - 10s 25ms/step - loss: 0.9661 - accuracy: 0.7495\n",
      "Epoch 67/100\n",
      "377/377 [==============================] - 10s 26ms/step - loss: 0.9031 - accuracy: 0.7611\n",
      "Epoch 68/100\n",
      "377/377 [==============================] - 10s 26ms/step - loss: 0.9192 - accuracy: 0.7604\n",
      "Epoch 69/100\n",
      "377/377 [==============================] - 10s 25ms/step - loss: 0.8698 - accuracy: 0.7717\n",
      "Epoch 70/100\n",
      "377/377 [==============================] - 10s 26ms/step - loss: 0.8680 - accuracy: 0.7718\n",
      "Epoch 71/100\n",
      "377/377 [==============================] - 10s 25ms/step - loss: 0.8942 - accuracy: 0.7654\n",
      "Epoch 72/100\n",
      "377/377 [==============================] - 10s 25ms/step - loss: 0.9254 - accuracy: 0.7579\n",
      "Epoch 73/100\n",
      "377/377 [==============================] - 10s 26ms/step - loss: 0.9067 - accuracy: 0.7615\n",
      "Epoch 74/100\n",
      "377/377 [==============================] - 10s 27ms/step - loss: 0.9000 - accuracy: 0.7632\n",
      "Epoch 75/100\n",
      "377/377 [==============================] - 10s 26ms/step - loss: 0.8949 - accuracy: 0.7644\n",
      "Epoch 76/100\n",
      "377/377 [==============================] - 10s 25ms/step - loss: 0.9089 - accuracy: 0.7641\n",
      "Epoch 77/100\n",
      "377/377 [==============================] - 10s 26ms/step - loss: 0.9683 - accuracy: 0.7475\n",
      "Epoch 78/100\n",
      "377/377 [==============================] - 10s 27ms/step - loss: 1.0240 - accuracy: 0.7351\n",
      "Epoch 79/100\n",
      "377/377 [==============================] - 10s 27ms/step - loss: 0.9818 - accuracy: 0.7428\n",
      "Epoch 80/100\n",
      "377/377 [==============================] - 10s 26ms/step - loss: 0.9245 - accuracy: 0.7567\n",
      "Epoch 81/100\n",
      "377/377 [==============================] - 10s 26ms/step - loss: 0.9003 - accuracy: 0.7618\n",
      "Epoch 82/100\n",
      "377/377 [==============================] - 10s 25ms/step - loss: 0.9325 - accuracy: 0.7583\n",
      "Epoch 83/100\n",
      "377/377 [==============================] - 10s 27ms/step - loss: 0.9409 - accuracy: 0.7594\n",
      "Epoch 84/100\n",
      "377/377 [==============================] - 10s 27ms/step - loss: 0.8655 - accuracy: 0.7738\n",
      "Epoch 85/100\n",
      "377/377 [==============================] - 10s 25ms/step - loss: 0.8150 - accuracy: 0.7899\n",
      "Epoch 86/100\n",
      "377/377 [==============================] - 10s 27ms/step - loss: 0.8317 - accuracy: 0.7844\n",
      "Epoch 87/100\n",
      "377/377 [==============================] - 10s 26ms/step - loss: 0.8965 - accuracy: 0.7703\n",
      "Epoch 88/100\n",
      "377/377 [==============================] - 10s 26ms/step - loss: 0.9153 - accuracy: 0.7634\n",
      "Epoch 89/100\n",
      "377/377 [==============================] - 10s 25ms/step - loss: 0.9104 - accuracy: 0.7653\n",
      "Epoch 90/100\n",
      "377/377 [==============================] - 10s 26ms/step - loss: 0.9165 - accuracy: 0.7650\n",
      "Epoch 91/100\n",
      "377/377 [==============================] - 10s 27ms/step - loss: 0.9158 - accuracy: 0.7662\n",
      "Epoch 92/100\n",
      "377/377 [==============================] - 13s 36ms/step - loss: 0.8963 - accuracy: 0.7696\n",
      "Epoch 93/100\n",
      "377/377 [==============================] - 15s 39ms/step - loss: 0.9217 - accuracy: 0.7632\n",
      "Epoch 94/100\n",
      "377/377 [==============================] - 11s 30ms/step - loss: 0.8871 - accuracy: 0.7726\n",
      "Epoch 95/100\n",
      "377/377 [==============================] - 11s 30ms/step - loss: 0.8860 - accuracy: 0.7691\n",
      "Epoch 96/100\n",
      "377/377 [==============================] - 13s 34ms/step - loss: 0.8792 - accuracy: 0.7726\n",
      "Epoch 97/100\n",
      "377/377 [==============================] - 13s 34ms/step - loss: 0.8813 - accuracy: 0.7749\n",
      "Epoch 98/100\n",
      "377/377 [==============================] - 13s 34ms/step - loss: 0.9040 - accuracy: 0.7682\n",
      "Epoch 99/100\n",
      "377/377 [==============================] - 12s 31ms/step - loss: 0.9320 - accuracy: 0.7647\n",
      "Epoch 100/100\n",
      "377/377 [==============================] - 11s 31ms/step - loss: 0.9462 - accuracy: 0.7650\n",
      "<keras.engine.sequential.Sequential object at 0x000001EE9C0EACD0>\n"
     ]
    }
   ],
   "source": [
    "model = Sequential()\n",
    "model.add(Embedding(total_words, 100, input_length=max_sequence_len-1))\n",
    "model.add(Bidirectional(LSTM(150)))\n",
    "model.add(Dense(total_words, activation='softmax'))\n",
    "adam = Adam(learning_rate=0.01)\n",
    "model.compile(loss='categorical_crossentropy', optimizer=adam, metrics=['accuracy'])\n",
    "history = model.fit(xs, ys, epochs=100, verbose=1)\n",
    "#print model.summary()\n",
    "print(model)"
   ]
  },
  {
   "cell_type": "code",
   "execution_count": 27,
   "id": "369e9d97-205b-403a-a558-5d48e687348c",
   "metadata": {
    "tags": []
   },
   "outputs": [],
   "source": [
    "import matplotlib.pyplot as plt\n",
    "\n",
    "def plot_graphs(history, string):\n",
    "    plt.plot(history.history[string])\n",
    "    plt.xlabel(\"Epochs\")\n",
    "    plt.ylabel(string)\n",
    "    plt.show()"
   ]
  },
  {
   "cell_type": "code",
   "execution_count": 28,
   "id": "536d9605-9a9a-4ec8-86cd-630449ebad34",
   "metadata": {
    "tags": []
   },
   "outputs": [
    {
     "data": {
      "image/png": "[encoded data removed]",
      "text/plain": [
       "<Figure size 640x480 with 1 Axes>"
      ]
     },
     "metadata": {},
     "output_type": "display_data"
    }
   ],
   "source": [
    "plot_graphs(history, 'accuracy')"
   ]
  },
  {
   "cell_type": "code",
   "execution_count": 39,
   "id": "4f928117-e277-47f3-8853-22aa8cbb8419",
   "metadata": {
    "tags": []
   },
   "outputs": [
    {
     "name": "stdout",
     "output_type": "stream",
     "text": [
      "1/1 [==============================] - 0s 20ms/step\n",
      "1/1 [==============================] - 0s 18ms/step\n",
      "1/1 [==============================] - 0s 17ms/step\n",
      "1/1 [==============================] - 0s 18ms/step\n",
      "1/1 [==============================] - 0s 17ms/step\n",
      "1/1 [==============================] - 0s 17ms/step\n",
      "1/1 [==============================] - 0s 18ms/step\n",
      "1/1 [==============================] - 0s 19ms/step\n",
      "1/1 [==============================] - 0s 18ms/step\n",
      "1/1 [==============================] - 0s 17ms/step\n",
      "1/1 [==============================] - 0s 18ms/step\n",
      "1/1 [==============================] - 0s 18ms/step\n",
      "1/1 [==============================] - 0s 19ms/step\n",
      "1/1 [==============================] - 0s 19ms/step\n",
      "1/1 [==============================] - 0s 18ms/step\n",
      "1/1 [==============================] - 0s 20ms/step\n",
      "1/1 [==============================] - 0s 19ms/step\n",
      "1/1 [==============================] - 0s 19ms/step\n",
      "1/1 [==============================] - 0s 18ms/step\n",
      "1/1 [==============================] - 0s 17ms/step\n",
      "1/1 [==============================] - 0s 18ms/step\n",
      "I like this town to the long generation her fame will see her can carry two irishmen each blue gone away light to your side\n"
     ]
    }
   ],
   "source": [
    "seed_text = \"I like this town\"\n",
    "next_words = 21\n",
    "  \n",
    "for _ in range(next_words):\n",
    "    token_list = tokenizer.texts_to_sequences([seed_text])[0]\n",
    "    token_list = pad_sequences([token_list], maxlen=max_sequence_len-1, padding='pre')\n",
    "    predicted = np.argmax(model.predict(token_list), axis=-1)\n",
    "    output_word = \"\"\n",
    "    for word, index in tokenizer.word_index.items():\n",
    "        if index == predicted:\n",
    "            output_word = word\n",
    "            break\n",
    "    seed_text += \" \" + output_word\n",
    "print(seed_text)"
   ]
  },
  {
   "cell_type": "code",
   "execution_count": null,
   "id": "314fc682-31bb-4fbc-a60a-f77a2ce70c79",
   "metadata": {},
   "outputs": [],
   "source": []
  },
  {
   "cell_type": "code",
   "execution_count": null,
   "id": "fd231ba4-999b-4064-a49f-48f715e5d69f",
   "metadata": {},
   "outputs": [],
   "source": []
  }
 ],
 "metadata": {
  "kernelspec": {
   "display_name": "Python 3 (ipykernel)",
   "language": "python",
   "name": "python3"
  },
  "language_info": {
   "codemirror_mode": {
    "name": "ipython",
    "version": 3
   },
   "file_extension": ".py",
   "mimetype": "text/x-python",
   "name": "python",
   "nbconvert_exporter": "python",
   "pygments_lexer": "ipython3",
   "version": "3.9.16"
  },
  "toc-autonumbering": true
 },
 "nbformat": 4,
 "nbformat_minor": 5
}
