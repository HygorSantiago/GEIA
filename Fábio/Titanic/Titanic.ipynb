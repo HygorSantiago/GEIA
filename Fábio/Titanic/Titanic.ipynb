{
  "nbformat": 4,
  "nbformat_minor": 0,
  "metadata": {
    "colab": {
      "provenance": []
    },
    "kernelspec": {
      "name": "python3",
      "display_name": "Python 3"
    },
    "language_info": {
      "name": "python"
    }
  },
  "cells": [
    {
      "cell_type": "markdown",
      "source": [
        "# Importing the data"
      ],
      "metadata": {
        "id": "LG2qWFIT4xEd"
      }
    },
    {
      "cell_type": "code",
      "execution_count": 482,
      "metadata": {
        "id": "iVq1ZR6XZKmf"
      },
      "outputs": [],
      "source": [
        "import pandas as pd\n",
        "import numpy as np\n",
        "import matplotlib.pyplot as plt\n",
        "import seaborn as sns\n",
        "import scipy.stats as stats"
      ]
    },
    {
      "cell_type": "code",
      "source": [
        "data_raw=pd.read_csv('/content/train.csv')"
      ],
      "metadata": {
        "id": "tL9NGUX7Zm4W"
      },
      "execution_count": 483,
      "outputs": []
    },
    {
      "cell_type": "code",
      "source": [
        "data_raw"
      ],
      "metadata": {
        "colab": {
          "base_uri": "https://localhost:8080/",
          "height": 0
        },
        "id": "2Mb53Zc9Z41x",
        "outputId": "21e0a550-8146-471e-c478-8a96d6130926"
      },
      "execution_count": 484,
      "outputs": [
        {
          "output_type": "execute_result",
          "data": {
            "text/plain": [
              "     PassengerId  Survived  Pclass  \\\n",
              "0              1         0       3   \n",
              "1              2         1       1   \n",
              "2              3         1       3   \n",
              "3              4         1       1   \n",
              "4              5         0       3   \n",
              "..           ...       ...     ...   \n",
              "886          887         0       2   \n",
              "887          888         1       1   \n",
              "888          889         0       3   \n",
              "889          890         1       1   \n",
              "890          891         0       3   \n",
              "\n",
              "                                                  Name     Sex   Age  SibSp  \\\n",
              "0                              Braund, Mr. Owen Harris    male  22.0      1   \n",
              "1    Cumings, Mrs. John Bradley (Florence Briggs Th...  female  38.0      1   \n",
              "2                               Heikkinen, Miss. Laina  female  26.0      0   \n",
              "3         Futrelle, Mrs. Jacques Heath (Lily May Peel)  female  35.0      1   \n",
              "4                             Allen, Mr. William Henry    male  35.0      0   \n",
              "..                                                 ...     ...   ...    ...   \n",
              "886                              Montvila, Rev. Juozas    male  27.0      0   \n",
              "887                       Graham, Miss. Margaret Edith  female  19.0      0   \n",
              "888           Johnston, Miss. Catherine Helen \"Carrie\"  female   NaN      1   \n",
              "889                              Behr, Mr. Karl Howell    male  26.0      0   \n",
              "890                                Dooley, Mr. Patrick    male  32.0      0   \n",
              "\n",
              "     Parch            Ticket     Fare Cabin Embarked  \n",
              "0        0         A/5 21171   7.2500   NaN        S  \n",
              "1        0          PC 17599  71.2833   C85        C  \n",
              "2        0  STON/O2. 3101282   7.9250   NaN        S  \n",
              "3        0            113803  53.1000  C123        S  \n",
              "4        0            373450   8.0500   NaN        S  \n",
              "..     ...               ...      ...   ...      ...  \n",
              "886      0            211536  13.0000   NaN        S  \n",
              "887      0            112053  30.0000   B42        S  \n",
              "888      2        W./C. 6607  23.4500   NaN        S  \n",
              "889      0            111369  30.0000  C148        C  \n",
              "890      0            370376   7.7500   NaN        Q  \n",
              "\n",
              "[891 rows x 12 columns]"
            ],
            "text/html": [
              "\n",
              "  <div id=\"df-dbaefb16-30c9-404e-a11a-7dba879d813c\">\n",
              "    <div class=\"colab-df-container\">\n",
              "      <div>\n",
              "<style scoped>\n",
              "    .dataframe tbody tr th:only-of-type {\n",
              "        vertical-align: middle;\n",
              "    }\n",
              "\n",
              "    .dataframe tbody tr th {\n",
              "        vertical-align: top;\n",
              "    }\n",
              "\n",
              "    .dataframe thead th {\n",
              "        text-align: right;\n",
              "    }\n",
              "</style>\n",
              "<table border=\"1\" class=\"dataframe\">\n",
              "  <thead>\n",
              "    <tr style=\"text-align: right;\">\n",
              "      <th></th>\n",
              "      <th>PassengerId</th>\n",
              "      <th>Survived</th>\n",
              "      <th>Pclass</th>\n",
              "      <th>Name</th>\n",
              "      <th>Sex</th>\n",
              "      <th>Age</th>\n",
              "      <th>SibSp</th>\n",
              "      <th>Parch</th>\n",
              "      <th>Ticket</th>\n",
              "      <th>Fare</th>\n",
              "      <th>Cabin</th>\n",
              "      <th>Embarked</th>\n",
              "    </tr>\n",
              "  </thead>\n",
              "  <tbody>\n",
              "    <tr>\n",
              "      <th>0</th>\n",
              "      <td>1</td>\n",
              "      <td>0</td>\n",
              "      <td>3</td>\n",
              "      <td>Braund, Mr. Owen Harris</td>\n",
              "      <td>male</td>\n",
              "      <td>22.0</td>\n",
              "      <td>1</td>\n",
              "      <td>0</td>\n",
              "      <td>A/5 21171</td>\n",
              "      <td>7.2500</td>\n",
              "      <td>NaN</td>\n",
              "      <td>S</td>\n",
              "    </tr>\n",
              "    <tr>\n",
              "      <th>1</th>\n",
              "      <td>2</td>\n",
              "      <td>1</td>\n",
              "      <td>1</td>\n",
              "      <td>Cumings, Mrs. John Bradley (Florence Briggs Th...</td>\n",
              "      <td>female</td>\n",
              "      <td>38.0</td>\n",
              "      <td>1</td>\n",
              "      <td>0</td>\n",
              "      <td>PC 17599</td>\n",
              "      <td>71.2833</td>\n",
              "      <td>C85</td>\n",
              "      <td>C</td>\n",
              "    </tr>\n",
              "    <tr>\n",
              "      <th>2</th>\n",
              "      <td>3</td>\n",
              "      <td>1</td>\n",
              "      <td>3</td>\n",
              "      <td>Heikkinen, Miss. Laina</td>\n",
              "      <td>female</td>\n",
              "      <td>26.0</td>\n",
              "      <td>0</td>\n",
              "      <td>0</td>\n",
              "      <td>STON/O2. 3101282</td>\n",
              "      <td>7.9250</td>\n",
              "      <td>NaN</td>\n",
              "      <td>S</td>\n",
              "    </tr>\n",
              "    <tr>\n",
              "      <th>3</th>\n",
              "      <td>4</td>\n",
              "      <td>1</td>\n",
              "      <td>1</td>\n",
              "      <td>Futrelle, Mrs. Jacques Heath (Lily May Peel)</td>\n",
              "      <td>female</td>\n",
              "      <td>35.0</td>\n",
              "      <td>1</td>\n",
              "      <td>0</td>\n",
              "      <td>113803</td>\n",
              "      <td>53.1000</td>\n",
              "      <td>C123</td>\n",
              "      <td>S</td>\n",
              "    </tr>\n",
              "    <tr>\n",
              "      <th>4</th>\n",
              "      <td>5</td>\n",
              "      <td>0</td>\n",
              "      <td>3</td>\n",
              "      <td>Allen, Mr. William Henry</td>\n",
              "      <td>male</td>\n",
              "      <td>35.0</td>\n",
              "      <td>0</td>\n",
              "      <td>0</td>\n",
              "      <td>373450</td>\n",
              "      <td>8.0500</td>\n",
              "      <td>NaN</td>\n",
              "      <td>S</td>\n",
              "    </tr>\n",
              "    <tr>\n",
              "      <th>...</th>\n",
              "      <td>...</td>\n",
              "      <td>...</td>\n",
              "      <td>...</td>\n",
              "      <td>...</td>\n",
              "      <td>...</td>\n",
              "      <td>...</td>\n",
              "      <td>...</td>\n",
              "      <td>...</td>\n",
              "      <td>...</td>\n",
              "      <td>...</td>\n",
              "      <td>...</td>\n",
              "      <td>...</td>\n",
              "    </tr>\n",
              "    <tr>\n",
              "      <th>886</th>\n",
              "      <td>887</td>\n",
              "      <td>0</td>\n",
              "      <td>2</td>\n",
              "      <td>Montvila, Rev. Juozas</td>\n",
              "      <td>male</td>\n",
              "      <td>27.0</td>\n",
              "      <td>0</td>\n",
              "      <td>0</td>\n",
              "      <td>211536</td>\n",
              "      <td>13.0000</td>\n",
              "      <td>NaN</td>\n",
              "      <td>S</td>\n",
              "    </tr>\n",
              "    <tr>\n",
              "      <th>887</th>\n",
              "      <td>888</td>\n",
              "      <td>1</td>\n",
              "      <td>1</td>\n",
              "      <td>Graham, Miss. Margaret Edith</td>\n",
              "      <td>female</td>\n",
              "      <td>19.0</td>\n",
              "      <td>0</td>\n",
              "      <td>0</td>\n",
              "      <td>112053</td>\n",
              "      <td>30.0000</td>\n",
              "      <td>B42</td>\n",
              "      <td>S</td>\n",
              "    </tr>\n",
              "    <tr>\n",
              "      <th>888</th>\n",
              "      <td>889</td>\n",
              "      <td>0</td>\n",
              "      <td>3</td>\n",
              "      <td>Johnston, Miss. Catherine Helen \"Carrie\"</td>\n",
              "      <td>female</td>\n",
              "      <td>NaN</td>\n",
              "      <td>1</td>\n",
              "      <td>2</td>\n",
              "      <td>W./C. 6607</td>\n",
              "      <td>23.4500</td>\n",
              "      <td>NaN</td>\n",
              "      <td>S</td>\n",
              "    </tr>\n",
              "    <tr>\n",
              "      <th>889</th>\n",
              "      <td>890</td>\n",
              "      <td>1</td>\n",
              "      <td>1</td>\n",
              "      <td>Behr, Mr. Karl Howell</td>\n",
              "      <td>male</td>\n",
              "      <td>26.0</td>\n",
              "      <td>0</td>\n",
              "      <td>0</td>\n",
              "      <td>111369</td>\n",
              "      <td>30.0000</td>\n",
              "      <td>C148</td>\n",
              "      <td>C</td>\n",
              "    </tr>\n",
              "    <tr>\n",
              "      <th>890</th>\n",
              "      <td>891</td>\n",
              "      <td>0</td>\n",
              "      <td>3</td>\n",
              "      <td>Dooley, Mr. Patrick</td>\n",
              "      <td>male</td>\n",
              "      <td>32.0</td>\n",
              "      <td>0</td>\n",
              "      <td>0</td>\n",
              "      <td>370376</td>\n",
              "      <td>7.7500</td>\n",
              "      <td>NaN</td>\n",
              "      <td>Q</td>\n",
              "    </tr>\n",
              "  </tbody>\n",
              "</table>\n",
              "<p>891 rows × 12 columns</p>\n",
              "</div>\n",
              "      <button class=\"colab-df-convert\" onclick=\"convertToInteractive('df-dbaefb16-30c9-404e-a11a-7dba879d813c')\"\n",
              "              title=\"Convert this dataframe to an interactive table.\"\n",
              "              style=\"display:none;\">\n",
              "        \n",
              "  <svg xmlns=\"http://www.w3.org/2000/svg\" height=\"24px\"viewBox=\"0 0 24 24\"\n",
              "       width=\"24px\">\n",
              "    <path d=\"M0 0h24v24H0V0z\" fill=\"none\"/>\n",
              "    <path d=\"M18.56 5.44l.94 2.06.94-2.06 2.06-.94-2.06-.94-.94-2.06-.94 2.06-2.06.94zm-11 1L8.5 8.5l.94-2.06 2.06-.94-2.06-.94L8.5 2.5l-.94 2.06-2.06.94zm10 10l.94 2.06.94-2.06 2.06-.94-2.06-.94-.94-2.06-.94 2.06-2.06.94z\"/><path d=\"M17.41 7.96l-1.37-1.37c-.4-.4-.92-.59-1.43-.59-.52 0-1.04.2-1.43.59L10.3 9.45l-7.72 7.72c-.78.78-.78 2.05 0 2.83L4 21.41c.39.39.9.59 1.41.59.51 0 1.02-.2 1.41-.59l7.78-7.78 2.81-2.81c.8-.78.8-2.07 0-2.86zM5.41 20L4 18.59l7.72-7.72 1.47 1.35L5.41 20z\"/>\n",
              "  </svg>\n",
              "      </button>\n",
              "      \n",
              "  <style>\n",
              "    .colab-df-container {\n",
              "      display:flex;\n",
              "      flex-wrap:wrap;\n",
              "      gap: 12px;\n",
              "    }\n",
              "\n",
              "    .colab-df-convert {\n",
              "      background-color: #E8F0FE;\n",
              "      border: none;\n",
              "      border-radius: 50%;\n",
              "      cursor: pointer;\n",
              "      display: none;\n",
              "      fill: #1967D2;\n",
              "      height: 32px;\n",
              "      padding: 0 0 0 0;\n",
              "      width: 32px;\n",
              "    }\n",
              "\n",
              "    .colab-df-convert:hover {\n",
              "      background-color: #E2EBFA;\n",
              "      box-shadow: 0px 1px 2px rgba(60, 64, 67, 0.3), 0px 1px 3px 1px rgba(60, 64, 67, 0.15);\n",
              "      fill: #174EA6;\n",
              "    }\n",
              "\n",
              "    [theme=dark] .colab-df-convert {\n",
              "      background-color: #3B4455;\n",
              "      fill: #D2E3FC;\n",
              "    }\n",
              "\n",
              "    [theme=dark] .colab-df-convert:hover {\n",
              "      background-color: #434B5C;\n",
              "      box-shadow: 0px 1px 3px 1px rgba(0, 0, 0, 0.15);\n",
              "      filter: drop-shadow(0px 1px 2px rgba(0, 0, 0, 0.3));\n",
              "      fill: #FFFFFF;\n",
              "    }\n",
              "  </style>\n",
              "\n",
              "      <script>\n",
              "        const buttonEl =\n",
              "          document.querySelector('#df-dbaefb16-30c9-404e-a11a-7dba879d813c button.colab-df-convert');\n",
              "        buttonEl.style.display =\n",
              "          google.colab.kernel.accessAllowed ? 'block' : 'none';\n",
              "\n",
              "        async function convertToInteractive(key) {\n",
              "          const element = document.querySelector('#df-dbaefb16-30c9-404e-a11a-7dba879d813c');\n",
              "          const dataTable =\n",
              "            await google.colab.kernel.invokeFunction('convertToInteractive',\n",
              "                                                     [key], {});\n",
              "          if (!dataTable) return;\n",
              "\n",
              "          const docLinkHtml = 'Like what you see? Visit the ' +\n",
              "            '<a target=\"_blank\" href=https://colab.research.google.com/notebooks/data_table.ipynb>data table notebook</a>'\n",
              "            + ' to learn more about interactive tables.';\n",
              "          element.innerHTML = '';\n",
              "          dataTable['output_type'] = 'display_data';\n",
              "          await google.colab.output.renderOutput(dataTable, element);\n",
              "          const docLink = document.createElement('div');\n",
              "          docLink.innerHTML = docLinkHtml;\n",
              "          element.appendChild(docLink);\n",
              "        }\n",
              "      </script>\n",
              "    </div>\n",
              "  </div>\n",
              "  "
            ]
          },
          "metadata": {},
          "execution_count": 484
        }
      ]
    },
    {
      "cell_type": "code",
      "source": [
        "data_raw.isna().sum()"
      ],
      "metadata": {
        "colab": {
          "base_uri": "https://localhost:8080/"
        },
        "id": "zomGnWBwbrQa",
        "outputId": "8a990eca-dfbb-4418-e79c-1b4eed4181d5"
      },
      "execution_count": 485,
      "outputs": [
        {
          "output_type": "execute_result",
          "data": {
            "text/plain": [
              "PassengerId      0\n",
              "Survived         0\n",
              "Pclass           0\n",
              "Name             0\n",
              "Sex              0\n",
              "Age            177\n",
              "SibSp            0\n",
              "Parch            0\n",
              "Ticket           0\n",
              "Fare             0\n",
              "Cabin          687\n",
              "Embarked         2\n",
              "dtype: int64"
            ]
          },
          "metadata": {},
          "execution_count": 485
        }
      ]
    },
    {
      "cell_type": "markdown",
      "source": [
        "# Pre-analysis"
      ],
      "metadata": {
        "id": "Y8Ryg1rV5XQd"
      }
    },
    {
      "cell_type": "code",
      "source": [
        "corr = data_raw.corr() \n",
        "print(corr)"
      ],
      "metadata": {
        "colab": {
          "base_uri": "https://localhost:8080/"
        },
        "id": "pg0H7zv_Z5iw",
        "outputId": "3cb6b970-65c4-4552-eecb-9b6f61e75451"
      },
      "execution_count": 486,
      "outputs": [
        {
          "output_type": "stream",
          "name": "stdout",
          "text": [
            "             PassengerId  Survived    Pclass       Age     SibSp     Parch  \\\n",
            "PassengerId     1.000000 -0.005007 -0.035144  0.036847 -0.057527 -0.001652   \n",
            "Survived       -0.005007  1.000000 -0.338481 -0.077221 -0.035322  0.081629   \n",
            "Pclass         -0.035144 -0.338481  1.000000 -0.369226  0.083081  0.018443   \n",
            "Age             0.036847 -0.077221 -0.369226  1.000000 -0.308247 -0.189119   \n",
            "SibSp          -0.057527 -0.035322  0.083081 -0.308247  1.000000  0.414838   \n",
            "Parch          -0.001652  0.081629  0.018443 -0.189119  0.414838  1.000000   \n",
            "Fare            0.012658  0.257307 -0.549500  0.096067  0.159651  0.216225   \n",
            "\n",
            "                 Fare  \n",
            "PassengerId  0.012658  \n",
            "Survived     0.257307  \n",
            "Pclass      -0.549500  \n",
            "Age          0.096067  \n",
            "SibSp        0.159651  \n",
            "Parch        0.216225  \n",
            "Fare         1.000000  \n"
          ]
        }
      ]
    },
    {
      "cell_type": "code",
      "source": [
        "plt.figure(figsize=(10,10))\n",
        "sns.heatmap(corr,annot=True)"
      ],
      "metadata": {
        "colab": {
          "base_uri": "https://localhost:8080/",
          "height": 0
        },
        "id": "AQuHJoBda5H_",
        "outputId": "1acb816f-e3e5-40a3-f675-43e49618c8f0"
      },
      "execution_count": 487,
      "outputs": [
        {
          "output_type": "execute_result",
          "data": {
            "text/plain": [
              "<matplotlib.axes._subplots.AxesSubplot at 0x7fea9b85f580>"
            ]
          },
          "metadata": {},
          "execution_count": 487
        },
        {
          "output_type": "display_data",
          "data": {
            "text/plain": [
              "<Figure size 720x720 with 2 Axes>"
            ],
            "image/png": "[encoded data removed]"
          },
          "metadata": {
            "needs_background": "light"
          }
        }
      ]
    },
    {
      "cell_type": "code",
      "source": [
        "#print(data_raw['Ticket'].value_counts())\n",
        "#print(data_raw['Name'].value_counts())\n",
        "#print(data_raw['Survived'].value_counts())\n",
        "#print(data_raw['Pclass'].value_counts())\n",
        "#print(data_raw['SibSp'].value_counts())\n",
        "#print(data_raw['Parch'].value_counts())\n",
        "#print(data_raw['Fare'].value_counts())\n",
        "print(data_raw['Cabin'].value_counts())\n",
        "print(data_raw['Embarked'].value_counts())\n"
      ],
      "metadata": {
        "colab": {
          "base_uri": "https://localhost:8080/"
        },
        "id": "EYzVB_5EbJmO",
        "outputId": "3c829808-8c7d-47d7-b696-9c38530a6bdb"
      },
      "execution_count": 488,
      "outputs": [
        {
          "output_type": "stream",
          "name": "stdout",
          "text": [
            "B96 B98        4\n",
            "G6             4\n",
            "C23 C25 C27    4\n",
            "C22 C26        3\n",
            "F33            3\n",
            "              ..\n",
            "E34            1\n",
            "C7             1\n",
            "C54            1\n",
            "E36            1\n",
            "C148           1\n",
            "Name: Cabin, Length: 147, dtype: int64\n",
            "S    644\n",
            "C    168\n",
            "Q     77\n",
            "Name: Embarked, dtype: int64\n"
          ]
        }
      ]
    },
    {
      "cell_type": "code",
      "source": [
        "data_raw[\"PassengerId\"].hist(color='lightblue',edgecolor = 'black')\n",
        "plt.xlabel('PassengerId')\n",
        "plt.show()\n",
        "data_raw[\"Pclass\"].hist(color='lightgreen',edgecolor = 'black')\n",
        "plt.xlabel('Pclass')\n",
        "plt.show()\n",
        "data_raw[\"Age\"].hist(color='lightyellow',edgecolor = 'black')\n",
        "plt.xlabel('Age')\n",
        "plt.show()\n",
        "data_raw[\"SibSp\"].hist(color='lightblue',edgecolor = 'black')\n",
        "plt.xlabel('SibSp')\n",
        "plt.show()\n",
        "data_raw[\"Parch\"].hist(color='lightgreen',edgecolor = 'black')\n",
        "plt.xlabel('Parch')\n",
        "plt.show()\n",
        "data_raw[\"Fare\"].hist(color='lightyellow',edgecolor = 'black')\n",
        "plt.xlabel('Fare')\n",
        "plt.show()\n",
        "\n"
      ],
      "metadata": {
        "colab": {
          "base_uri": "https://localhost:8080/",
          "height": 0
        },
        "id": "53CsyC8Tpllg",
        "outputId": "07dbbad4-5b4c-4e5c-e7d5-f89223470cc7"
      },
      "execution_count": 489,
      "outputs": [
        {
          "output_type": "display_data",
          "data": {
            "text/plain": [
              "<Figure size 432x288 with 1 Axes>"
            ],
            "image/png": "[encoded data removed]"
          },
          "metadata": {
            "needs_background": "light"
          }
        },
        {
          "output_type": "display_data",
          "data": {
            "text/plain": [
              "<Figure size 432x288 with 1 Axes>"
            ],
            "image/png": "[encoded data removed]"
          },
          "metadata": {
            "needs_background": "light"
          }
        },
        {
          "output_type": "display_data",
          "data": {
            "text/plain": [
              "<Figure size 432x288 with 1 Axes>"
            ],
            "image/png": "[encoded data removed]"
          },
          "metadata": {
            "needs_background": "light"
          }
        },
        {
          "output_type": "display_data",
          "data": {
            "text/plain": [
              "<Figure size 432x288 with 1 Axes>"
            ],
            "image/png": "[encoded data removed]"
          },
          "metadata": {
            "needs_background": "light"
          }
        },
        {
          "output_type": "display_data",
          "data": {
            "text/plain": [
              "<Figure size 432x288 with 1 Axes>"
            ],
            "image/png": "[encoded data removed]"
          },
          "metadata": {
            "needs_background": "light"
          }
        },
        {
          "output_type": "display_data",
          "data": {
            "text/plain": [
              "<Figure size 432x288 with 1 Axes>"
            ],
            "image/png": "[encoded data removed]"
          },
          "metadata": {
            "needs_background": "light"
          }
        }
      ]
    },
    {
      "cell_type": "code",
      "source": [
        "sns.boxplot(data_raw[\"Age\"],color='lightgreen')\n",
        "plt.show()"
      ],
      "metadata": {
        "colab": {
          "base_uri": "https://localhost:8080/",
          "height": 0
        },
        "id": "mseYQqjDte4r",
        "outputId": "6f242b39-02a5-4f44-90dc-aef8d2724254"
      },
      "execution_count": 490,
      "outputs": [
        {
          "output_type": "stream",
          "name": "stderr",
          "text": [
            "/usr/local/lib/python3.8/dist-packages/seaborn/_decorators.py:36: FutureWarning: Pass the following variable as a keyword arg: x. From version 0.12, the only valid positional argument will be `data`, and passing other arguments without an explicit keyword will result in an error or misinterpretation.\n",
            "  warnings.warn(\n"
          ]
        },
        {
          "output_type": "display_data",
          "data": {
            "text/plain": [
              "<Figure size 432x288 with 1 Axes>"
            ],
            "image/png": "[encoded data removed]"
          },
          "metadata": {
            "needs_background": "light"
          }
        }
      ]
    },
    {
      "cell_type": "markdown",
      "source": [
        "# Cleaning Data"
      ],
      "metadata": {
        "id": "Ecdu5BRzgjhd"
      }
    },
    {
      "cell_type": "code",
      "source": [
        "data = data_raw.copy()\n",
        "data.drop([\"PassengerId\",\"Name\",\"Ticket\",\"Cabin\"],axis=1,inplace=True)\n",
        "print(data)"
      ],
      "metadata": {
        "colab": {
          "base_uri": "https://localhost:8080/"
        },
        "id": "BpwaUV6Igm97",
        "outputId": "b0dbc66b-7c07-47b3-ce64-149cf5f28a13"
      },
      "execution_count": 491,
      "outputs": [
        {
          "output_type": "stream",
          "name": "stdout",
          "text": [
            "     Survived  Pclass     Sex   Age  SibSp  Parch     Fare Embarked\n",
            "0           0       3    male  22.0      1      0   7.2500        S\n",
            "1           1       1  female  38.0      1      0  71.2833        C\n",
            "2           1       3  female  26.0      0      0   7.9250        S\n",
            "3           1       1  female  35.0      1      0  53.1000        S\n",
            "4           0       3    male  35.0      0      0   8.0500        S\n",
            "..        ...     ...     ...   ...    ...    ...      ...      ...\n",
            "886         0       2    male  27.0      0      0  13.0000        S\n",
            "887         1       1  female  19.0      0      0  30.0000        S\n",
            "888         0       3  female   NaN      1      2  23.4500        S\n",
            "889         1       1    male  26.0      0      0  30.0000        C\n",
            "890         0       3    male  32.0      0      0   7.7500        Q\n",
            "\n",
            "[891 rows x 8 columns]\n"
          ]
        }
      ]
    },
    {
      "cell_type": "code",
      "source": [
        "data.isna().sum()"
      ],
      "metadata": {
        "colab": {
          "base_uri": "https://localhost:8080/"
        },
        "id": "IoU2YhWKhAc6",
        "outputId": "892795f7-1b48-422a-e1be-9de20459a30c"
      },
      "execution_count": 492,
      "outputs": [
        {
          "output_type": "execute_result",
          "data": {
            "text/plain": [
              "Survived      0\n",
              "Pclass        0\n",
              "Sex           0\n",
              "Age         177\n",
              "SibSp         0\n",
              "Parch         0\n",
              "Fare          0\n",
              "Embarked      2\n",
              "dtype: int64"
            ]
          },
          "metadata": {},
          "execution_count": 492
        }
      ]
    },
    {
      "cell_type": "code",
      "source": [
        "data[\"Age\"].hist(color='lightyellow',edgecolor = 'black')\n",
        "plt.xlabel('Age')"
      ],
      "metadata": {
        "colab": {
          "base_uri": "https://localhost:8080/",
          "height": 0
        },
        "id": "bnFVakBBt2yY",
        "outputId": "8e0498d7-4a75-4808-84d4-8ba44a3facd5"
      },
      "execution_count": 493,
      "outputs": [
        {
          "output_type": "execute_result",
          "data": {
            "text/plain": [
              "Text(0.5, 0, 'Age')"
            ]
          },
          "metadata": {},
          "execution_count": 493
        },
        {
          "output_type": "display_data",
          "data": {
            "text/plain": [
              "<Figure size 432x288 with 1 Axes>"
            ],
            "image/png": "[encoded data removed]"
          },
          "metadata": {
            "needs_background": "light"
          }
        }
      ]
    },
    {
      "cell_type": "code",
      "source": [
        "f_total = []\n",
        "f_married = []\n",
        "f_single = []\n",
        "f_unknown = []\n",
        "\n",
        "#creating list and series with women and man married or not\n",
        "for i, v in data_raw[data_raw[\"Sex\"]==\"female\"][\"Name\"].items():\n",
        "  \n",
        "  if \"Mrs\" in v:\n",
        "    f_married.append(data_raw[\"Age\"][i])\n",
        "  elif \"Miss\" in v:\n",
        "    f_single.append(data_raw[\"Age\"][i])\n",
        "  else:\n",
        "    f_unknown.append(data_raw[\"Age\"][i])\n",
        "  f_total.append(data_raw[\"Age\"][i])\n",
        "\n",
        "S_f_married = pd.Series(f_married)\n",
        "S_f_single = pd.Series(f_single)\n",
        "S_f_unknown = pd.Series(f_unknown)\n",
        "S_m_total = pd.Series(data_raw[data_raw['Sex']=='male']['Age'])\n",
        "\n",
        "# Creating each mean\n",
        "\n",
        "\n",
        "\n",
        "mean_f_married, mean_f_single, mean_f_unknown, mean_m_total = 0,0,0,0\n",
        "\n",
        "if S_f_married.isna().sum() !=0:\n",
        "  mean_f_married = S_f_married.dropna().mean()\n",
        "if S_f_single.isna().sum() !=0:\n",
        "  mean_f_single = S_f_single.dropna().mean()\n",
        "if S_f_unknown.isna().sum() !=0:\n",
        "  mean_f_unknown = S_f_unknown.dropna().mean()\n",
        "if S_m_total.isna().sum() !=0:\n",
        "  mean_m_total = S_m_total.dropna().mean()\n",
        "\n",
        "\n",
        "\n",
        "\n",
        "# inverting the bool\n",
        "not_Mrs = ~data_raw['Name'].str.contains(\"Mrs\")\n",
        "not_Miss = ~data_raw['Name'].str.contains(\"Miss\")\n",
        "'''\n",
        "\n",
        "#data[(data_raw['Sex']=='female') & (data_raw[\"Name\"].str.contains(\"Mrs\"))]['Age'].replace(np.NaN, mean_f_married,inplace=True)\n",
        "#data[(data_raw['Sex']=='female') & (data_raw[\"Name\"].str.contains(\"Mrs\"))]['Age'].replace('nan',np.NaN).fillna(mean_f_married,inplace=True)\n",
        "#data[(data_raw['Sex']=='female') & (data_raw[\"Name\"].str.contains(\"Mrs\"))]['Age'] = data[(data_raw['Sex']=='female') & (data_raw[\"Name\"].str.contains(\"Mrs\"))]['Age'].fillna(mean_f_married,inplace=False)\n",
        "data[(data_raw['Sex']=='female') & (data_raw[\"Name\"].str.contains(\"Mrs\"))]['Age'].fillna(mean_f_married,inplace=True)\n",
        "data[(data_raw['Sex']=='female')& (data_raw['Name'].str.contains(\"Miss\"))]['Age'].fillna(mean_f_single,inplace=True)\n",
        "data[(data_raw['Sex']=='female')& (not_Mrs & not_Miss)]['Age'].fillna(mean_f_unknown,inplace=True)\n",
        "data[data_raw['Sex']=='male']['Age'].fillna(mean_m_total,inplace=True)\n",
        "'''\n",
        "\n",
        "# inserting the mean in data\n",
        "for i,v in data[(data_raw['Sex']=='female') & (data_raw[\"Name\"].str.contains(\"Mrs\"))]['Age'].items():\n",
        "  data[\"Age\"].loc[i]= mean_f_married\n",
        "for i,v in data[(data_raw['Sex']=='female')& (data_raw['Name'].str.contains(\"Miss\"))]['Age'].items():\n",
        "  data[\"Age\"].loc[i]= mean_f_single\n",
        "for i,v in data[(data_raw['Sex']=='female')& (not_Mrs & not_Miss)]['Age'].items():\n",
        "  data[\"Age\"].loc[i]= mean_f_unknown\n",
        "for i,v in data[data_raw['Sex']=='male']['Age'].items():\n",
        "  data[\"Age\"].loc[i]= mean_m_total\n",
        "\n",
        "\n",
        "print(data[(data_raw['Sex']=='female') & (data_raw[\"Name\"].str.contains(\"Mrs\"))]['Age'].isna().sum())\n",
        "\n",
        "print(mean_f_married)\n",
        "print(mean_f_single)\n",
        "print(mean_f_unknown)\n",
        "print(mean_m_total)\n",
        "\n",
        "print(f'Married: {f_married}')\n",
        "print(f'Single: {f_single}')\n",
        "print(f'Unknown: {f_unknown}')\n",
        "print(f'Total: {f_total}')\n",
        "\n",
        "\n",
        "'''\n",
        "x =data['Age'].dropna()\n",
        "y = np.mean(x)\n",
        "data['Age'].fillna(y,inplace=True)\n",
        "print(y)\n",
        "'''\n",
        "\n",
        "data['Embarked'].fillna('Unknown',inplace=True)\n",
        "data.isna().sum()\n"
      ],
      "metadata": {
        "id": "PYfwNsPxhjFx",
        "colab": {
          "base_uri": "https://localhost:8080/"
        },
        "outputId": "5dca35a6-9ad9-49aa-9e3a-fb2ea58dc523"
      },
      "execution_count": 494,
      "outputs": [
        {
          "output_type": "stream",
          "name": "stderr",
          "text": [
            "/usr/local/lib/python3.8/dist-packages/pandas/core/indexing.py:1732: SettingWithCopyWarning: \n",
            "A value is trying to be set on a copy of a slice from a DataFrame\n",
            "\n",
            "See the caveats in the documentation: https://pandas.pydata.org/pandas-docs/stable/user_guide/indexing.html#returning-a-view-versus-a-copy\n",
            "  self._setitem_single_block(indexer, value, name)\n"
          ]
        },
        {
          "output_type": "stream",
          "name": "stdout",
          "text": [
            "0\n",
            "35.642857142857146\n",
            "21.77777777777778\n",
            "0\n",
            "30.72664459161148\n",
            "Married: [38.0, 35.0, 27.0, 14.0, 55.0, 31.0, nan, 38.0, nan, 40.0, 27.0, 18.0, 49.0, 29.0, 29.0, 33.0, 34.0, 47.0, 29.0, nan, 24.0, 22.0, 40.0, nan, 45.0, nan, 32.0, 44.0, 24.0, 35.0, 24.0, 29.0, 41.0, 29.0, nan, 50.0, 58.0, 41.0, 35.0, 19.0, 50.0, 17.0, 26.0, 24.0, 40.0, 22.0, 36.0, 31.0, nan, nan, 45.0, 60.0, nan, nan, 35.0, 24.0, 28.0, nan, 34.0, 28.0, 28.0, 19.0, nan, 42.0, 24.0, 45.0, nan, 33.0, 23.0, 63.0, 35.0, 25.0, 33.0, 54.0, 34.0, 36.0, 44.0, nan, 19.0, 48.0, 39.0, 36.0, 29.0, 53.0, 39.0, nan, 39.0, 52.0, 24.0, 22.0, 39.0, 26.0, 41.0, 32.0, nan, 40.0, 43.0, 18.0, 45.0, 24.0, 30.0, 48.0, 48.0, 36.0, 51.0, 57.0, 54.0, 43.0, 17.0, 31.0, 30.0, 31.0, 33.0, 52.0, 27.0, 62.0, 15.0, nan, 44.0, 18.0, 45.0, 24.0, 48.0, 42.0, 47.0, 28.0, 56.0, 25.0, 39.0]\n",
            "Single: [26.0, 4.0, 58.0, 14.0, 15.0, 8.0, nan, nan, 18.0, 14.0, 3.0, 19.0, nan, 21.0, 5.0, 38.0, 17.0, 16.0, 30.0, nan, 17.0, 23.0, 28.0, 21.0, nan, 14.5, 20.0, 17.0, 2.0, 32.5, nan, 19.0, 22.0, 9.0, 16.0, 1.0, 50.0, nan, 4.0, 19.0, 58.0, nan, 2.0, 16.0, 35.0, 31.0, 27.0, 32.0, nan, 5.0, nan, 8.0, nan, nan, 25.0, 30.0, 35.0, nan, 35.0, nan, 63.0, 45.0, 22.0, 26.0, 24.0, 2.0, nan, nan, nan, 30.0, 24.0, 18.0, 26.0, 31.0, 30.0, 36.0, 16.0, nan, 41.0, 24.0, 24.0, 40.0, 22.0, 38.0, nan, nan, nan, 3.0, 22.0, 42.0, 1.0, 36.0, 17.0, 23.0, 31.0, 21.0, 20.0, nan, 33.0, 18.0, 10.0, 14.0, 21.0, 13.0, 5.0, 50.0, 0.75, 22.0, 2.0, nan, 54.0, 21.0, nan, 37.0, 16.0, 30.0, 50.0, 2.0, 30.0, 7.0, 30.0, 22.0, 36.0, 9.0, 11.0, 22.0, nan, nan, 34.0, 25.0, 18.0, nan, nan, 40.0, nan, 24.0, 4.0, 21.0, 9.0, 28.0, 2.0, 0.75, 23.0, 18.0, nan, 18.0, 18.0, nan, 15.0, 4.0, nan, 18.0, 22.0, 38.0, 27.0, 6.0, nan, 25.0, 29.0, 21.0, 30.0, 4.0, 30.5, 5.0, 13.0, 18.0, nan, 18.0, 6.0, 23.0, 39.0, 30.0, 9.0, 16.0, nan, 27.0, 15.0, 22.0, 19.0, nan]\n",
            "Unknown: [24.0, 28.0, 24.0, 33.0, 49.0]\n",
            "Total: [38.0, 26.0, 35.0, 27.0, 14.0, 4.0, 58.0, 14.0, 55.0, 31.0, nan, 15.0, 8.0, 38.0, nan, nan, nan, 18.0, 14.0, 40.0, 27.0, 3.0, 19.0, nan, 18.0, 49.0, 29.0, 21.0, 5.0, 38.0, 29.0, 17.0, 16.0, 30.0, nan, 17.0, 33.0, 23.0, 34.0, 28.0, 21.0, nan, 14.5, 20.0, 17.0, 2.0, 32.5, nan, 47.0, 29.0, 19.0, nan, 22.0, 24.0, 9.0, 22.0, 16.0, 40.0, nan, 45.0, 1.0, 50.0, nan, 4.0, nan, 32.0, 19.0, 44.0, 58.0, nan, 24.0, 2.0, 16.0, 35.0, 31.0, 27.0, 32.0, nan, 35.0, 5.0, nan, 8.0, nan, nan, 25.0, 24.0, 29.0, 41.0, 29.0, nan, 30.0, 35.0, 50.0, nan, 58.0, 35.0, 41.0, nan, 63.0, 45.0, 35.0, 22.0, 26.0, 19.0, 24.0, 2.0, 50.0, nan, nan, nan, 17.0, 30.0, 24.0, 18.0, 26.0, 26.0, 24.0, 31.0, 40.0, 30.0, 22.0, 36.0, 36.0, 31.0, 16.0, nan, nan, 41.0, 24.0, 24.0, 40.0, nan, 22.0, 38.0, nan, nan, 45.0, 60.0, nan, nan, 24.0, 3.0, nan, 22.0, 42.0, 1.0, 35.0, 36.0, 17.0, 23.0, 24.0, 31.0, 28.0, 21.0, 20.0, nan, 33.0, nan, 34.0, 18.0, 10.0, 28.0, 28.0, 19.0, nan, 42.0, 14.0, 21.0, 24.0, 45.0, 28.0, 13.0, 5.0, nan, 50.0, 0.75, 33.0, 23.0, 22.0, 2.0, 63.0, nan, 35.0, 54.0, 25.0, 21.0, nan, 37.0, 16.0, 33.0, 54.0, 34.0, 36.0, 30.0, 44.0, 50.0, 2.0, nan, 30.0, 7.0, 30.0, 22.0, 36.0, 9.0, 11.0, 19.0, 22.0, 48.0, 39.0, 36.0, nan, 29.0, 53.0, nan, 34.0, 39.0, nan, 25.0, 39.0, 18.0, 52.0, nan, nan, 24.0, 22.0, 40.0, 39.0, nan, 24.0, 26.0, 4.0, 21.0, 9.0, 28.0, 41.0, 24.0, 2.0, 0.75, 23.0, 18.0, nan, 18.0, 32.0, nan, 40.0, 18.0, 43.0, nan, 15.0, 4.0, nan, 18.0, 18.0, 45.0, 22.0, 24.0, 38.0, 27.0, 6.0, 30.0, nan, 25.0, 29.0, 48.0, 21.0, 30.0, 4.0, 48.0, 33.0, 36.0, 51.0, 30.5, 57.0, 54.0, 5.0, 43.0, 13.0, 17.0, 18.0, nan, 49.0, 31.0, 30.0, 31.0, 18.0, 33.0, 6.0, 23.0, 52.0, 27.0, 62.0, 15.0, 39.0, 30.0, nan, 9.0, 16.0, 44.0, 18.0, 45.0, 24.0, 48.0, nan, 42.0, 27.0, 47.0, 28.0, 15.0, 56.0, 25.0, 22.0, 39.0, 19.0, nan]\n"
          ]
        },
        {
          "output_type": "execute_result",
          "data": {
            "text/plain": [
              "Survived    0\n",
              "Pclass      0\n",
              "Sex         0\n",
              "Age         0\n",
              "SibSp       0\n",
              "Parch       0\n",
              "Fare        0\n",
              "Embarked    0\n",
              "dtype: int64"
            ]
          },
          "metadata": {},
          "execution_count": 494
        }
      ]
    },
    {
      "cell_type": "code",
      "source": [
        "f = pd.DataFrame(data = [[0, 0]], columns = ['A', 'B']).astype('Int64')\n",
        "f['C'] = f['A'] / f['B']\n",
        "f.fillna(0)"
      ],
      "metadata": {
        "colab": {
          "base_uri": "https://localhost:8080/",
          "height": 0
        },
        "id": "fkloucUTDCVu",
        "outputId": "cdc5f2ed-9c14-406b-913c-49ab077756d6"
      },
      "execution_count": 495,
      "outputs": [
        {
          "output_type": "execute_result",
          "data": {
            "text/plain": [
              "   A  B    C\n",
              "0  0  0  NaN"
            ],
            "text/html": [
              "\n",
              "  <div id=\"df-48d4f5b2-8273-4a9a-9822-3fd28206cbec\">\n",
              "    <div class=\"colab-df-container\">\n",
              "      <div>\n",
              "<style scoped>\n",
              "    .dataframe tbody tr th:only-of-type {\n",
              "        vertical-align: middle;\n",
              "    }\n",
              "\n",
              "    .dataframe tbody tr th {\n",
              "        vertical-align: top;\n",
              "    }\n",
              "\n",
              "    .dataframe thead th {\n",
              "        text-align: right;\n",
              "    }\n",
              "</style>\n",
              "<table border=\"1\" class=\"dataframe\">\n",
              "  <thead>\n",
              "    <tr style=\"text-align: right;\">\n",
              "      <th></th>\n",
              "      <th>A</th>\n",
              "      <th>B</th>\n",
              "      <th>C</th>\n",
              "    </tr>\n",
              "  </thead>\n",
              "  <tbody>\n",
              "    <tr>\n",
              "      <th>0</th>\n",
              "      <td>0</td>\n",
              "      <td>0</td>\n",
              "      <td>NaN</td>\n",
              "    </tr>\n",
              "  </tbody>\n",
              "</table>\n",
              "</div>\n",
              "      <button class=\"colab-df-convert\" onclick=\"convertToInteractive('df-48d4f5b2-8273-4a9a-9822-3fd28206cbec')\"\n",
              "              title=\"Convert this dataframe to an interactive table.\"\n",
              "              style=\"display:none;\">\n",
              "        \n",
              "  <svg xmlns=\"http://www.w3.org/2000/svg\" height=\"24px\"viewBox=\"0 0 24 24\"\n",
              "       width=\"24px\">\n",
              "    <path d=\"M0 0h24v24H0V0z\" fill=\"none\"/>\n",
              "    <path d=\"M18.56 5.44l.94 2.06.94-2.06 2.06-.94-2.06-.94-.94-2.06-.94 2.06-2.06.94zm-11 1L8.5 8.5l.94-2.06 2.06-.94-2.06-.94L8.5 2.5l-.94 2.06-2.06.94zm10 10l.94 2.06.94-2.06 2.06-.94-2.06-.94-.94-2.06-.94 2.06-2.06.94z\"/><path d=\"M17.41 7.96l-1.37-1.37c-.4-.4-.92-.59-1.43-.59-.52 0-1.04.2-1.43.59L10.3 9.45l-7.72 7.72c-.78.78-.78 2.05 0 2.83L4 21.41c.39.39.9.59 1.41.59.51 0 1.02-.2 1.41-.59l7.78-7.78 2.81-2.81c.8-.78.8-2.07 0-2.86zM5.41 20L4 18.59l7.72-7.72 1.47 1.35L5.41 20z\"/>\n",
              "  </svg>\n",
              "      </button>\n",
              "      \n",
              "  <style>\n",
              "    .colab-df-container {\n",
              "      display:flex;\n",
              "      flex-wrap:wrap;\n",
              "      gap: 12px;\n",
              "    }\n",
              "\n",
              "    .colab-df-convert {\n",
              "      background-color: #E8F0FE;\n",
              "      border: none;\n",
              "      border-radius: 50%;\n",
              "      cursor: pointer;\n",
              "      display: none;\n",
              "      fill: #1967D2;\n",
              "      height: 32px;\n",
              "      padding: 0 0 0 0;\n",
              "      width: 32px;\n",
              "    }\n",
              "\n",
              "    .colab-df-convert:hover {\n",
              "      background-color: #E2EBFA;\n",
              "      box-shadow: 0px 1px 2px rgba(60, 64, 67, 0.3), 0px 1px 3px 1px rgba(60, 64, 67, 0.15);\n",
              "      fill: #174EA6;\n",
              "    }\n",
              "\n",
              "    [theme=dark] .colab-df-convert {\n",
              "      background-color: #3B4455;\n",
              "      fill: #D2E3FC;\n",
              "    }\n",
              "\n",
              "    [theme=dark] .colab-df-convert:hover {\n",
              "      background-color: #434B5C;\n",
              "      box-shadow: 0px 1px 3px 1px rgba(0, 0, 0, 0.15);\n",
              "      filter: drop-shadow(0px 1px 2px rgba(0, 0, 0, 0.3));\n",
              "      fill: #FFFFFF;\n",
              "    }\n",
              "  </style>\n",
              "\n",
              "      <script>\n",
              "        const buttonEl =\n",
              "          document.querySelector('#df-48d4f5b2-8273-4a9a-9822-3fd28206cbec button.colab-df-convert');\n",
              "        buttonEl.style.display =\n",
              "          google.colab.kernel.accessAllowed ? 'block' : 'none';\n",
              "\n",
              "        async function convertToInteractive(key) {\n",
              "          const element = document.querySelector('#df-48d4f5b2-8273-4a9a-9822-3fd28206cbec');\n",
              "          const dataTable =\n",
              "            await google.colab.kernel.invokeFunction('convertToInteractive',\n",
              "                                                     [key], {});\n",
              "          if (!dataTable) return;\n",
              "\n",
              "          const docLinkHtml = 'Like what you see? Visit the ' +\n",
              "            '<a target=\"_blank\" href=https://colab.research.google.com/notebooks/data_table.ipynb>data table notebook</a>'\n",
              "            + ' to learn more about interactive tables.';\n",
              "          element.innerHTML = '';\n",
              "          dataTable['output_type'] = 'display_data';\n",
              "          await google.colab.output.renderOutput(dataTable, element);\n",
              "          const docLink = document.createElement('div');\n",
              "          docLink.innerHTML = docLinkHtml;\n",
              "          element.appendChild(docLink);\n",
              "        }\n",
              "      </script>\n",
              "    </div>\n",
              "  </div>\n",
              "  "
            ]
          },
          "metadata": {},
          "execution_count": 495
        }
      ]
    },
    {
      "cell_type": "code",
      "source": [
        "data[\"Age\"].hist(color='lightyellow',edgecolor = 'black')\n",
        "plt.xlabel('Age')"
      ],
      "metadata": {
        "colab": {
          "base_uri": "https://localhost:8080/",
          "height": 0
        },
        "id": "qxudWPuntz6o",
        "outputId": "c02c3e08-bec1-4c5b-d6c4-9380ca2ef62f"
      },
      "execution_count": 496,
      "outputs": [
        {
          "output_type": "execute_result",
          "data": {
            "text/plain": [
              "Text(0.5, 0, 'Age')"
            ]
          },
          "metadata": {},
          "execution_count": 496
        },
        {
          "output_type": "display_data",
          "data": {
            "text/plain": [
              "<Figure size 432x288 with 1 Axes>"
            ],
            "image/png": "[encoded data removed]"
          },
          "metadata": {
            "needs_background": "light"
          }
        }
      ]
    },
    {
      "cell_type": "code",
      "source": [
        "print(data)"
      ],
      "metadata": {
        "colab": {
          "base_uri": "https://localhost:8080/"
        },
        "id": "c8pkuVGbh-Kh",
        "outputId": "db684022-000a-4cb5-adcd-5c7284edbced"
      },
      "execution_count": 497,
      "outputs": [
        {
          "output_type": "stream",
          "name": "stdout",
          "text": [
            "     Survived  Pclass     Sex        Age  SibSp  Parch     Fare Embarked\n",
            "0           0       3    male  30.726645      1      0   7.2500        S\n",
            "1           1       1  female  35.642857      1      0  71.2833        C\n",
            "2           1       3  female  21.777778      0      0   7.9250        S\n",
            "3           1       1  female  35.642857      1      0  53.1000        S\n",
            "4           0       3    male  30.726645      0      0   8.0500        S\n",
            "..        ...     ...     ...        ...    ...    ...      ...      ...\n",
            "886         0       2    male  30.726645      0      0  13.0000        S\n",
            "887         1       1  female  21.777778      0      0  30.0000        S\n",
            "888         0       3  female  21.777778      1      2  23.4500        S\n",
            "889         1       1    male  30.726645      0      0  30.0000        C\n",
            "890         0       3    male  30.726645      0      0   7.7500        Q\n",
            "\n",
            "[891 rows x 8 columns]\n"
          ]
        }
      ]
    },
    {
      "cell_type": "code",
      "source": [
        "print(data.isna().sum())\n",
        "print(data['Age'].dtype)"
      ],
      "metadata": {
        "colab": {
          "base_uri": "https://localhost:8080/"
        },
        "id": "rgeBBhcPizKI",
        "outputId": "c4b0484c-bae3-4005-ca38-44327f2fa4c8"
      },
      "execution_count": 498,
      "outputs": [
        {
          "output_type": "stream",
          "name": "stdout",
          "text": [
            "Survived    0\n",
            "Pclass      0\n",
            "Sex         0\n",
            "Age         0\n",
            "SibSp       0\n",
            "Parch       0\n",
            "Fare        0\n",
            "Embarked    0\n",
            "dtype: int64\n",
            "float64\n"
          ]
        }
      ]
    },
    {
      "cell_type": "markdown",
      "source": [
        "#Chi-Square Independence Test\n"
      ],
      "metadata": {
        "id": "_hmt3c4N7oye"
      }
    },
    {
      "cell_type": "markdown",
      "source": [
        "Although the name of this statistical test is similar to the previous test, the Chi-Square independence test has a different purpose compared to Chi-Square GoF. We use indepence test when we want to observe whether there is an association between two discrete or categorical variables.\n",
        "\n",
        "To properly conduct this statistical test, we need to make sure that our data fulfills the following conditions:\n",
        "\n",
        "-The two variables should be discrete or categorical variables\n",
        "\n",
        "-The sample size of both categories should be large enough. As a rule of thumb, there should be 5 samples in each category\n",
        "\n",
        "-The samples from both categories are randomly selected.\n"
      ],
      "metadata": {
        "id": "GyWB3UDwWYeE"
      }
    },
    {
      "cell_type": "markdown",
      "source": [
        "##Sex"
      ],
      "metadata": {
        "id": "grddogDs48_r"
      }
    },
    {
      "cell_type": "code",
      "source": [
        "print(\"Ho = hipotesis null, Survived do not differ significantly from Sex\")\n",
        "print(\"Ha = alternative hipotesis, Survived differ significantly from Sex\")\n",
        "\n",
        "ct = pd.crosstab(data[\"Survived\"],data[\"Sex\"])\n",
        "print(ct)\n",
        "chi2, p , dof, expected = stats.chi2_contingency(ct)\n",
        "\n",
        "if (p>0.05):\n",
        "  print(f\"Ho was not rejected, p= {p}\")\n",
        "else:\n",
        "  print(f\"Ho was rejected, p= {p}\")"
      ],
      "metadata": {
        "colab": {
          "base_uri": "https://localhost:8080/"
        },
        "id": "75yM4qoDe3Rd",
        "outputId": "10fb9516-5d44-442c-bb9f-a3c3a154715d"
      },
      "execution_count": 499,
      "outputs": [
        {
          "output_type": "stream",
          "name": "stdout",
          "text": [
            "Ho = hipotesis null, Survived do not differ significantly from Sex\n",
            "Ha = alternative hipotesis, Survived differ significantly from Sex\n",
            "Sex       female  male\n",
            "Survived              \n",
            "0             81   468\n",
            "1            233   109\n",
            "Ho was rejected, p= 1.1973570627755645e-58\n"
          ]
        }
      ]
    },
    {
      "cell_type": "markdown",
      "source": [
        "##Pclass"
      ],
      "metadata": {
        "id": "ohvJzqNs5DcH"
      }
    },
    {
      "cell_type": "code",
      "source": [
        "print(\"Ho = hipotesis null, Survived do not differ significantly from Pclass\")\n",
        "print(\"Ha = alternative hipotesis, Survived differ significantly from Pclass\")\n",
        "\n",
        "ct = pd.crosstab(data['Pclass'], data['Survived'])\n",
        "print(ct)\n",
        "chi2, p , dof, expected = stats.chi2_contingency(ct)\n",
        "\n",
        "if (p>0.05):\n",
        "  print(f\"Ho was not rejected, p= {p}\")\n",
        "else:\n",
        "  print(f\"Ho was rejected, p= {p}\")"
      ],
      "metadata": {
        "colab": {
          "base_uri": "https://localhost:8080/"
        },
        "id": "00FsBMsor0kZ",
        "outputId": "d97436b4-6dcc-4aff-c240-c21b3bf2de85"
      },
      "execution_count": 500,
      "outputs": [
        {
          "output_type": "stream",
          "name": "stdout",
          "text": [
            "Ho = hipotesis null, Survived do not differ significantly from Pclass\n",
            "Ha = alternative hipotesis, Survived differ significantly from Pclass\n",
            "Survived    0    1\n",
            "Pclass            \n",
            "1          80  136\n",
            "2          97   87\n",
            "3         372  119\n",
            "Ho was rejected, p= 4.549251711298793e-23\n"
          ]
        }
      ]
    },
    {
      "cell_type": "markdown",
      "source": [
        "##SibSp"
      ],
      "metadata": {
        "id": "mtVuJSaJ5FlA"
      }
    },
    {
      "cell_type": "code",
      "source": [
        "print(\"Ho = hipotesis null, Survived do not differ significantly from SibSp\")\n",
        "print(\"Ha = alternative hipotesis, Survived differ significantly from SibSp\")\n",
        "\n",
        "ct = pd.crosstab(data['SibSp'], data['Survived'])\n",
        "print(ct)\n",
        "chi2, p , dof, expected = stats.chi2_contingency(ct)\n",
        "\n",
        "if (p>0.05):\n",
        "  print(f\"Ho was not rejected, p= {p}\")\n",
        "else:\n",
        "  print(f\"Ho was rejected, p= {p}\")"
      ],
      "metadata": {
        "colab": {
          "base_uri": "https://localhost:8080/"
        },
        "id": "VudmMLv20Rdu",
        "outputId": "16960169-d86b-4cde-e1d9-c63c637a24f4"
      },
      "execution_count": 501,
      "outputs": [
        {
          "output_type": "stream",
          "name": "stdout",
          "text": [
            "Ho = hipotesis null, Survived do not differ significantly from SibSp\n",
            "Ha = alternative hipotesis, Survived differ significantly from SibSp\n",
            "Survived    0    1\n",
            "SibSp             \n",
            "0         398  210\n",
            "1          97  112\n",
            "2          15   13\n",
            "3          12    4\n",
            "4          15    3\n",
            "5           5    0\n",
            "8           7    0\n",
            "Ho was rejected, p= 1.5585810465902147e-06\n"
          ]
        }
      ]
    },
    {
      "cell_type": "code",
      "source": [
        "#without 2 last rows, because they have small data\n",
        "\n",
        "print(\"Ho = hipotesis null, Survived do not differ significantly from SibSp\")\n",
        "print(\"Ha = alternative hipotesis, Survived differ significantly from SibSp\")\n",
        "\n",
        "ct = pd.crosstab(data['SibSp'], data['Survived'])\n",
        "ct.drop([8,5],inplace=True)\n",
        "print(ct)\n",
        "chi2, p , dof, expected = stats.chi2_contingency(ct)\n",
        "\n",
        "if (p>0.05):\n",
        "  print(f\"Ho was not rejected, p= {p}\")\n",
        "else:\n",
        "  print(f\"Ho was rejected, p= {p}\")"
      ],
      "metadata": {
        "colab": {
          "base_uri": "https://localhost:8080/"
        },
        "id": "-Y-0zy2o5haC",
        "outputId": "25991c6b-07b1-4f12-dcd9-e61bd43c1920"
      },
      "execution_count": 502,
      "outputs": [
        {
          "output_type": "stream",
          "name": "stdout",
          "text": [
            "Ho = hipotesis null, Survived do not differ significantly from SibSp\n",
            "Ha = alternative hipotesis, Survived differ significantly from SibSp\n",
            "Survived    0    1\n",
            "SibSp             \n",
            "0         398  210\n",
            "1          97  112\n",
            "2          15   13\n",
            "3          12    4\n",
            "4          15    3\n",
            "Ho was rejected, p= 6.0554702010956636e-06\n"
          ]
        }
      ]
    },
    {
      "cell_type": "markdown",
      "source": [
        "##Parch"
      ],
      "metadata": {
        "id": "EFYLclCQ5If1"
      }
    },
    {
      "cell_type": "code",
      "source": [
        "print(\"Ho = hipotesis null, Survived do not differ significantly from Parch\")\n",
        "print(\"Ha = alternative hipotesis, Survived differ significantly from Parch\")\n",
        "\n",
        "ct = pd.crosstab(data['Parch'], data['Survived'])\n",
        "print(ct)\n",
        "chi2, p , dof, expected = stats.chi2_contingency(ct)\n",
        "\n",
        "if (p>0.05):\n",
        "  print(f\"Ho was not rejected, p= {p}\")\n",
        "else:\n",
        "  print(f\"Ho was rejected, p= {p}\")\n",
        "\n",
        "\n"
      ],
      "metadata": {
        "colab": {
          "base_uri": "https://localhost:8080/"
        },
        "id": "wRPFu0LI1Drd",
        "outputId": "f8b062a7-a681-471e-bef8-b6a02ea41c41"
      },
      "execution_count": 503,
      "outputs": [
        {
          "output_type": "stream",
          "name": "stdout",
          "text": [
            "Ho = hipotesis null, Survived do not differ significantly from Parch\n",
            "Ha = alternative hipotesis, Survived differ significantly from Parch\n",
            "Survived    0    1\n",
            "Parch             \n",
            "0         445  233\n",
            "1          53   65\n",
            "2          40   40\n",
            "3           2    3\n",
            "4           4    0\n",
            "5           4    1\n",
            "6           1    0\n",
            "Ho was rejected, p= 9.703526421039997e-05\n"
          ]
        }
      ]
    },
    {
      "cell_type": "code",
      "source": [
        "#without 4 last rows, because they have small data\n",
        "\n",
        "print(\"Ho = hipotesis null, Survived do not differ significantly from Parch\")\n",
        "print(\"Ha = alternative hipotesis, Survived differ significantly from Parch\")\n",
        "\n",
        "ct = pd.crosstab(data['Parch'], data['Survived'])\n",
        "ct.drop([6,5,4,3],inplace=True)\n",
        "print(ct)\n",
        "chi2, p , dof, expected = stats.chi2_contingency(ct)\n",
        "\n",
        "if (p>0.05):\n",
        "  print(f\"Ho was not rejected, p= {p}\")\n",
        "else:\n",
        "  print(f\"Ho was rejected, p= {p}\")"
      ],
      "metadata": {
        "colab": {
          "base_uri": "https://localhost:8080/"
        },
        "id": "eT0Ue2jp1BPX",
        "outputId": "00d6ce41-dca3-40a9-816e-ef71834a443d"
      },
      "execution_count": 504,
      "outputs": [
        {
          "output_type": "stream",
          "name": "stdout",
          "text": [
            "Ho = hipotesis null, Survived do not differ significantly from Parch\n",
            "Ha = alternative hipotesis, Survived differ significantly from Parch\n",
            "Survived    0    1\n",
            "Parch             \n",
            "0         445  233\n",
            "1          53   65\n",
            "2          40   40\n",
            "Ho was rejected, p= 9.886126509051846e-06\n"
          ]
        }
      ]
    },
    {
      "cell_type": "markdown",
      "source": [
        "##Embarked"
      ],
      "metadata": {
        "id": "Jw0HS122U-y7"
      }
    },
    {
      "cell_type": "code",
      "source": [
        "#without 4 last rows, because they have small data\n",
        "\n",
        "print(\"Ho = hipotesis null, Survived do not differ significantly from Embarked\")\n",
        "print(\"Ha = alternative hipotesis, Survived differ significantly from Embarked\")\n",
        "\n",
        "ct = pd.crosstab(data['Embarked'], data['Survived'])\n",
        "print(ct)\n",
        "ct.drop('Unknown',inplace=True)\n",
        "\n",
        "chi2, p , dof, expected = stats.chi2_contingency(ct)\n",
        "\n",
        "if (p>0.05):\n",
        "  print(f\"Ho was not rejected, p= {p}\")\n",
        "else:\n",
        "  print(f\"Ho was rejected, p= {p}\")"
      ],
      "metadata": {
        "colab": {
          "base_uri": "https://localhost:8080/"
        },
        "id": "ls55Ut2tNsr6",
        "outputId": "e032e8bc-28bf-4381-8788-8c1cd76bdd31"
      },
      "execution_count": 505,
      "outputs": [
        {
          "output_type": "stream",
          "name": "stdout",
          "text": [
            "Ho = hipotesis null, Survived do not differ significantly from Embarked\n",
            "Ha = alternative hipotesis, Survived differ significantly from Embarked\n",
            "Survived    0    1\n",
            "Embarked          \n",
            "C          75   93\n",
            "Q          47   30\n",
            "S         427  217\n",
            "Unknown     0    2\n",
            "Ho was rejected, p= 1.769922284120912e-06\n"
          ]
        }
      ]
    },
    {
      "cell_type": "markdown",
      "source": [
        "#Two-Sample t-Test\n"
      ],
      "metadata": {
        "id": "MU7KCz0u8LXD"
      }
    },
    {
      "cell_type": "markdown",
      "source": [
        "So far, we have covered the case where we want to infer one variable. In some cases, what we want to do instead is to compare two independent variables and observe whether there is any significant difference between two variables. For this purpose, we can use a two-sample t-test.\n",
        "\n",
        "To properly conduct this test, we need to make sure that our data fulfills the following conditions.\n",
        "\n",
        "-Two variables are independent\n",
        "\n",
        "-Two variables are randomly selected from their population\n",
        "\n",
        "-Two variables are continuous variables and have normal distribution distribution\n",
        "\n",
        "-The result of the statistical test will be more robust or reliable if the sample size of two variables are the same."
      ],
      "metadata": {
        "id": "VzRPrGEEWcxE"
      }
    },
    {
      "cell_type": "markdown",
      "source": [
        "## Age"
      ],
      "metadata": {
        "id": "OXBHwfzU6A-D"
      }
    },
    {
      "cell_type": "code",
      "source": [
        "t,p= stats.ttest_ind(data[data[\"Survived\"]==0][\"Age\"],data[data[\"Survived\"]==1][\"Age\"] )\n",
        "\n",
        "print(\"Ho = hipotesis null, the Survived do not differ significantly from Age\")\n",
        "print(\"Ha = alternative hipotesis, the Survived differ significantly from Age\")\n",
        "\n",
        "if (p>0.05):\n",
        "  print(f\"Ho was not rejected, p= {p}\")\n",
        "else:\n",
        "  print(f\"Ho was rejected, p= {p}\")"
      ],
      "metadata": {
        "colab": {
          "base_uri": "https://localhost:8080/"
        },
        "id": "XzrY4VBc4fFC",
        "outputId": "47c631c0-c177-44c0-a2fa-194f6eaeeb74"
      },
      "execution_count": 506,
      "outputs": [
        {
          "output_type": "stream",
          "name": "stdout",
          "text": [
            "Ho = hipotesis null, the Survived do not differ significantly from Age\n",
            "Ha = alternative hipotesis, the Survived differ significantly from Age\n",
            "Ho was rejected, p= 5.776931212456581e-07\n"
          ]
        }
      ]
    },
    {
      "cell_type": "markdown",
      "source": [
        "#Kruskal-Wallis H-test "
      ],
      "metadata": {
        "id": "PsqWH4rELOwG"
      }
    },
    {
      "cell_type": "markdown",
      "source": [
        "tests the null hypothesis that the population median of all of the groups are equal. It is a non-parametric version of ANOVA. The test works on 2 or more independent samples, which may have different sizes. Note that rejecting the null hypothesis does not indicate which of the groups differs. Post hoc comparisons between groups are required to determine which groups are different."
      ],
      "metadata": {
        "id": "ghETAY_PWh5w"
      }
    },
    {
      "cell_type": "markdown",
      "source": [
        "## Fare"
      ],
      "metadata": {
        "id": "C9Ybd8bP6E96"
      }
    },
    {
      "cell_type": "code",
      "source": [
        "x = data[data[\"Survived\"]==0][\"Fare\"]\n",
        "y = data[data[\"Survived\"]==1][\"Fare\"]\n",
        "t,p= stats.kruskal(x,y)\n",
        "\n",
        "print(\"Ho = hipotesis null, the Survived do not differ significantly from Fare\")\n",
        "print(\"Ha = alternative hipotesis, the Survived differ significantly from Fare\")\n",
        "\n",
        "if (p>0.05):\n",
        "  print(f\"Ho was not rejected, p= {p}\")\n",
        "else:\n",
        "  print(f\"Ho was rejected, p= {p}\")"
      ],
      "metadata": {
        "colab": {
          "base_uri": "https://localhost:8080/"
        },
        "id": "NDSzuJ6zLeBL",
        "outputId": "0873c0e4-127c-44c1-e653-642b94cfa5e0"
      },
      "execution_count": 507,
      "outputs": [
        {
          "output_type": "stream",
          "name": "stdout",
          "text": [
            "Ho = hipotesis null, the Survived do not differ significantly from Fare\n",
            "Ha = alternative hipotesis, the Survived differ significantly from Fare\n",
            "Ho was rejected, p= 4.547532067492866e-22\n"
          ]
        }
      ]
    },
    {
      "cell_type": "code",
      "source": [
        "x = data[data[\"Embarked\"]=='C'][\"Fare\"]\n",
        "y = data[data[\"Embarked\"]=='Q'][\"Fare\"]\n",
        "w = data[data[\"Embarked\"]=='S'][\"Fare\"]\n",
        "z = data[data[\"Embarked\"]=='Unknown'][\"Fare\"]\n",
        "t,p= stats.kruskal(x,y)\n",
        "\n",
        "print(\"Ho = hipotesis null, the Embarked do not differ significantly from Fare\")\n",
        "print(\"Ha = alternative hipotesis, the Embarked differ significantly from Fare\")\n",
        "\n",
        "if (p>0.05):\n",
        "  print(f\"Ho was not rejected, p= {p}\")\n",
        "else:\n",
        "  print(f\"Ho was rejected, p= {p}\")"
      ],
      "metadata": {
        "colab": {
          "base_uri": "https://localhost:8080/"
        },
        "id": "hjazimXU0tIM",
        "outputId": "07465cf8-9372-42c2-95fa-6bf4a4c2b17e"
      },
      "execution_count": 508,
      "outputs": [
        {
          "output_type": "stream",
          "name": "stdout",
          "text": [
            "Ho = hipotesis null, the Embarked do not differ significantly from Fare\n",
            "Ha = alternative hipotesis, the Embarked differ significantly from Fare\n",
            "Ho was rejected, p= 1.0994721986857202e-10\n"
          ]
        }
      ]
    },
    {
      "cell_type": "markdown",
      "source": [
        "#Statistical tests info"
      ],
      "metadata": {
        "id": "m-hF-pwtO8S7"
      }
    },
    {
      "cell_type": "markdown",
      "source": [
        "### **Parametric statistical tests (normal distribution)**\n",
        "---\n",
        "-Z-test: difference between a sample and the population with standard deviation\n",
        "`ztest`\n",
        "\n",
        "---\n",
        "-One-Sample t-test: Same as Z-test without standard deviation\n",
        "`ttest_1samp`\n",
        "\n",
        "---\n",
        "-Paired t-tests: difference between two samples\n",
        "`ttest_rel`\n",
        "\n",
        "---\n",
        "Two-Sample t-Test: there is any significant difference between two variables\n",
        "`ttest_ind`\n",
        "\n",
        "---\n",
        "-ANOVA tests:more than two groups\n",
        "`f_oneway`\n",
        "\n",
        "---\n",
        "-Correlation test, Pearson’s:\n",
        "\n",
        "---\n",
        "-Independent t-tests:\n",
        "\n",
        "---\n",
        "-F-test:\n",
        "\n",
        "---\n"
      ],
      "metadata": {
        "id": "RgQHshGkBSiZ"
      }
    },
    {
      "cell_type": "markdown",
      "source": [
        "\n",
        "### **Non-Parametric Statistical Tests**\n",
        "\n",
        "-Chi-Square Goodness-of-Fit, GoF(**not continuous**): compare the observed frequencies of a sample with its expected frequencies\n",
        "`chisquare`\n",
        "\n",
        "---\n",
        "-Chi-square test of independence(**not continuous**): there is an association between two discrete or categorical variables\n",
        "`chi2_contingency`\n",
        "\n",
        "---\n",
        "\n",
        "-Wilcoxon rank-sum test:\n",
        "\n",
        "---\n",
        "-Kruskal-Wallis H test(**continuous or categorical data**): compare the means of two or more groups \n",
        "`kruskal`\n",
        "\n",
        "---\n",
        "-The Friedman Test: \n",
        "\n",
        "---\n",
        "-The Cochran’s Q Test:\n",
        "\n",
        "---\n",
        "-The Jonckheere-Terpstra Test:\n",
        "\n",
        "---"
      ],
      "metadata": {
        "id": "bYmCJcw6PC6-"
      }
    },
    {
      "cell_type": "markdown",
      "source": [
        "### References\n",
        "\n",
        "---\n",
        "\n",
        "https://www.stratascratch.com/blog/basic-types-of-statistical-tests-in-data-science/#:~:text=for%20population%20mean.-,Z%2Dtest%20for%20Population%20Mean,mean%20against%20the%20population%20mean.\n",
        "\n",
        "---\n",
        "\n",
        "https://vitalflux.com/different-types-of-statistical-tests-concepts-examples/#:~:text=Statistical%20tests%20are%20an%20important,difference%20between%20the%20two%20groups.\n",
        "\n",
        "---\n",
        "\n",
        "https://docs.scipy.org/doc/scipy/reference/generated/scipy.stats.kruskal.html\n",
        "\n"
      ],
      "metadata": {
        "id": "Iy6613m4Qxl6"
      }
    },
    {
      "cell_type": "markdown",
      "source": [
        "#Graph analysis"
      ],
      "metadata": {
        "id": "50gfRztf3P8d"
      }
    },
    {
      "cell_type": "code",
      "source": [
        "\n",
        "Surv_temp = data[\"Survived\"].replace([0,1],['Died','Survived'])\n",
        "for x in data.columns:\n",
        "  #plt.figure(figsize=(20,5))\n",
        "  if x != \"Survived\":\n",
        "    sns.jointplot(Surv_temp,data[x], kind='hist')\n",
        "    plt.show()"
      ],
      "metadata": {
        "colab": {
          "base_uri": "https://localhost:8080/",
          "height": 0
        },
        "id": "vvviOrwl3U1h",
        "outputId": "bd90462c-02f2-42ad-8390-e9295e622abf"
      },
      "execution_count": 509,
      "outputs": [
        {
          "output_type": "stream",
          "name": "stderr",
          "text": [
            "/usr/local/lib/python3.8/dist-packages/seaborn/_decorators.py:36: FutureWarning: Pass the following variables as keyword args: x, y. From version 0.12, the only valid positional argument will be `data`, and passing other arguments without an explicit keyword will result in an error or misinterpretation.\n",
            "  warnings.warn(\n"
          ]
        },
        {
          "output_type": "display_data",
          "data": {
            "text/plain": [
              "<Figure size 432x432 with 3 Axes>"
            ],
            "image/png": "[encoded data removed]"
          },
          "metadata": {
            "needs_background": "light"
          }
        },
        {
          "output_type": "stream",
          "name": "stderr",
          "text": [
            "/usr/local/lib/python3.8/dist-packages/seaborn/_decorators.py:36: FutureWarning: Pass the following variables as keyword args: x, y. From version 0.12, the only valid positional argument will be `data`, and passing other arguments without an explicit keyword will result in an error or misinterpretation.\n",
            "  warnings.warn(\n"
          ]
        },
        {
          "output_type": "display_data",
          "data": {
            "text/plain": [
              "<Figure size 432x432 with 3 Axes>"
            ],
            "image/png": "[encoded data removed]"
          },
          "metadata": {
            "needs_background": "light"
          }
        },
        {
          "output_type": "stream",
          "name": "stderr",
          "text": [
            "/usr/local/lib/python3.8/dist-packages/seaborn/_decorators.py:36: FutureWarning: Pass the following variables as keyword args: x, y. From version 0.12, the only valid positional argument will be `data`, and passing other arguments without an explicit keyword will result in an error or misinterpretation.\n",
            "  warnings.warn(\n"
          ]
        },
        {
          "output_type": "display_data",
          "data": {
            "text/plain": [
              "<Figure size 432x432 with 3 Axes>"
            ],
            "image/png": "[encoded data removed]"
          },
          "metadata": {
            "needs_background": "light"
          }
        },
        {
          "output_type": "stream",
          "name": "stderr",
          "text": [
            "/usr/local/lib/python3.8/dist-packages/seaborn/_decorators.py:36: FutureWarning: Pass the following variables as keyword args: x, y. From version 0.12, the only valid positional argument will be `data`, and passing other arguments without an explicit keyword will result in an error or misinterpretation.\n",
            "  warnings.warn(\n"
          ]
        },
        {
          "output_type": "display_data",
          "data": {
            "text/plain": [
              "<Figure size 432x432 with 3 Axes>"
            ],
            "image/png": "[encoded data removed]"
          },
          "metadata": {
            "needs_background": "light"
          }
        },
        {
          "output_type": "stream",
          "name": "stderr",
          "text": [
            "/usr/local/lib/python3.8/dist-packages/seaborn/_decorators.py:36: FutureWarning: Pass the following variables as keyword args: x, y. From version 0.12, the only valid positional argument will be `data`, and passing other arguments without an explicit keyword will result in an error or misinterpretation.\n",
            "  warnings.warn(\n"
          ]
        },
        {
          "output_type": "display_data",
          "data": {
            "text/plain": [
              "<Figure size 432x432 with 3 Axes>"
            ],
            "image/png": "[encoded data removed]"
          },
          "metadata": {
            "needs_background": "light"
          }
        },
        {
          "output_type": "stream",
          "name": "stderr",
          "text": [
            "/usr/local/lib/python3.8/dist-packages/seaborn/_decorators.py:36: FutureWarning: Pass the following variables as keyword args: x, y. From version 0.12, the only valid positional argument will be `data`, and passing other arguments without an explicit keyword will result in an error or misinterpretation.\n",
            "  warnings.warn(\n"
          ]
        },
        {
          "output_type": "display_data",
          "data": {
            "text/plain": [
              "<Figure size 432x432 with 3 Axes>"
            ],
            "image/png": "[encoded data removed]"
          },
          "metadata": {
            "needs_background": "light"
          }
        },
        {
          "output_type": "stream",
          "name": "stderr",
          "text": [
            "/usr/local/lib/python3.8/dist-packages/seaborn/_decorators.py:36: FutureWarning: Pass the following variables as keyword args: x, y. From version 0.12, the only valid positional argument will be `data`, and passing other arguments without an explicit keyword will result in an error or misinterpretation.\n",
            "  warnings.warn(\n"
          ]
        },
        {
          "output_type": "display_data",
          "data": {
            "text/plain": [
              "<Figure size 432x432 with 3 Axes>"
            ],
            "image/png": "[encoded data removed]"
          },
          "metadata": {
            "needs_background": "light"
          }
        }
      ]
    },
    {
      "cell_type": "markdown",
      "source": [
        "#Changing all data to numbers"
      ],
      "metadata": {
        "id": "7Jlt66tmO--n"
      }
    },
    {
      "cell_type": "code",
      "source": [
        "#cleaning\n",
        "data_only_num = data_raw.copy()\n",
        "data_only_num.drop(['Ticket',\"Cabin\"],axis=1,inplace=True)\n",
        "'''\n",
        "data_only_num.drop([\"Ticket\",\"Cabin\"],axis=1,inplace=True)\n",
        "x =data_only_num['Age'].dropna()\n",
        "y = np.mean(x)\n",
        "data_only_num['Age'].fillna(y,inplace=True)\n",
        "data_only_num['Embarked'].fillna('Unknown',inplace=True)\n",
        "'''\n",
        "\n",
        "f_total = []\n",
        "f_married = []\n",
        "f_single = []\n",
        "f_unknown = []\n",
        "\n",
        "#creating list and series with women and man married or not\n",
        "for i, v in data_raw[data_raw[\"Sex\"]==\"female\"][\"Name\"].items():\n",
        "  \n",
        "  if \"Mrs\" in v:\n",
        "    f_married.append(data_raw[\"Age\"][i])\n",
        "  elif \"Miss\" in v:\n",
        "    f_single.append(data_raw[\"Age\"][i])\n",
        "  else:\n",
        "    f_unknown.append(data_raw[\"Age\"][i])\n",
        "  f_total.append(data_raw[\"Age\"][i])\n",
        "\n",
        "S_f_married = pd.Series(f_married)\n",
        "S_f_single = pd.Series(f_single)\n",
        "S_f_unknown = pd.Series(f_unknown)\n",
        "S_m_total = pd.Series(data_raw[data_raw['Sex']=='male']['Age'])\n",
        "\n",
        "# Creating each mean\n",
        "\n",
        "mean_f_married, mean_f_single, mean_f_unknown, mean_m_total = 0,0,0,0\n",
        "\n",
        "if S_f_married.isna().sum() !=0:\n",
        "  mean_f_married = S_f_married.dropna().mean()\n",
        "if S_f_single.isna().sum() !=0:\n",
        "  mean_f_single = S_f_single.dropna().mean()\n",
        "if S_f_unknown.isna().sum() !=0:\n",
        "  mean_f_unknown = S_f_unknown.dropna().mean()\n",
        "if S_m_total.isna().sum() !=0:\n",
        "  mean_m_total = S_m_total.dropna().mean()\n",
        "\n",
        "# inverting the bool\n",
        "not_Mrs = ~data_raw['Name'].str.contains(\"Mrs\")\n",
        "not_Miss = ~data_raw['Name'].str.contains(\"Miss\")\n",
        "\n",
        "# inserting the mean in data\n",
        "for i,v in data[(data_raw['Sex']=='female') & (data_raw[\"Name\"].str.contains(\"Mrs\"))]['Age'].items():\n",
        "  data_only_num[\"Age\"].loc[i]= mean_f_married\n",
        "for i,v in data[(data_raw['Sex']=='female')& (data_raw['Name'].str.contains(\"Miss\"))]['Age'].items():\n",
        "  data_only_num[\"Age\"].loc[i]= mean_f_single\n",
        "for i,v in data[(data_raw['Sex']=='female')& (not_Mrs & not_Miss)]['Age'].items():\n",
        "  data_only_num[\"Age\"].loc[i]= mean_f_unknown\n",
        "for i,v in data[data_raw['Sex']=='male']['Age'].items():\n",
        "  data_only_num[\"Age\"].loc[i]= mean_m_total\n",
        "\n",
        "'''\n",
        "print(mean_f_married)\n",
        "print(mean_f_single)\n",
        "print(mean_f_unknown)\n",
        "print(mean_m_total)\n",
        "\n",
        "print(f'Married: {f_married}')\n",
        "print(f'Single: {f_single}')\n",
        "print(f'Unknown: {f_unknown}')\n",
        "print(f'Total: {f_total}')\n",
        "'''\n",
        "\n",
        "data_only_num['Embarked'].fillna('Unknown',inplace=True)\n",
        "\n",
        "\n",
        "print(data_only_num.isna().sum())\n",
        "data_only_num"
      ],
      "metadata": {
        "colab": {
          "base_uri": "https://localhost:8080/",
          "height": 719
        },
        "id": "38OKTRKAPGWn",
        "outputId": "e935e276-fa42-4d23-e217-1767d662ae79"
      },
      "execution_count": 510,
      "outputs": [
        {
          "output_type": "stream",
          "name": "stderr",
          "text": [
            "/usr/local/lib/python3.8/dist-packages/pandas/core/indexing.py:1732: SettingWithCopyWarning: \n",
            "A value is trying to be set on a copy of a slice from a DataFrame\n",
            "\n",
            "See the caveats in the documentation: https://pandas.pydata.org/pandas-docs/stable/user_guide/indexing.html#returning-a-view-versus-a-copy\n",
            "  self._setitem_single_block(indexer, value, name)\n"
          ]
        },
        {
          "output_type": "stream",
          "name": "stdout",
          "text": [
            "PassengerId    0\n",
            "Survived       0\n",
            "Pclass         0\n",
            "Name           0\n",
            "Sex            0\n",
            "Age            0\n",
            "SibSp          0\n",
            "Parch          0\n",
            "Fare           0\n",
            "Embarked       0\n",
            "dtype: int64\n"
          ]
        },
        {
          "output_type": "execute_result",
          "data": {
            "text/plain": [
              "     PassengerId  Survived  Pclass  \\\n",
              "0              1         0       3   \n",
              "1              2         1       1   \n",
              "2              3         1       3   \n",
              "3              4         1       1   \n",
              "4              5         0       3   \n",
              "..           ...       ...     ...   \n",
              "886          887         0       2   \n",
              "887          888         1       1   \n",
              "888          889         0       3   \n",
              "889          890         1       1   \n",
              "890          891         0       3   \n",
              "\n",
              "                                                  Name     Sex        Age  \\\n",
              "0                              Braund, Mr. Owen Harris    male  30.726645   \n",
              "1    Cumings, Mrs. John Bradley (Florence Briggs Th...  female  35.642857   \n",
              "2                               Heikkinen, Miss. Laina  female  21.777778   \n",
              "3         Futrelle, Mrs. Jacques Heath (Lily May Peel)  female  35.642857   \n",
              "4                             Allen, Mr. William Henry    male  30.726645   \n",
              "..                                                 ...     ...        ...   \n",
              "886                              Montvila, Rev. Juozas    male  30.726645   \n",
              "887                       Graham, Miss. Margaret Edith  female  21.777778   \n",
              "888           Johnston, Miss. Catherine Helen \"Carrie\"  female  21.777778   \n",
              "889                              Behr, Mr. Karl Howell    male  30.726645   \n",
              "890                                Dooley, Mr. Patrick    male  30.726645   \n",
              "\n",
              "     SibSp  Parch     Fare Embarked  \n",
              "0        1      0   7.2500        S  \n",
              "1        1      0  71.2833        C  \n",
              "2        0      0   7.9250        S  \n",
              "3        1      0  53.1000        S  \n",
              "4        0      0   8.0500        S  \n",
              "..     ...    ...      ...      ...  \n",
              "886      0      0  13.0000        S  \n",
              "887      0      0  30.0000        S  \n",
              "888      1      2  23.4500        S  \n",
              "889      0      0  30.0000        C  \n",
              "890      0      0   7.7500        Q  \n",
              "\n",
              "[891 rows x 10 columns]"
            ],
            "text/html": [
              "\n",
              "  <div id=\"df-81b9b7eb-f4ae-4ae1-898a-d7d58247eab9\">\n",
              "    <div class=\"colab-df-container\">\n",
              "      <div>\n",
              "<style scoped>\n",
              "    .dataframe tbody tr th:only-of-type {\n",
              "        vertical-align: middle;\n",
              "    }\n",
              "\n",
              "    .dataframe tbody tr th {\n",
              "        vertical-align: top;\n",
              "    }\n",
              "\n",
              "    .dataframe thead th {\n",
              "        text-align: right;\n",
              "    }\n",
              "</style>\n",
              "<table border=\"1\" class=\"dataframe\">\n",
              "  <thead>\n",
              "    <tr style=\"text-align: right;\">\n",
              "      <th></th>\n",
              "      <th>PassengerId</th>\n",
              "      <th>Survived</th>\n",
              "      <th>Pclass</th>\n",
              "      <th>Name</th>\n",
              "      <th>Sex</th>\n",
              "      <th>Age</th>\n",
              "      <th>SibSp</th>\n",
              "      <th>Parch</th>\n",
              "      <th>Fare</th>\n",
              "      <th>Embarked</th>\n",
              "    </tr>\n",
              "  </thead>\n",
              "  <tbody>\n",
              "    <tr>\n",
              "      <th>0</th>\n",
              "      <td>1</td>\n",
              "      <td>0</td>\n",
              "      <td>3</td>\n",
              "      <td>Braund, Mr. Owen Harris</td>\n",
              "      <td>male</td>\n",
              "      <td>30.726645</td>\n",
              "      <td>1</td>\n",
              "      <td>0</td>\n",
              "      <td>7.2500</td>\n",
              "      <td>S</td>\n",
              "    </tr>\n",
              "    <tr>\n",
              "      <th>1</th>\n",
              "      <td>2</td>\n",
              "      <td>1</td>\n",
              "      <td>1</td>\n",
              "      <td>Cumings, Mrs. John Bradley (Florence Briggs Th...</td>\n",
              "      <td>female</td>\n",
              "      <td>35.642857</td>\n",
              "      <td>1</td>\n",
              "      <td>0</td>\n",
              "      <td>71.2833</td>\n",
              "      <td>C</td>\n",
              "    </tr>\n",
              "    <tr>\n",
              "      <th>2</th>\n",
              "      <td>3</td>\n",
              "      <td>1</td>\n",
              "      <td>3</td>\n",
              "      <td>Heikkinen, Miss. Laina</td>\n",
              "      <td>female</td>\n",
              "      <td>21.777778</td>\n",
              "      <td>0</td>\n",
              "      <td>0</td>\n",
              "      <td>7.9250</td>\n",
              "      <td>S</td>\n",
              "    </tr>\n",
              "    <tr>\n",
              "      <th>3</th>\n",
              "      <td>4</td>\n",
              "      <td>1</td>\n",
              "      <td>1</td>\n",
              "      <td>Futrelle, Mrs. Jacques Heath (Lily May Peel)</td>\n",
              "      <td>female</td>\n",
              "      <td>35.642857</td>\n",
              "      <td>1</td>\n",
              "      <td>0</td>\n",
              "      <td>53.1000</td>\n",
              "      <td>S</td>\n",
              "    </tr>\n",
              "    <tr>\n",
              "      <th>4</th>\n",
              "      <td>5</td>\n",
              "      <td>0</td>\n",
              "      <td>3</td>\n",
              "      <td>Allen, Mr. William Henry</td>\n",
              "      <td>male</td>\n",
              "      <td>30.726645</td>\n",
              "      <td>0</td>\n",
              "      <td>0</td>\n",
              "      <td>8.0500</td>\n",
              "      <td>S</td>\n",
              "    </tr>\n",
              "    <tr>\n",
              "      <th>...</th>\n",
              "      <td>...</td>\n",
              "      <td>...</td>\n",
              "      <td>...</td>\n",
              "      <td>...</td>\n",
              "      <td>...</td>\n",
              "      <td>...</td>\n",
              "      <td>...</td>\n",
              "      <td>...</td>\n",
              "      <td>...</td>\n",
              "      <td>...</td>\n",
              "    </tr>\n",
              "    <tr>\n",
              "      <th>886</th>\n",
              "      <td>887</td>\n",
              "      <td>0</td>\n",
              "      <td>2</td>\n",
              "      <td>Montvila, Rev. Juozas</td>\n",
              "      <td>male</td>\n",
              "      <td>30.726645</td>\n",
              "      <td>0</td>\n",
              "      <td>0</td>\n",
              "      <td>13.0000</td>\n",
              "      <td>S</td>\n",
              "    </tr>\n",
              "    <tr>\n",
              "      <th>887</th>\n",
              "      <td>888</td>\n",
              "      <td>1</td>\n",
              "      <td>1</td>\n",
              "      <td>Graham, Miss. Margaret Edith</td>\n",
              "      <td>female</td>\n",
              "      <td>21.777778</td>\n",
              "      <td>0</td>\n",
              "      <td>0</td>\n",
              "      <td>30.0000</td>\n",
              "      <td>S</td>\n",
              "    </tr>\n",
              "    <tr>\n",
              "      <th>888</th>\n",
              "      <td>889</td>\n",
              "      <td>0</td>\n",
              "      <td>3</td>\n",
              "      <td>Johnston, Miss. Catherine Helen \"Carrie\"</td>\n",
              "      <td>female</td>\n",
              "      <td>21.777778</td>\n",
              "      <td>1</td>\n",
              "      <td>2</td>\n",
              "      <td>23.4500</td>\n",
              "      <td>S</td>\n",
              "    </tr>\n",
              "    <tr>\n",
              "      <th>889</th>\n",
              "      <td>890</td>\n",
              "      <td>1</td>\n",
              "      <td>1</td>\n",
              "      <td>Behr, Mr. Karl Howell</td>\n",
              "      <td>male</td>\n",
              "      <td>30.726645</td>\n",
              "      <td>0</td>\n",
              "      <td>0</td>\n",
              "      <td>30.0000</td>\n",
              "      <td>C</td>\n",
              "    </tr>\n",
              "    <tr>\n",
              "      <th>890</th>\n",
              "      <td>891</td>\n",
              "      <td>0</td>\n",
              "      <td>3</td>\n",
              "      <td>Dooley, Mr. Patrick</td>\n",
              "      <td>male</td>\n",
              "      <td>30.726645</td>\n",
              "      <td>0</td>\n",
              "      <td>0</td>\n",
              "      <td>7.7500</td>\n",
              "      <td>Q</td>\n",
              "    </tr>\n",
              "  </tbody>\n",
              "</table>\n",
              "<p>891 rows × 10 columns</p>\n",
              "</div>\n",
              "      <button class=\"colab-df-convert\" onclick=\"convertToInteractive('df-81b9b7eb-f4ae-4ae1-898a-d7d58247eab9')\"\n",
              "              title=\"Convert this dataframe to an interactive table.\"\n",
              "              style=\"display:none;\">\n",
              "        \n",
              "  <svg xmlns=\"http://www.w3.org/2000/svg\" height=\"24px\"viewBox=\"0 0 24 24\"\n",
              "       width=\"24px\">\n",
              "    <path d=\"M0 0h24v24H0V0z\" fill=\"none\"/>\n",
              "    <path d=\"M18.56 5.44l.94 2.06.94-2.06 2.06-.94-2.06-.94-.94-2.06-.94 2.06-2.06.94zm-11 1L8.5 8.5l.94-2.06 2.06-.94-2.06-.94L8.5 2.5l-.94 2.06-2.06.94zm10 10l.94 2.06.94-2.06 2.06-.94-2.06-.94-.94-2.06-.94 2.06-2.06.94z\"/><path d=\"M17.41 7.96l-1.37-1.37c-.4-.4-.92-.59-1.43-.59-.52 0-1.04.2-1.43.59L10.3 9.45l-7.72 7.72c-.78.78-.78 2.05 0 2.83L4 21.41c.39.39.9.59 1.41.59.51 0 1.02-.2 1.41-.59l7.78-7.78 2.81-2.81c.8-.78.8-2.07 0-2.86zM5.41 20L4 18.59l7.72-7.72 1.47 1.35L5.41 20z\"/>\n",
              "  </svg>\n",
              "      </button>\n",
              "      \n",
              "  <style>\n",
              "    .colab-df-container {\n",
              "      display:flex;\n",
              "      flex-wrap:wrap;\n",
              "      gap: 12px;\n",
              "    }\n",
              "\n",
              "    .colab-df-convert {\n",
              "      background-color: #E8F0FE;\n",
              "      border: none;\n",
              "      border-radius: 50%;\n",
              "      cursor: pointer;\n",
              "      display: none;\n",
              "      fill: #1967D2;\n",
              "      height: 32px;\n",
              "      padding: 0 0 0 0;\n",
              "      width: 32px;\n",
              "    }\n",
              "\n",
              "    .colab-df-convert:hover {\n",
              "      background-color: #E2EBFA;\n",
              "      box-shadow: 0px 1px 2px rgba(60, 64, 67, 0.3), 0px 1px 3px 1px rgba(60, 64, 67, 0.15);\n",
              "      fill: #174EA6;\n",
              "    }\n",
              "\n",
              "    [theme=dark] .colab-df-convert {\n",
              "      background-color: #3B4455;\n",
              "      fill: #D2E3FC;\n",
              "    }\n",
              "\n",
              "    [theme=dark] .colab-df-convert:hover {\n",
              "      background-color: #434B5C;\n",
              "      box-shadow: 0px 1px 3px 1px rgba(0, 0, 0, 0.15);\n",
              "      filter: drop-shadow(0px 1px 2px rgba(0, 0, 0, 0.3));\n",
              "      fill: #FFFFFF;\n",
              "    }\n",
              "  </style>\n",
              "\n",
              "      <script>\n",
              "        const buttonEl =\n",
              "          document.querySelector('#df-81b9b7eb-f4ae-4ae1-898a-d7d58247eab9 button.colab-df-convert');\n",
              "        buttonEl.style.display =\n",
              "          google.colab.kernel.accessAllowed ? 'block' : 'none';\n",
              "\n",
              "        async function convertToInteractive(key) {\n",
              "          const element = document.querySelector('#df-81b9b7eb-f4ae-4ae1-898a-d7d58247eab9');\n",
              "          const dataTable =\n",
              "            await google.colab.kernel.invokeFunction('convertToInteractive',\n",
              "                                                     [key], {});\n",
              "          if (!dataTable) return;\n",
              "\n",
              "          const docLinkHtml = 'Like what you see? Visit the ' +\n",
              "            '<a target=\"_blank\" href=https://colab.research.google.com/notebooks/data_table.ipynb>data table notebook</a>'\n",
              "            + ' to learn more about interactive tables.';\n",
              "          element.innerHTML = '';\n",
              "          dataTable['output_type'] = 'display_data';\n",
              "          await google.colab.output.renderOutput(dataTable, element);\n",
              "          const docLink = document.createElement('div');\n",
              "          docLink.innerHTML = docLinkHtml;\n",
              "          element.appendChild(docLink);\n",
              "        }\n",
              "      </script>\n",
              "    </div>\n",
              "  </div>\n",
              "  "
            ]
          },
          "metadata": {},
          "execution_count": 510
        }
      ]
    },
    {
      "cell_type": "code",
      "source": [
        "data_only_num[\"Sex\"].replace(['male','female'],[0,1],inplace=True)\n",
        "data_only_num[\"Embarked\"].replace(['Unknown','C','Q','S'],[0,1,2,3],inplace=True)\n",
        "print(data_only_num)"
      ],
      "metadata": {
        "colab": {
          "base_uri": "https://localhost:8080/"
        },
        "id": "uULKVxHxPI4m",
        "outputId": "c2e459a6-208e-460a-bb93-750201b4f206"
      },
      "execution_count": 511,
      "outputs": [
        {
          "output_type": "stream",
          "name": "stdout",
          "text": [
            "     PassengerId  Survived  Pclass  \\\n",
            "0              1         0       3   \n",
            "1              2         1       1   \n",
            "2              3         1       3   \n",
            "3              4         1       1   \n",
            "4              5         0       3   \n",
            "..           ...       ...     ...   \n",
            "886          887         0       2   \n",
            "887          888         1       1   \n",
            "888          889         0       3   \n",
            "889          890         1       1   \n",
            "890          891         0       3   \n",
            "\n",
            "                                                  Name  Sex        Age  SibSp  \\\n",
            "0                              Braund, Mr. Owen Harris    0  30.726645      1   \n",
            "1    Cumings, Mrs. John Bradley (Florence Briggs Th...    1  35.642857      1   \n",
            "2                               Heikkinen, Miss. Laina    1  21.777778      0   \n",
            "3         Futrelle, Mrs. Jacques Heath (Lily May Peel)    1  35.642857      1   \n",
            "4                             Allen, Mr. William Henry    0  30.726645      0   \n",
            "..                                                 ...  ...        ...    ...   \n",
            "886                              Montvila, Rev. Juozas    0  30.726645      0   \n",
            "887                       Graham, Miss. Margaret Edith    1  21.777778      0   \n",
            "888           Johnston, Miss. Catherine Helen \"Carrie\"    1  21.777778      1   \n",
            "889                              Behr, Mr. Karl Howell    0  30.726645      0   \n",
            "890                                Dooley, Mr. Patrick    0  30.726645      0   \n",
            "\n",
            "     Parch     Fare  Embarked  \n",
            "0        0   7.2500         3  \n",
            "1        0  71.2833         1  \n",
            "2        0   7.9250         3  \n",
            "3        0  53.1000         3  \n",
            "4        0   8.0500         3  \n",
            "..     ...      ...       ...  \n",
            "886      0  13.0000         3  \n",
            "887      0  30.0000         3  \n",
            "888      2  23.4500         3  \n",
            "889      0  30.0000         1  \n",
            "890      0   7.7500         2  \n",
            "\n",
            "[891 rows x 10 columns]\n"
          ]
        }
      ]
    },
    {
      "cell_type": "code",
      "source": [
        "print(data_only_num.info())\n",
        "print(data_only_num.describe())\n",
        "print(data_only_num.isna().sum())"
      ],
      "metadata": {
        "colab": {
          "base_uri": "https://localhost:8080/"
        },
        "id": "SptMw1A3QORY",
        "outputId": "2965d9c0-12b8-48e7-821d-a889a333df9b"
      },
      "execution_count": 512,
      "outputs": [
        {
          "output_type": "stream",
          "name": "stdout",
          "text": [
            "<class 'pandas.core.frame.DataFrame'>\n",
            "RangeIndex: 891 entries, 0 to 890\n",
            "Data columns (total 10 columns):\n",
            " #   Column       Non-Null Count  Dtype  \n",
            "---  ------       --------------  -----  \n",
            " 0   PassengerId  891 non-null    int64  \n",
            " 1   Survived     891 non-null    int64  \n",
            " 2   Pclass       891 non-null    int64  \n",
            " 3   Name         891 non-null    object \n",
            " 4   Sex          891 non-null    int64  \n",
            " 5   Age          891 non-null    float64\n",
            " 6   SibSp        891 non-null    int64  \n",
            " 7   Parch        891 non-null    int64  \n",
            " 8   Fare         891 non-null    float64\n",
            " 9   Embarked     891 non-null    int64  \n",
            "dtypes: float64(2), int64(7), object(1)\n",
            "memory usage: 69.7+ KB\n",
            "None\n",
            "       PassengerId    Survived      Pclass         Sex         Age  \\\n",
            "count   891.000000  891.000000  891.000000  891.000000  891.000000   \n",
            "mean    446.000000    0.383838    2.308642    0.352413   29.427017   \n",
            "std     257.353842    0.486592    0.836071    0.477990    4.841319   \n",
            "min       1.000000    0.000000    1.000000    0.000000    0.000000   \n",
            "25%     223.500000    0.000000    2.000000    0.000000   30.726645   \n",
            "50%     446.000000    0.000000    3.000000    0.000000   30.726645   \n",
            "75%     668.500000    1.000000    3.000000    1.000000   30.726645   \n",
            "max     891.000000    1.000000    3.000000    1.000000   35.642857   \n",
            "\n",
            "            SibSp       Parch        Fare    Embarked  \n",
            "count  891.000000  891.000000  891.000000  891.000000  \n",
            "mean     0.523008    0.381594   32.204208    2.529742  \n",
            "std      1.102743    0.806057   49.693429    0.800254  \n",
            "min      0.000000    0.000000    0.000000    0.000000  \n",
            "25%      0.000000    0.000000    7.910400    2.000000  \n",
            "50%      0.000000    0.000000   14.454200    3.000000  \n",
            "75%      1.000000    0.000000   31.000000    3.000000  \n",
            "max      8.000000    6.000000  512.329200    3.000000  \n",
            "PassengerId    0\n",
            "Survived       0\n",
            "Pclass         0\n",
            "Name           0\n",
            "Sex            0\n",
            "Age            0\n",
            "SibSp          0\n",
            "Parch          0\n",
            "Fare           0\n",
            "Embarked       0\n",
            "dtype: int64\n"
          ]
        }
      ]
    },
    {
      "cell_type": "code",
      "source": [
        "\n",
        "for x in data_only_num.columns:\n",
        "  \n",
        "  if (x != 'Name'):\n",
        "    plt.figure(figsize=(20,5))\n",
        "    #sns.boxplot(data=data[x])\n",
        "    sns.boxplot(data_only_num[x]) \n",
        "    plt.show()"
      ],
      "metadata": {
        "colab": {
          "base_uri": "https://localhost:8080/",
          "height": 1000
        },
        "id": "YQoXUe19wxc1",
        "outputId": "719da13a-8f5f-4929-cb21-e86fa680595c"
      },
      "execution_count": 513,
      "outputs": [
        {
          "output_type": "stream",
          "name": "stderr",
          "text": [
            "/usr/local/lib/python3.8/dist-packages/seaborn/_decorators.py:36: FutureWarning: Pass the following variable as a keyword arg: x. From version 0.12, the only valid positional argument will be `data`, and passing other arguments without an explicit keyword will result in an error or misinterpretation.\n",
            "  warnings.warn(\n"
          ]
        },
        {
          "output_type": "display_data",
          "data": {
            "text/plain": [
              "<Figure size 1440x360 with 1 Axes>"
            ],
            "image/png": "[encoded data removed]"
          },
          "metadata": {
            "needs_background": "light"
          }
        },
        {
          "output_type": "stream",
          "name": "stderr",
          "text": [
            "/usr/local/lib/python3.8/dist-packages/seaborn/_decorators.py:36: FutureWarning: Pass the following variable as a keyword arg: x. From version 0.12, the only valid positional argument will be `data`, and passing other arguments without an explicit keyword will result in an error or misinterpretation.\n",
            "  warnings.warn(\n"
          ]
        },
        {
          "output_type": "display_data",
          "data": {
            "text/plain": [
              "<Figure size 1440x360 with 1 Axes>"
            ],
            "image/png": "[encoded data removed]"
          },
          "metadata": {
            "needs_background": "light"
          }
        },
        {
          "output_type": "stream",
          "name": "stderr",
          "text": [
            "/usr/local/lib/python3.8/dist-packages/seaborn/_decorators.py:36: FutureWarning: Pass the following variable as a keyword arg: x. From version 0.12, the only valid positional argument will be `data`, and passing other arguments without an explicit keyword will result in an error or misinterpretation.\n",
            "  warnings.warn(\n"
          ]
        },
        {
          "output_type": "display_data",
          "data": {
            "text/plain": [
              "<Figure size 1440x360 with 1 Axes>"
            ],
            "image/png": "[encoded data removed]"
          },
          "metadata": {
            "needs_background": "light"
          }
        },
        {
          "output_type": "stream",
          "name": "stderr",
          "text": [
            "/usr/local/lib/python3.8/dist-packages/seaborn/_decorators.py:36: FutureWarning: Pass the following variable as a keyword arg: x. From version 0.12, the only valid positional argument will be `data`, and passing other arguments without an explicit keyword will result in an error or misinterpretation.\n",
            "  warnings.warn(\n"
          ]
        },
        {
          "output_type": "display_data",
          "data": {
            "text/plain": [
              "<Figure size 1440x360 with 1 Axes>"
            ],
            "image/png": "[encoded data removed]"
          },
          "metadata": {
            "needs_background": "light"
          }
        },
        {
          "output_type": "stream",
          "name": "stderr",
          "text": [
            "/usr/local/lib/python3.8/dist-packages/seaborn/_decorators.py:36: FutureWarning: Pass the following variable as a keyword arg: x. From version 0.12, the only valid positional argument will be `data`, and passing other arguments without an explicit keyword will result in an error or misinterpretation.\n",
            "  warnings.warn(\n"
          ]
        },
        {
          "output_type": "display_data",
          "data": {
            "text/plain": [
              "<Figure size 1440x360 with 1 Axes>"
            ],
            "image/png": "[encoded data removed]"
          },
          "metadata": {
            "needs_background": "light"
          }
        },
        {
          "output_type": "stream",
          "name": "stderr",
          "text": [
            "/usr/local/lib/python3.8/dist-packages/seaborn/_decorators.py:36: FutureWarning: Pass the following variable as a keyword arg: x. From version 0.12, the only valid positional argument will be `data`, and passing other arguments without an explicit keyword will result in an error or misinterpretation.\n",
            "  warnings.warn(\n"
          ]
        },
        {
          "output_type": "display_data",
          "data": {
            "text/plain": [
              "<Figure size 1440x360 with 1 Axes>"
            ],
            "image/png": "[encoded data removed]"
          },
          "metadata": {
            "needs_background": "light"
          }
        },
        {
          "output_type": "stream",
          "name": "stderr",
          "text": [
            "/usr/local/lib/python3.8/dist-packages/seaborn/_decorators.py:36: FutureWarning: Pass the following variable as a keyword arg: x. From version 0.12, the only valid positional argument will be `data`, and passing other arguments without an explicit keyword will result in an error or misinterpretation.\n",
            "  warnings.warn(\n"
          ]
        },
        {
          "output_type": "display_data",
          "data": {
            "text/plain": [
              "<Figure size 1440x360 with 1 Axes>"
            ],
            "image/png": "[encoded data removed]"
          },
          "metadata": {
            "needs_background": "light"
          }
        },
        {
          "output_type": "stream",
          "name": "stderr",
          "text": [
            "/usr/local/lib/python3.8/dist-packages/seaborn/_decorators.py:36: FutureWarning: Pass the following variable as a keyword arg: x. From version 0.12, the only valid positional argument will be `data`, and passing other arguments without an explicit keyword will result in an error or misinterpretation.\n",
            "  warnings.warn(\n"
          ]
        },
        {
          "output_type": "display_data",
          "data": {
            "text/plain": [
              "<Figure size 1440x360 with 1 Axes>"
            ],
            "image/png": "[encoded data removed]"
          },
          "metadata": {
            "needs_background": "light"
          }
        },
        {
          "output_type": "stream",
          "name": "stderr",
          "text": [
            "/usr/local/lib/python3.8/dist-packages/seaborn/_decorators.py:36: FutureWarning: Pass the following variable as a keyword arg: x. From version 0.12, the only valid positional argument will be `data`, and passing other arguments without an explicit keyword will result in an error or misinterpretation.\n",
            "  warnings.warn(\n"
          ]
        },
        {
          "output_type": "display_data",
          "data": {
            "text/plain": [
              "<Figure size 1440x360 with 1 Axes>"
            ],
            "image/png": "[encoded data removed]"
          },
          "metadata": {
            "needs_background": "light"
          }
        }
      ]
    },
    {
      "cell_type": "code",
      "source": [
        "\n",
        "#Creating a column with numbers representing the titles\n",
        "\n",
        "data_only_num['Title'] = data_only_num.index*10\n",
        "\n",
        "print(type(data_only_num['Name']))\n",
        "for i , v in data_only_num['Name'].items():\n",
        "  if ('Capt. ' in v) or ('Col. ' in v) or ('Major. ' in v) or ('Dr. ' in v) or ('Rev. ' in v):\n",
        "    data_only_num['Title'].iloc[i]= 2\n",
        "  elif ('Jonkheer. ' in v) or ('Don. ' in v) or ('Sir. ' in v) or ('the Countess. ' in v) or ('Lady. ' in v):\n",
        "    data_only_num['Title'].iloc[i]= 3\n",
        "  elif ('Mme. ' in v) or ('Ms. ' in v) or ('Mrs. ' in v):\n",
        "    data_only_num['Title'].iloc[i]= 4\n",
        "  elif ('Mlle. ' in v) or ('Miss. ' in v):\n",
        "    data_only_num['Title'].iloc[i]= 5\n",
        "  elif ('Master. ' in v):\n",
        "    data_only_num['Title'].iloc[i]= 6\n",
        "  elif ('Mr. ' in v):\n",
        "    data_only_num['Title'].iloc[i]= 7\n",
        "  else:\n",
        "    data_only_num['Title'].iloc[i]= 0\n",
        "\n",
        "print(data_only_num['Title'].value_counts())\n",
        "print(data_only_num)"
      ],
      "metadata": {
        "colab": {
          "base_uri": "https://localhost:8080/"
        },
        "id": "9XIBEsfHWVpM",
        "outputId": "2880f259-21c6-4399-d5f0-ba9fe14e7e79"
      },
      "execution_count": 514,
      "outputs": [
        {
          "output_type": "stream",
          "name": "stderr",
          "text": [
            "/usr/local/lib/python3.8/dist-packages/pandas/core/indexing.py:1732: SettingWithCopyWarning: \n",
            "A value is trying to be set on a copy of a slice from a DataFrame\n",
            "\n",
            "See the caveats in the documentation: https://pandas.pydata.org/pandas-docs/stable/user_guide/indexing.html#returning-a-view-versus-a-copy\n",
            "  self._setitem_single_block(indexer, value, name)\n"
          ]
        },
        {
          "output_type": "stream",
          "name": "stdout",
          "text": [
            "<class 'pandas.core.series.Series'>\n",
            "7    517\n",
            "5    184\n",
            "4    127\n",
            "6     40\n",
            "2     18\n",
            "3      5\n",
            "Name: Title, dtype: int64\n",
            "     PassengerId  Survived  Pclass  \\\n",
            "0              1         0       3   \n",
            "1              2         1       1   \n",
            "2              3         1       3   \n",
            "3              4         1       1   \n",
            "4              5         0       3   \n",
            "..           ...       ...     ...   \n",
            "886          887         0       2   \n",
            "887          888         1       1   \n",
            "888          889         0       3   \n",
            "889          890         1       1   \n",
            "890          891         0       3   \n",
            "\n",
            "                                                  Name  Sex        Age  SibSp  \\\n",
            "0                              Braund, Mr. Owen Harris    0  30.726645      1   \n",
            "1    Cumings, Mrs. John Bradley (Florence Briggs Th...    1  35.642857      1   \n",
            "2                               Heikkinen, Miss. Laina    1  21.777778      0   \n",
            "3         Futrelle, Mrs. Jacques Heath (Lily May Peel)    1  35.642857      1   \n",
            "4                             Allen, Mr. William Henry    0  30.726645      0   \n",
            "..                                                 ...  ...        ...    ...   \n",
            "886                              Montvila, Rev. Juozas    0  30.726645      0   \n",
            "887                       Graham, Miss. Margaret Edith    1  21.777778      0   \n",
            "888           Johnston, Miss. Catherine Helen \"Carrie\"    1  21.777778      1   \n",
            "889                              Behr, Mr. Karl Howell    0  30.726645      0   \n",
            "890                                Dooley, Mr. Patrick    0  30.726645      0   \n",
            "\n",
            "     Parch     Fare  Embarked  Title  \n",
            "0        0   7.2500         3      7  \n",
            "1        0  71.2833         1      4  \n",
            "2        0   7.9250         3      5  \n",
            "3        0  53.1000         3      4  \n",
            "4        0   8.0500         3      7  \n",
            "..     ...      ...       ...    ...  \n",
            "886      0  13.0000         3      2  \n",
            "887      0  30.0000         3      5  \n",
            "888      2  23.4500         3      5  \n",
            "889      0  30.0000         1      7  \n",
            "890      0   7.7500         2      7  \n",
            "\n",
            "[891 rows x 11 columns]\n"
          ]
        }
      ]
    },
    {
      "cell_type": "code",
      "source": [
        "print(data_only_num['Title'].value_counts().sort_index(ascending=True))\n",
        "print(data_only_num.groupby('Title').mean())\n",
        "\n",
        "sns.jointplot(Surv_temp,data_only_num['Title'], kind='hist', color=[1,0,0,1])\n",
        "plt.suptitle('Graph Title x Surv', y = 1.05)\n",
        "\n",
        "plt.show()"
      ],
      "metadata": {
        "colab": {
          "base_uri": "https://localhost:8080/",
          "height": 974
        },
        "id": "ntPJ_3ZtmaoN",
        "outputId": "ab8166a8-3453-4460-801f-4c0253fbd234"
      },
      "execution_count": 535,
      "outputs": [
        {
          "output_type": "stream",
          "name": "stdout",
          "text": [
            "2     18\n",
            "3      5\n",
            "4    127\n",
            "5    184\n",
            "6     40\n",
            "7    517\n",
            "Name: Title, dtype: int64\n",
            "       PassengerId  Survived    Pclass       Sex        Age     SibSp  \\\n",
            "Title                                                                   \n",
            "2       545.055556  0.277778  1.444444  0.055556  29.019609  0.333333   \n",
            "3       554.200000  0.600000  1.000000  0.400000  25.564558  0.400000   \n",
            "4       452.433071  0.795276  1.992126  1.000000  35.081552  0.685039   \n",
            "5       411.793478  0.701087  2.293478  1.000000  21.734774  0.706522   \n",
            "6       414.975000  0.575000  2.625000  0.000000  30.726645  2.300000   \n",
            "7       454.499033  0.156673  2.410058  0.000000  30.726645  0.288201   \n",
            "\n",
            "          Parch       Fare  Embarked  \n",
            "Title                                 \n",
            "2      0.111111  35.786344  2.555556  \n",
            "3      0.000000  42.150000  1.800000  \n",
            "4      0.818898  45.075721  2.448819  \n",
            "5      0.543478  43.967484  2.369565  \n",
            "6      1.375000  34.703125  2.650000  \n",
            "7      0.152805  24.441560  2.603482  \n"
          ]
        },
        {
          "output_type": "stream",
          "name": "stderr",
          "text": [
            "/usr/local/lib/python3.8/dist-packages/seaborn/_decorators.py:36: FutureWarning: Pass the following variables as keyword args: x, y. From version 0.12, the only valid positional argument will be `data`, and passing other arguments without an explicit keyword will result in an error or misinterpretation.\n",
            "  warnings.warn(\n"
          ]
        },
        {
          "output_type": "display_data",
          "data": {
            "text/plain": [
              "<Figure size 432x432 with 3 Axes>"
            ],
            "image/png": "[encoded data removed]"
          },
          "metadata": {
            "needs_background": "light"
          }
        }
      ]
    },
    {
      "cell_type": "markdown",
      "source": [
        "#Questions"
      ],
      "metadata": {
        "id": "-BRNiSk6plnj"
      }
    },
    {
      "cell_type": "code",
      "source": [
        "test=pd.read_csv('/content/train.csv')\n",
        "print(test)"
      ],
      "metadata": {
        "colab": {
          "base_uri": "https://localhost:8080/"
        },
        "id": "0FXNvT1sU87D",
        "outputId": "b81c3827-a241-4eb2-ccea-5804964d30da"
      },
      "execution_count": 516,
      "outputs": [
        {
          "output_type": "stream",
          "name": "stdout",
          "text": [
            "     PassengerId  Survived  Pclass  \\\n",
            "0              1         0       3   \n",
            "1              2         1       1   \n",
            "2              3         1       3   \n",
            "3              4         1       1   \n",
            "4              5         0       3   \n",
            "..           ...       ...     ...   \n",
            "886          887         0       2   \n",
            "887          888         1       1   \n",
            "888          889         0       3   \n",
            "889          890         1       1   \n",
            "890          891         0       3   \n",
            "\n",
            "                                                  Name     Sex   Age  SibSp  \\\n",
            "0                              Braund, Mr. Owen Harris    male  22.0      1   \n",
            "1    Cumings, Mrs. John Bradley (Florence Briggs Th...  female  38.0      1   \n",
            "2                               Heikkinen, Miss. Laina  female  26.0      0   \n",
            "3         Futrelle, Mrs. Jacques Heath (Lily May Peel)  female  35.0      1   \n",
            "4                             Allen, Mr. William Henry    male  35.0      0   \n",
            "..                                                 ...     ...   ...    ...   \n",
            "886                              Montvila, Rev. Juozas    male  27.0      0   \n",
            "887                       Graham, Miss. Margaret Edith  female  19.0      0   \n",
            "888           Johnston, Miss. Catherine Helen \"Carrie\"  female   NaN      1   \n",
            "889                              Behr, Mr. Karl Howell    male  26.0      0   \n",
            "890                                Dooley, Mr. Patrick    male  32.0      0   \n",
            "\n",
            "     Parch            Ticket     Fare Cabin Embarked  \n",
            "0        0         A/5 21171   7.2500   NaN        S  \n",
            "1        0          PC 17599  71.2833   C85        C  \n",
            "2        0  STON/O2. 3101282   7.9250   NaN        S  \n",
            "3        0            113803  53.1000  C123        S  \n",
            "4        0            373450   8.0500   NaN        S  \n",
            "..     ...               ...      ...   ...      ...  \n",
            "886      0            211536  13.0000   NaN        S  \n",
            "887      0            112053  30.0000   B42        S  \n",
            "888      2        W./C. 6607  23.4500   NaN        S  \n",
            "889      0            111369  30.0000  C148        C  \n",
            "890      0            370376   7.7500   NaN        Q  \n",
            "\n",
            "[891 rows x 12 columns]\n"
          ]
        }
      ]
    },
    {
      "cell_type": "code",
      "source": [
        "#male/female survived\n",
        "num_male = test[test[\"Sex\"]==\"male\"]['Sex'].count()\n",
        "num_female = test[test[\"Sex\"]==\"female\"]['Sex'].count()\n",
        "not_surv_male = test[(test[\"Sex\"]==\"male\") & (test[\"Survived\"]==0)][\"Sex\"].count()\n",
        "not_surv_female = test[(test[\"Sex\"]==\"female\") & (test[\"Survived\"]==0)][\"Sex\"].count()\n",
        "surv_male = test[(test[\"Sex\"]==\"male\") & (test[\"Survived\"]==1)][\"Sex\"].count()\n",
        "surv_female = test[(test[\"Sex\"]==\"female\") & (test[\"Survived\"]==1)][\"Sex\"].count()\n",
        "\n",
        "# % survived\n",
        "m = [100*surv_male/num_male, 100*not_surv_male/num_male]\n",
        "f = [100*surv_female/num_female, 100*not_surv_female/num_female]\n",
        "\n",
        "print(f'Percent of men that survived: {m[0]}')\n",
        "print(f'Percent of women that survived: {f[0]}')\n"
      ],
      "metadata": {
        "colab": {
          "base_uri": "https://localhost:8080/"
        },
        "id": "24Ho1lLGU_7m",
        "outputId": "0b6356d5-1c0c-463d-c48d-6917f2c22822"
      },
      "execution_count": 517,
      "outputs": [
        {
          "output_type": "stream",
          "name": "stdout",
          "text": [
            "Percent of men that survived: 18.890814558058924\n",
            "Percent of women that survived: 74.20382165605096\n"
          ]
        }
      ]
    },
    {
      "cell_type": "code",
      "source": [
        "print(data.groupby(\"Embarked\")[\"Fare\"].mean())\n"
      ],
      "metadata": {
        "colab": {
          "base_uri": "https://localhost:8080/"
        },
        "id": "szEoVv_b7z-y",
        "outputId": "0f5a7e3c-f56e-475e-a538-09f80535f3cd"
      },
      "execution_count": 518,
      "outputs": [
        {
          "output_type": "stream",
          "name": "stdout",
          "text": [
            "Embarked\n",
            "C          59.954144\n",
            "Q          13.276030\n",
            "S          27.079812\n",
            "Unknown    80.000000\n",
            "Name: Fare, dtype: float64\n"
          ]
        }
      ]
    },
    {
      "cell_type": "code",
      "source": [
        "# 1 - How many men are in the database?\n",
        "print(data[data[\"Sex\"]==\"male\"]['Sex'].count())"
      ],
      "metadata": {
        "colab": {
          "base_uri": "https://localhost:8080/"
        },
        "id": "mtym3sxT_qP8",
        "outputId": "f3abfe36-c6e8-483d-9640-177e5b636799"
      },
      "execution_count": 519,
      "outputs": [
        {
          "output_type": "stream",
          "name": "stdout",
          "text": [
            "577\n"
          ]
        }
      ]
    },
    {
      "cell_type": "code",
      "source": [
        "#2 - How many children are in the database (less than 12 years old)?\n",
        "print(data[data['Age']<12]['Age'].count())"
      ],
      "metadata": {
        "colab": {
          "base_uri": "https://localhost:8080/"
        },
        "id": "UuKEtwoGAKBz",
        "outputId": "9dfbe498-e500-460d-cd36-9798742a5c49"
      },
      "execution_count": 520,
      "outputs": [
        {
          "output_type": "stream",
          "name": "stdout",
          "text": [
            "5\n"
          ]
        }
      ]
    },
    {
      "cell_type": "code",
      "source": [
        "#3 - How many married women are in the database?\n",
        "f_total = 0\n",
        "f_married = 0\n",
        "f_single = 0\n",
        "f_unknown = 0\n",
        "\n",
        "\n",
        "\n",
        "for i, v in data_raw[data_raw[\"Sex\"]==\"female\"][\"Name\"].items():\n",
        "  if \"Mrs\" in v:\n",
        "    f_married+=1\n",
        "  elif \"Miss\" in v:\n",
        "    f_single+=1\n",
        "  else:\n",
        "    f_unknown+=1\n",
        "  f_total+=1\n",
        "\n",
        "\n",
        "print(f'Married: {f_married}')\n",
        "print(f'Single: {f_single}')\n",
        "print(f'Unknown: {f_unknown}')\n",
        "print(f'Total: {f_total}')\n"
      ],
      "metadata": {
        "colab": {
          "base_uri": "https://localhost:8080/"
        },
        "id": "knFmvXkPAKeX",
        "outputId": "6669a763-562b-47ac-e9b5-6068484f341d"
      },
      "execution_count": 521,
      "outputs": [
        {
          "output_type": "stream",
          "name": "stdout",
          "text": [
            "Married: 129\n",
            "Single: 180\n",
            "Unknown: 5\n",
            "Total: 314\n"
          ]
        }
      ]
    },
    {
      "cell_type": "code",
      "source": [
        "#4 - What is the average age of survivors?\n",
        "print(data[data['Survived']==1]['Age'].mean())"
      ],
      "metadata": {
        "colab": {
          "base_uri": "https://localhost:8080/"
        },
        "id": "FbHaewseAsj2",
        "outputId": "ce1c813a-0dbf-451d-a168-ca64c3f97b8e"
      },
      "execution_count": 522,
      "outputs": [
        {
          "output_type": "stream",
          "name": "stdout",
          "text": [
            "28.406171373368423\n"
          ]
        }
      ]
    },
    {
      "cell_type": "code",
      "source": [
        "#5 - What is the price of the most expensive third-class ticket?\n",
        "print(data[data[\"Pclass\"]==3]['Fare'].max())"
      ],
      "metadata": {
        "colab": {
          "base_uri": "https://localhost:8080/"
        },
        "id": "0X7whk0pBKNK",
        "outputId": "285d1a8b-b2b0-4d4f-852b-e3114c6c77cf"
      },
      "execution_count": 523,
      "outputs": [
        {
          "output_type": "stream",
          "name": "stdout",
          "text": [
            "69.55\n"
          ]
        }
      ]
    },
    {
      "cell_type": "code",
      "source": [
        "#6 - Which man paid the most expensive ticket?\n",
        "print(data['Fare'].max())"
      ],
      "metadata": {
        "colab": {
          "base_uri": "https://localhost:8080/"
        },
        "id": "xlld2Vw3BZMV",
        "outputId": "1c1b72ce-3493-47b2-d056-2d3e0046271d"
      },
      "execution_count": 524,
      "outputs": [
        {
          "output_type": "stream",
          "name": "stdout",
          "text": [
            "512.3292\n"
          ]
        }
      ]
    },
    {
      "cell_type": "code",
      "source": [
        "#7 - How old is the wife of the owner of the ship Mr. John Jacob Astor in the wreck?\n",
        "for i, v in data_raw[\"Name\"].items():\n",
        "  if (\"Jacob\" in v) & (\"Astor\" in v):\n",
        "    print(data_raw.iloc[i])\n",
        "\n",
        "#print(data_raw[data_raw[\"Name\"] in \"Harris\"])\n"
      ],
      "metadata": {
        "colab": {
          "base_uri": "https://localhost:8080/"
        },
        "id": "lONS7sJ8BZV_",
        "outputId": "70b41231-9b7e-4f09-be10-bfdb1c725fc5"
      },
      "execution_count": 525,
      "outputs": [
        {
          "output_type": "stream",
          "name": "stdout",
          "text": [
            "PassengerId                                                  701\n",
            "Survived                                                       1\n",
            "Pclass                                                         1\n",
            "Name           Astor, Mrs. John Jacob (Madeleine Talmadge Force)\n",
            "Sex                                                       female\n",
            "Age                                                         18.0\n",
            "SibSp                                                          1\n",
            "Parch                                                          0\n",
            "Ticket                                                  PC 17757\n",
            "Fare                                                     227.525\n",
            "Cabin                                                    C62 C64\n",
            "Embarked                                                       C\n",
            "Name: 700, dtype: object\n"
          ]
        }
      ]
    },
    {
      "cell_type": "code",
      "source": [
        "for i, v in data_raw[\"Name\"].items():\n",
        "  if (\"Talmadge\" in v) & (\"Force\" in v):\n",
        "    print(data_raw.iloc[i])"
      ],
      "metadata": {
        "colab": {
          "base_uri": "https://localhost:8080/"
        },
        "id": "Zj_KqHvFEKcG",
        "outputId": "42f69f89-67b7-486c-d107-9382f94607e0"
      },
      "execution_count": 526,
      "outputs": [
        {
          "output_type": "stream",
          "name": "stdout",
          "text": [
            "PassengerId                                                  701\n",
            "Survived                                                       1\n",
            "Pclass                                                         1\n",
            "Name           Astor, Mrs. John Jacob (Madeleine Talmadge Force)\n",
            "Sex                                                       female\n",
            "Age                                                         18.0\n",
            "SibSp                                                          1\n",
            "Parch                                                          0\n",
            "Ticket                                                  PC 17757\n",
            "Fare                                                     227.525\n",
            "Cabin                                                    C62 C64\n",
            "Embarked                                                       C\n",
            "Name: 700, dtype: object\n"
          ]
        }
      ]
    },
    {
      "cell_type": "markdown",
      "source": [
        "#Others"
      ],
      "metadata": {
        "id": "mI0nEm8HI-rl"
      }
    },
    {
      "cell_type": "code",
      "source": [
        "# Gruping the same last names\n",
        "name_list = []\n",
        "name_lists =[]\n",
        "index_lists = []\n",
        "for i,v in data_only_num[\"Name\"].sort_values(ascending=True).iteritems():\n",
        "  name_list = v.split(', ')\n",
        "  name_lists.append(name_list[0])\n",
        "  index_lists.append(i)\n",
        "df_names = pd.DataFrame(data = name_lists, index = index_lists)\n",
        "join_df = data_only_num.join(df_names, how='inner')\n",
        "print(join_df.groupby(0).mean())\n",
        "print(len(data_only_num))"
      ],
      "metadata": {
        "colab": {
          "base_uri": "https://localhost:8080/"
        },
        "id": "hjLXUs63I-7Y",
        "outputId": "3157f819-9209-465f-c2aa-146ca27a31e3"
      },
      "execution_count": 527,
      "outputs": [
        {
          "output_type": "stream",
          "name": "stdout",
          "text": [
            "               PassengerId  Survived  Pclass  Sex        Age  SibSp  Parch  \\\n",
            "0                                                                            \n",
            "Abbing               846.0       0.0     3.0  0.0  30.726645    0.0    0.0   \n",
            "Abbott               513.5       0.5     3.0  0.5  33.184751    1.0    1.0   \n",
            "Abelson              592.0       0.5     2.0  0.5  33.184751    1.0    0.0   \n",
            "Adahl                366.0       0.0     3.0  0.0  30.726645    0.0    0.0   \n",
            "Adams                402.0       0.0     3.0  0.0  30.726645    0.0    0.0   \n",
            "...                    ...       ...     ...  ...        ...    ...    ...   \n",
            "de Mulder            287.0       1.0     3.0  0.0  30.726645    0.0    0.0   \n",
            "de Pelsmaeker        283.0       0.0     3.0  0.0  30.726645    0.0    0.0   \n",
            "del Carlo            362.0       0.0     2.0  0.0  30.726645    1.0    0.0   \n",
            "van Billiard         154.0       0.0     3.0  0.0  30.726645    0.0    2.0   \n",
            "van Melkebeke        869.0       0.0     3.0  0.0  30.726645    0.0    0.0   \n",
            "\n",
            "                  Fare  Embarked  Title  \n",
            "0                                        \n",
            "Abbing          7.5500       3.0    7.0  \n",
            "Abbott         20.2500       3.0    5.5  \n",
            "Abelson        24.0000       1.0    5.5  \n",
            "Adahl           7.2500       3.0    7.0  \n",
            "Adams           8.0500       3.0    7.0  \n",
            "...                ...       ...    ...  \n",
            "de Mulder       9.5000       3.0    7.0  \n",
            "de Pelsmaeker   9.5000       3.0    7.0  \n",
            "del Carlo      27.7208       1.0    7.0  \n",
            "van Billiard   14.5000       3.0    7.0  \n",
            "van Melkebeke   9.5000       3.0    7.0  \n",
            "\n",
            "[667 rows x 10 columns]\n",
            "891\n"
          ]
        }
      ]
    },
    {
      "cell_type": "markdown",
      "source": [
        "#Conclusions"
      ],
      "metadata": {
        "id": "1y6zW2T5byhD"
      }
    },
    {
      "cell_type": "markdown",
      "source": [
        "\n",
        "---\n",
        "The column 'PassengerId' are Equally distributed, 'Name' and 'Ticket' have soo many different names and 'Cabin' has too many NaN, so they do not have correlation with 'Survived'.\n",
        "\n",
        "---\n",
        "\n",
        "For all the others columns, Ho was rejected with less then 5% on p-value, so they differ from Survived. P-value from them:\n",
        "\n",
        "* Sex p= 1.1973570627755645e-58\n",
        "\n",
        "* Pclass  p= 4.549251711298793e-23\n",
        "\n",
        "* Fare p= 4.547532067492866e-22\n",
        "\n",
        "* Embarked p= 1.769922284120912e-06\n",
        "\n",
        "* SibSp p= 6.0554702010956636e-06\n",
        "\n",
        "* Parch p= 9.886126509051846e-06\n",
        "\n",
        "* Age p= 5.343261729736851e-05\n",
        "\n",
        "---\n",
        "**Sex have the smaller p-value, so it has the most correlation**\n",
        "\n",
        "---\n",
        "The Fares changes from Embarked places with p-value= 1.0994721986857202e-10. The Fares were higher in Cherbourg with average Fare of 59.94, after Southampton with 27.08 and for the last Queenstown with 13.28 \n",
        "\n",
        "---\n",
        "In our tests:\n",
        "\n",
        "Percent of men that survived: 18.890814558058924\n",
        "\n",
        "Percent of women that survived: 74.20382165605096\n",
        "\n",
        "Confirming the correlation\n",
        "\n",
        "---\n",
        "**Questions**\n",
        "\n",
        "* 1 - How many men are in the database?\n",
        "\n",
        "577 men\n",
        "\n",
        "* 2 - How many children are in the database (less than 12 years old)?\n",
        "\n",
        "68 children\n",
        "\n",
        "* 3 - How many married women are in the database?\n",
        "\n",
        "129 women married\n",
        "\n",
        "* 4 - What is the average age of survivors?\n",
        "\n",
        "28.55 years old\n",
        "\n",
        "* 5 - What is the price of the most expensive third-class ticket?\n",
        "\n",
        "69.55\n",
        "\n",
        "* 6 - Which man paid the most expensive ticket?\n",
        "\n",
        "512.3292\n",
        "\n",
        "* 7 - How old is the wife of the owner of the ship Mr. John Jacob Astor in the wreck?\n",
        "\n",
        "18 years old\n",
        "\n"
      ],
      "metadata": {
        "id": "qiHa4bVjWuLI"
      }
    }
  ]
}